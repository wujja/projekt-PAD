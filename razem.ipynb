{
 "cells": [
  {
   "cell_type": "code",
   "execution_count": 1,
   "metadata": {},
   "outputs": [],
   "source": [
    "import json\n",
    "import pandas as pd\n",
    "whole_data = []\n",
    "table_of_files = ['dataN.json','dataN2.json','dataN3.json', 'dataN4.json']\n",
    "for file in table_of_files:\n",
    "    with open(file) as f:\n",
    "        whole_data += json.load(f)\n",
    "\n",
    "df = pd.DataFrame(whole_data)\n",
    "\n",
    "df.to_csv('data.csv')"
   ]
  }
 ],
 "metadata": {
  "kernelspec": {
   "display_name": "Python 3.10.2 64-bit",
   "language": "python",
   "name": "python3"
  },
  "language_info": {
   "codemirror_mode": {
    "name": "ipython",
    "version": 3
   },
   "file_extension": ".py",
   "mimetype": "text/x-python",
   "name": "python",
   "nbconvert_exporter": "python",
   "pygments_lexer": "ipython3",
   "version": "3.10.2"
  },
  "orig_nbformat": 4,
  "vscode": {
   "interpreter": {
    "hash": "e6a6e11e4da8db2e5c33e964a64b7ad327a3cd8023fd813c59f97dd957741255"
   }
  }
 },
 "nbformat": 4,
 "nbformat_minor": 2
}
