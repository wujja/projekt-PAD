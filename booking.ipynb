{
 "cells": [
  {
   "cell_type": "code",
   "execution_count": null,
   "metadata": {},
   "outputs": [],
   "source": [
    "from selenium import webdriver\n",
    "from selenium.webdriver.common.by import By\n",
    "import time\n",
    "\n",
    "driver = webdriver.Chrome()\n",
    "driver.get('https://www.booking.com/hotel/pl/dune-resort-mielno-c.pl.html?label=gen173nr-1FCAEoggI46AdIM1gEaLYBiAEBmAEeuAEXyAEM2AEB6AEB-AELiAIBqAIDuAKbwbqUBsACAdICJGNiMDcwMWZlLTViMmEtNGJmMS1hNDYwLTZiMzVmYjM0ZGQ5MNgCBuACAQ&sid=0c7e1677cfaff16c37173cb734ab4f63&aid=304142&ucfs=1&arphpl=1&checkin=2022-07-02&checkout=2022-07-09&dest_id=-516374&dest_type=city&group_adults=2&req_adults=2&no_rooms=1&group_children=2&req_children=2&age=12&req_age=12&age=12&req_age=12&hpos=1&hapos=1&sr_order=popularity&srpvid=fc0ea6aa49ee017c&srepoch=1653522134&all_sr_blocks=454195302_138349233_4_0_0&highlighted_blocks=454195302_138349233_4_0_0&matching_block_id=454195302_138349233_4_0_0&sr_pri_blocks=454195302_138349233_4_0_0__608670&from_beach_sr=1&from=searchresults#hotelTmpl')\n",
    "time.sleep(2)\n",
    "cookie_button = driver.find_element(by=By.XPATH, value='//*[@id=\"onetrust-accept-btn-handler\"]')\n",
    "cookie_button.click()\n",
    "time.sleep(1)"
   ]
  },
  {
   "cell_type": "code",
   "execution_count": null,
   "metadata": {},
   "outputs": [
    {
     "name": "stdout",
     "output_type": "stream",
     "text": [
      "6 087 zł\n"
     ]
    }
   ],
   "source": [
    "price = driver.find_element(by=By.CLASS_NAME, value='prco-valign-middle-helper').text\n",
    "print(price)"
   ]
  },
  {
   "cell_type": "code",
   "execution_count": null,
   "metadata": {},
   "outputs": [
    {
     "name": "stdout",
     "output_type": "stream",
     "text": [
      "[['Mielno Beach', '100 m'], ['Sarbinowo Beach', '3,9 km'], ['Łazy Beach', '5 km'], ['Gąski Beach', '9 km']]\n"
     ]
    }
   ],
   "source": [
    "beaches = driver.find_elements(by=By.XPATH, value='//*[@id=\"basiclayout\"]/div[1]/div/div[24]/div/div[2]/div[4]/ul/li')\n",
    "\n",
    "beaches_list = []\n",
    "\n",
    "for beach in beaches:\n",
    "    beach_name = beach.find_element(by=By.TAG_NAME, value='span').text\n",
    "    beach_distance = beach.find_element(by=By.CLASS_NAME, value='hp_location_block__section_list_distance').text\n",
    "    beaches_list.append(([beach_name, beach_distance]))\n",
    "\n",
    "print(beaches_list)"
   ]
  }
 ],
 "metadata": {
  "interpreter": {
   "hash": "e6a6e11e4da8db2e5c33e964a64b7ad327a3cd8023fd813c59f97dd957741255"
  },
  "kernelspec": {
   "display_name": "Python 3.10.2 64-bit",
   "language": "python",
   "name": "python3"
  },
  "language_info": {
   "codemirror_mode": {
    "name": "ipython",
    "version": 3
   },
   "file_extension": ".py",
   "mimetype": "text/x-python",
   "name": "python",
   "nbconvert_exporter": "python",
   "pygments_lexer": "ipython3",
   "version": "3.10.2"
  },
  "orig_nbformat": 4
 },
 "nbformat": 4,
 "nbformat_minor": 2
}
