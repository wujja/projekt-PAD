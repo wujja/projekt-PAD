{
 "cells": [
  {
   "cell_type": "code",
   "execution_count": 68,
   "metadata": {},
   "outputs": [],
   "source": [
    "import json \n",
    "import pandas as pd\n",
    "import numpy as np\n",
    "import plotly.express as px\n",
    "import plotly.graph_objects as go\n",
    "\n",
    "#df = pd.read_json(\"data.json\")\n",
    "df = pd.read_csv('data.csv', index_col=0)"
   ]
  },
  {
   "cell_type": "code",
   "execution_count": 69,
   "metadata": {},
   "outputs": [
    {
     "data": {
      "text/html": [
       "<div>\n",
       "<style scoped>\n",
       "    .dataframe tbody tr th:only-of-type {\n",
       "        vertical-align: middle;\n",
       "    }\n",
       "\n",
       "    .dataframe tbody tr th {\n",
       "        vertical-align: top;\n",
       "    }\n",
       "\n",
       "    .dataframe thead th {\n",
       "        text-align: right;\n",
       "    }\n",
       "</style>\n",
       "<table border=\"1\" class=\"dataframe\">\n",
       "  <thead>\n",
       "    <tr style=\"text-align: right;\">\n",
       "      <th></th>\n",
       "      <th>hotel_name</th>\n",
       "      <th>hotel_city</th>\n",
       "      <th>hotel_price</th>\n",
       "      <th>Personel</th>\n",
       "      <th>Udogodnienia</th>\n",
       "      <th>Czystość</th>\n",
       "      <th>Komfort</th>\n",
       "      <th>Stosunek jakości do ceny</th>\n",
       "      <th>Lokalizacja</th>\n",
       "      <th>Bezpłatne WiFi</th>\n",
       "      <th>...</th>\n",
       "      <th>Usługi:prasa do spodni</th>\n",
       "      <th>Usługi:usługi konsjerża</th>\n",
       "      <th>Rekreacja:solarium\\nDodatkowa opłata</th>\n",
       "      <th>Basen – odkryty (dla dzieci):ręczniki kąpielowe/plażowe</th>\n",
       "      <th>Basen – odkryty (dla dzieci):zabawki do wody</th>\n",
       "      <th>Basen – odkryty (dla dzieci):basen bez krawędzi</th>\n",
       "      <th>Rekreacja:wieczory tematyczne z kolacją\\nPoza obiektem</th>\n",
       "      <th>Rekreacja:kasyno</th>\n",
       "      <th>Okolica:prywatna plaża\\nDodatkowa opłata</th>\n",
       "      <th>Odkryty basen:Basen na dachu</th>\n",
       "    </tr>\n",
       "  </thead>\n",
       "  <tbody>\n",
       "    <tr>\n",
       "      <th>0</th>\n",
       "      <td>Pokoje Gościnne Przy Molo</td>\n",
       "      <td>Gdynia</td>\n",
       "      <td>3 524 zł</td>\n",
       "      <td>9,2</td>\n",
       "      <td>8,4</td>\n",
       "      <td>8,8</td>\n",
       "      <td>8,4</td>\n",
       "      <td>8,3</td>\n",
       "      <td>9,6</td>\n",
       "      <td>8,7</td>\n",
       "      <td>...</td>\n",
       "      <td>NaN</td>\n",
       "      <td>NaN</td>\n",
       "      <td>NaN</td>\n",
       "      <td>NaN</td>\n",
       "      <td>NaN</td>\n",
       "      <td>NaN</td>\n",
       "      <td>NaN</td>\n",
       "      <td>NaN</td>\n",
       "      <td>NaN</td>\n",
       "      <td>NaN</td>\n",
       "    </tr>\n",
       "    <tr>\n",
       "      <th>1</th>\n",
       "      <td>Aparthotel Square - By The Sea</td>\n",
       "      <td>Gdynia</td>\n",
       "      <td>3 263</td>\n",
       "      <td>9,4</td>\n",
       "      <td>9,3</td>\n",
       "      <td>9,6</td>\n",
       "      <td>9,7</td>\n",
       "      <td>9,3</td>\n",
       "      <td>9,5</td>\n",
       "      <td>9,2</td>\n",
       "      <td>...</td>\n",
       "      <td>NaN</td>\n",
       "      <td>NaN</td>\n",
       "      <td>NaN</td>\n",
       "      <td>NaN</td>\n",
       "      <td>NaN</td>\n",
       "      <td>NaN</td>\n",
       "      <td>NaN</td>\n",
       "      <td>NaN</td>\n",
       "      <td>NaN</td>\n",
       "      <td>NaN</td>\n",
       "    </tr>\n",
       "    <tr>\n",
       "      <th>2</th>\n",
       "      <td>Villa Magna</td>\n",
       "      <td>Gdynia</td>\n",
       "      <td>2 457 zł</td>\n",
       "      <td>9,5</td>\n",
       "      <td>9,0</td>\n",
       "      <td>9,0</td>\n",
       "      <td>8,9</td>\n",
       "      <td>9,0</td>\n",
       "      <td>8,4</td>\n",
       "      <td>8,7</td>\n",
       "      <td>...</td>\n",
       "      <td>NaN</td>\n",
       "      <td>NaN</td>\n",
       "      <td>NaN</td>\n",
       "      <td>NaN</td>\n",
       "      <td>NaN</td>\n",
       "      <td>NaN</td>\n",
       "      <td>NaN</td>\n",
       "      <td>NaN</td>\n",
       "      <td>NaN</td>\n",
       "      <td>NaN</td>\n",
       "    </tr>\n",
       "    <tr>\n",
       "      <th>3</th>\n",
       "      <td>Apartament Gdynia Witomino z widokiem na morze</td>\n",
       "      <td>Gdynia</td>\n",
       "      <td>2 028</td>\n",
       "      <td>NaN</td>\n",
       "      <td>NaN</td>\n",
       "      <td>NaN</td>\n",
       "      <td>NaN</td>\n",
       "      <td>NaN</td>\n",
       "      <td>NaN</td>\n",
       "      <td>NaN</td>\n",
       "      <td>...</td>\n",
       "      <td>NaN</td>\n",
       "      <td>NaN</td>\n",
       "      <td>NaN</td>\n",
       "      <td>NaN</td>\n",
       "      <td>NaN</td>\n",
       "      <td>NaN</td>\n",
       "      <td>NaN</td>\n",
       "      <td>NaN</td>\n",
       "      <td>NaN</td>\n",
       "      <td>NaN</td>\n",
       "    </tr>\n",
       "    <tr>\n",
       "      <th>4</th>\n",
       "      <td>Apartamenty z tarasami - Moja Gdynia</td>\n",
       "      <td>Gdynia</td>\n",
       "      <td>2 443</td>\n",
       "      <td>NaN</td>\n",
       "      <td>NaN</td>\n",
       "      <td>NaN</td>\n",
       "      <td>NaN</td>\n",
       "      <td>NaN</td>\n",
       "      <td>NaN</td>\n",
       "      <td>NaN</td>\n",
       "      <td>...</td>\n",
       "      <td>NaN</td>\n",
       "      <td>NaN</td>\n",
       "      <td>NaN</td>\n",
       "      <td>NaN</td>\n",
       "      <td>NaN</td>\n",
       "      <td>NaN</td>\n",
       "      <td>NaN</td>\n",
       "      <td>NaN</td>\n",
       "      <td>NaN</td>\n",
       "      <td>NaN</td>\n",
       "    </tr>\n",
       "    <tr>\n",
       "      <th>...</th>\n",
       "      <td>...</td>\n",
       "      <td>...</td>\n",
       "      <td>...</td>\n",
       "      <td>...</td>\n",
       "      <td>...</td>\n",
       "      <td>...</td>\n",
       "      <td>...</td>\n",
       "      <td>...</td>\n",
       "      <td>...</td>\n",
       "      <td>...</td>\n",
       "      <td>...</td>\n",
       "      <td>...</td>\n",
       "      <td>...</td>\n",
       "      <td>...</td>\n",
       "      <td>...</td>\n",
       "      <td>...</td>\n",
       "      <td>...</td>\n",
       "      <td>...</td>\n",
       "      <td>...</td>\n",
       "      <td>...</td>\n",
       "      <td>...</td>\n",
       "    </tr>\n",
       "    <tr>\n",
       "      <th>1847</th>\n",
       "      <td>Skarb Morza</td>\n",
       "      <td>Międzyzdroje</td>\n",
       "      <td>2 478 zł</td>\n",
       "      <td>9,0</td>\n",
       "      <td>7,6</td>\n",
       "      <td>8,4</td>\n",
       "      <td>8,0</td>\n",
       "      <td>7,8</td>\n",
       "      <td>9,3</td>\n",
       "      <td>6,0</td>\n",
       "      <td>...</td>\n",
       "      <td>NaN</td>\n",
       "      <td>NaN</td>\n",
       "      <td>NaN</td>\n",
       "      <td>NaN</td>\n",
       "      <td>NaN</td>\n",
       "      <td>NaN</td>\n",
       "      <td>NaN</td>\n",
       "      <td>NaN</td>\n",
       "      <td>NaN</td>\n",
       "      <td>NaN</td>\n",
       "    </tr>\n",
       "    <tr>\n",
       "      <th>1848</th>\n",
       "      <td>APARTAMENT RODZINNY MIĘDZYZDROJE</td>\n",
       "      <td>Międzyzdroje</td>\n",
       "      <td>5 180</td>\n",
       "      <td>NaN</td>\n",
       "      <td>NaN</td>\n",
       "      <td>NaN</td>\n",
       "      <td>NaN</td>\n",
       "      <td>NaN</td>\n",
       "      <td>NaN</td>\n",
       "      <td>NaN</td>\n",
       "      <td>...</td>\n",
       "      <td>NaN</td>\n",
       "      <td>NaN</td>\n",
       "      <td>NaN</td>\n",
       "      <td>NaN</td>\n",
       "      <td>NaN</td>\n",
       "      <td>NaN</td>\n",
       "      <td>NaN</td>\n",
       "      <td>NaN</td>\n",
       "      <td>NaN</td>\n",
       "      <td>NaN</td>\n",
       "    </tr>\n",
       "    <tr>\n",
       "      <th>1849</th>\n",
       "      <td>Rent like home - Willa Perła 8</td>\n",
       "      <td>Międzyzdroje</td>\n",
       "      <td>8 755 zł</td>\n",
       "      <td>NaN</td>\n",
       "      <td>NaN</td>\n",
       "      <td>NaN</td>\n",
       "      <td>NaN</td>\n",
       "      <td>NaN</td>\n",
       "      <td>NaN</td>\n",
       "      <td>NaN</td>\n",
       "      <td>...</td>\n",
       "      <td>NaN</td>\n",
       "      <td>NaN</td>\n",
       "      <td>NaN</td>\n",
       "      <td>NaN</td>\n",
       "      <td>NaN</td>\n",
       "      <td>NaN</td>\n",
       "      <td>NaN</td>\n",
       "      <td>NaN</td>\n",
       "      <td>NaN</td>\n",
       "      <td>NaN</td>\n",
       "    </tr>\n",
       "    <tr>\n",
       "      <th>1850</th>\n",
       "      <td>Margaret V.I.P.</td>\n",
       "      <td>Międzyzdroje</td>\n",
       "      <td>9 044</td>\n",
       "      <td>9,2</td>\n",
       "      <td>9,2</td>\n",
       "      <td>9,2</td>\n",
       "      <td>9,2</td>\n",
       "      <td>9,2</td>\n",
       "      <td>10</td>\n",
       "      <td>NaN</td>\n",
       "      <td>...</td>\n",
       "      <td>NaN</td>\n",
       "      <td>NaN</td>\n",
       "      <td>NaN</td>\n",
       "      <td>NaN</td>\n",
       "      <td>NaN</td>\n",
       "      <td>NaN</td>\n",
       "      <td>NaN</td>\n",
       "      <td>NaN</td>\n",
       "      <td>NaN</td>\n",
       "      <td>1.0</td>\n",
       "    </tr>\n",
       "    <tr>\n",
       "      <th>1851</th>\n",
       "      <td>Apartamenty Sun &amp; Snow Wave</td>\n",
       "      <td>Międzyzdroje</td>\n",
       "      <td>11 607 zł</td>\n",
       "      <td>NaN</td>\n",
       "      <td>NaN</td>\n",
       "      <td>NaN</td>\n",
       "      <td>NaN</td>\n",
       "      <td>NaN</td>\n",
       "      <td>NaN</td>\n",
       "      <td>NaN</td>\n",
       "      <td>...</td>\n",
       "      <td>NaN</td>\n",
       "      <td>NaN</td>\n",
       "      <td>NaN</td>\n",
       "      <td>NaN</td>\n",
       "      <td>NaN</td>\n",
       "      <td>NaN</td>\n",
       "      <td>NaN</td>\n",
       "      <td>NaN</td>\n",
       "      <td>NaN</td>\n",
       "      <td>NaN</td>\n",
       "    </tr>\n",
       "  </tbody>\n",
       "</table>\n",
       "<p>1852 rows × 776 columns</p>\n",
       "</div>"
      ],
      "text/plain": [
       "                                          hotel_name    hotel_city  \\\n",
       "0                          Pokoje Gościnne Przy Molo        Gdynia   \n",
       "1                     Aparthotel Square - By The Sea        Gdynia   \n",
       "2                                        Villa Magna        Gdynia   \n",
       "3     Apartament Gdynia Witomino z widokiem na morze        Gdynia   \n",
       "4               Apartamenty z tarasami - Moja Gdynia        Gdynia   \n",
       "...                                              ...           ...   \n",
       "1847                                     Skarb Morza  Międzyzdroje   \n",
       "1848                APARTAMENT RODZINNY MIĘDZYZDROJE  Międzyzdroje   \n",
       "1849                  Rent like home - Willa Perła 8  Międzyzdroje   \n",
       "1850                                 Margaret V.I.P.  Międzyzdroje   \n",
       "1851                     Apartamenty Sun & Snow Wave  Międzyzdroje   \n",
       "\n",
       "     hotel_price Personel Udogodnienia Czystość Komfort  \\\n",
       "0       3 524 zł      9,2          8,4      8,8     8,4   \n",
       "1         3 263       9,4          9,3      9,6     9,7   \n",
       "2       2 457 zł      9,5          9,0      9,0     8,9   \n",
       "3         2 028       NaN          NaN      NaN     NaN   \n",
       "4         2 443       NaN          NaN      NaN     NaN   \n",
       "...          ...      ...          ...      ...     ...   \n",
       "1847    2 478 zł      9,0          7,6      8,4     8,0   \n",
       "1848      5 180       NaN          NaN      NaN     NaN   \n",
       "1849    8 755 zł      NaN          NaN      NaN     NaN   \n",
       "1850      9 044       9,2          9,2      9,2     9,2   \n",
       "1851   11 607 zł      NaN          NaN      NaN     NaN   \n",
       "\n",
       "     Stosunek jakości do ceny Lokalizacja Bezpłatne WiFi  ...  \\\n",
       "0                         8,3         9,6            8,7  ...   \n",
       "1                         9,3         9,5            9,2  ...   \n",
       "2                         9,0         8,4            8,7  ...   \n",
       "3                         NaN         NaN            NaN  ...   \n",
       "4                         NaN         NaN            NaN  ...   \n",
       "...                       ...         ...            ...  ...   \n",
       "1847                      7,8         9,3            6,0  ...   \n",
       "1848                      NaN         NaN            NaN  ...   \n",
       "1849                      NaN         NaN            NaN  ...   \n",
       "1850                      9,2          10            NaN  ...   \n",
       "1851                      NaN         NaN            NaN  ...   \n",
       "\n",
       "      Usługi:prasa do spodni  Usługi:usługi konsjerża  \\\n",
       "0                        NaN                      NaN   \n",
       "1                        NaN                      NaN   \n",
       "2                        NaN                      NaN   \n",
       "3                        NaN                      NaN   \n",
       "4                        NaN                      NaN   \n",
       "...                      ...                      ...   \n",
       "1847                     NaN                      NaN   \n",
       "1848                     NaN                      NaN   \n",
       "1849                     NaN                      NaN   \n",
       "1850                     NaN                      NaN   \n",
       "1851                     NaN                      NaN   \n",
       "\n",
       "      Rekreacja:solarium\\nDodatkowa opłata  \\\n",
       "0                                      NaN   \n",
       "1                                      NaN   \n",
       "2                                      NaN   \n",
       "3                                      NaN   \n",
       "4                                      NaN   \n",
       "...                                    ...   \n",
       "1847                                   NaN   \n",
       "1848                                   NaN   \n",
       "1849                                   NaN   \n",
       "1850                                   NaN   \n",
       "1851                                   NaN   \n",
       "\n",
       "      Basen – odkryty (dla dzieci):ręczniki kąpielowe/plażowe  \\\n",
       "0                                                   NaN         \n",
       "1                                                   NaN         \n",
       "2                                                   NaN         \n",
       "3                                                   NaN         \n",
       "4                                                   NaN         \n",
       "...                                                 ...         \n",
       "1847                                                NaN         \n",
       "1848                                                NaN         \n",
       "1849                                                NaN         \n",
       "1850                                                NaN         \n",
       "1851                                                NaN         \n",
       "\n",
       "      Basen – odkryty (dla dzieci):zabawki do wody  \\\n",
       "0                                              NaN   \n",
       "1                                              NaN   \n",
       "2                                              NaN   \n",
       "3                                              NaN   \n",
       "4                                              NaN   \n",
       "...                                            ...   \n",
       "1847                                           NaN   \n",
       "1848                                           NaN   \n",
       "1849                                           NaN   \n",
       "1850                                           NaN   \n",
       "1851                                           NaN   \n",
       "\n",
       "      Basen – odkryty (dla dzieci):basen bez krawędzi  \\\n",
       "0                                                 NaN   \n",
       "1                                                 NaN   \n",
       "2                                                 NaN   \n",
       "3                                                 NaN   \n",
       "4                                                 NaN   \n",
       "...                                               ...   \n",
       "1847                                              NaN   \n",
       "1848                                              NaN   \n",
       "1849                                              NaN   \n",
       "1850                                              NaN   \n",
       "1851                                              NaN   \n",
       "\n",
       "      Rekreacja:wieczory tematyczne z kolacją\\nPoza obiektem  \\\n",
       "0                                                   NaN        \n",
       "1                                                   NaN        \n",
       "2                                                   NaN        \n",
       "3                                                   NaN        \n",
       "4                                                   NaN        \n",
       "...                                                 ...        \n",
       "1847                                                NaN        \n",
       "1848                                                NaN        \n",
       "1849                                                NaN        \n",
       "1850                                                NaN        \n",
       "1851                                                NaN        \n",
       "\n",
       "      Rekreacja:kasyno  Okolica:prywatna plaża\\nDodatkowa opłata  \\\n",
       "0                  NaN                                       NaN   \n",
       "1                  NaN                                       NaN   \n",
       "2                  NaN                                       NaN   \n",
       "3                  NaN                                       NaN   \n",
       "4                  NaN                                       NaN   \n",
       "...                ...                                       ...   \n",
       "1847               NaN                                       NaN   \n",
       "1848               NaN                                       NaN   \n",
       "1849               NaN                                       NaN   \n",
       "1850               NaN                                       NaN   \n",
       "1851               NaN                                       NaN   \n",
       "\n",
       "      Odkryty basen:Basen na dachu  \n",
       "0                              NaN  \n",
       "1                              NaN  \n",
       "2                              NaN  \n",
       "3                              NaN  \n",
       "4                              NaN  \n",
       "...                            ...  \n",
       "1847                           NaN  \n",
       "1848                           NaN  \n",
       "1849                           NaN  \n",
       "1850                           1.0  \n",
       "1851                           NaN  \n",
       "\n",
       "[1852 rows x 776 columns]"
      ]
     },
     "execution_count": 69,
     "metadata": {},
     "output_type": "execute_result"
    }
   ],
   "source": [
    "df"
   ]
  },
  {
   "cell_type": "code",
   "execution_count": 70,
   "metadata": {},
   "outputs": [
    {
     "data": {
      "text/plain": [
       "hotel_name                                                 object\n",
       "hotel_city                                                 object\n",
       "hotel_price                                                 int32\n",
       "Personel                                                  float64\n",
       "Udogodnienia                                              float64\n",
       "                                                           ...   \n",
       "Basen – odkryty (dla dzieci):basen bez krawędzi           float64\n",
       "Rekreacja:wieczory tematyczne z kolacją\\nPoza obiektem    float64\n",
       "Rekreacja:kasyno                                          float64\n",
       "Okolica:prywatna plaża\\nDodatkowa opłata                  float64\n",
       "Odkryty basen:Basen na dachu                              float64\n",
       "Length: 776, dtype: object"
      ]
     },
     "execution_count": 70,
     "metadata": {},
     "output_type": "execute_result"
    }
   ],
   "source": [
    "col_with_comma = ['Personel', 'Udogodnienia', 'Czystość', 'Komfort', 'Stosunek jakości do ceny', 'Lokalizacja', 'Bezpłatne WiFi']\n",
    "for col in col_with_comma:\n",
    "    df[col] = df[col].str.replace(\",\",\".\").astype(float)\n",
    "df['hotel_price'] = df['hotel_price'].str.replace('zł','').str.replace(' ','').astype(int)\n",
    "df.dtypes"
   ]
  },
  {
   "cell_type": "code",
   "execution_count": 71,
   "metadata": {},
   "outputs": [
    {
     "name": "stdout",
     "output_type": "stream",
     "text": [
      "before: 1852\n",
      "after: 1640\n"
     ]
    }
   ],
   "source": [
    "print(f'before: {df.shape[0]}')\n",
    "df = df.dropna(subset=['Personel'])\n",
    "df = df.reset_index(drop=True)\n",
    "print(f'after: {df.shape[0]}')"
   ]
  },
  {
   "cell_type": "code",
   "execution_count": 72,
   "metadata": {},
   "outputs": [
    {
     "data": {
      "text/plain": [
       "False    1490\n",
       "True      150\n",
       "dtype: int64"
      ]
     },
     "execution_count": 72,
     "metadata": {},
     "output_type": "execute_result"
    }
   ],
   "source": [
    "number_of_duplicated_value =  df.duplicated().value_counts()\n",
    "number_of_duplicated_value"
   ]
  },
  {
   "cell_type": "code",
   "execution_count": 73,
   "metadata": {},
   "outputs": [
    {
     "data": {
      "text/plain": [
       "1490"
      ]
     },
     "execution_count": 73,
     "metadata": {},
     "output_type": "execute_result"
    }
   ],
   "source": [
    "df.drop_duplicates(inplace=True)\n",
    "df.shape[0]"
   ]
  },
  {
   "cell_type": "code",
   "execution_count": 74,
   "metadata": {},
   "outputs": [
    {
     "name": "stdout",
     "output_type": "stream",
     "text": [
      "before: 1490\n",
      "8895.385000000007\n",
      "after: 1482\n"
     ]
    }
   ],
   "source": [
    "print(f'before: {df.shape[0]}')\n",
    "max_value = df['hotel_price'].quantile(0.995)\n",
    "print(max_value)\n",
    "df = df[df['hotel_price'] <= max_value]\n",
    "print(f'after: {df.shape[0]}')"
   ]
  },
  {
   "cell_type": "code",
   "execution_count": 75,
   "metadata": {},
   "outputs": [],
   "source": [
    "df.to_csv('data_outliners.csv')"
   ]
  },
  {
   "cell_type": "code",
   "execution_count": 76,
   "metadata": {},
   "outputs": [],
   "source": [
    "df_copy = df.copy()"
   ]
  },
  {
   "cell_type": "code",
   "execution_count": 77,
   "metadata": {},
   "outputs": [
    {
     "data": {
      "text/html": [
       "<div>\n",
       "<style scoped>\n",
       "    .dataframe tbody tr th:only-of-type {\n",
       "        vertical-align: middle;\n",
       "    }\n",
       "\n",
       "    .dataframe tbody tr th {\n",
       "        vertical-align: top;\n",
       "    }\n",
       "\n",
       "    .dataframe thead th {\n",
       "        text-align: right;\n",
       "    }\n",
       "</style>\n",
       "<table border=\"1\" class=\"dataframe\">\n",
       "  <thead>\n",
       "    <tr style=\"text-align: right;\">\n",
       "      <th></th>\n",
       "      <th>hotel_name</th>\n",
       "      <th>hotel_city</th>\n",
       "      <th>hotel_price</th>\n",
       "      <th>Personel</th>\n",
       "      <th>Udogodnienia</th>\n",
       "      <th>Czystość</th>\n",
       "      <th>Komfort</th>\n",
       "      <th>Stosunek jakości do ceny</th>\n",
       "      <th>Lokalizacja</th>\n",
       "      <th>Bezpłatne WiFi</th>\n",
       "      <th>...</th>\n",
       "      <th>Usługi:prasa do spodni</th>\n",
       "      <th>Usługi:usługi konsjerża</th>\n",
       "      <th>Rekreacja:solarium\\nDodatkowa opłata</th>\n",
       "      <th>Basen – odkryty (dla dzieci):ręczniki kąpielowe/plażowe</th>\n",
       "      <th>Basen – odkryty (dla dzieci):zabawki do wody</th>\n",
       "      <th>Basen – odkryty (dla dzieci):basen bez krawędzi</th>\n",
       "      <th>Rekreacja:wieczory tematyczne z kolacją\\nPoza obiektem</th>\n",
       "      <th>Rekreacja:kasyno</th>\n",
       "      <th>Okolica:prywatna plaża\\nDodatkowa opłata</th>\n",
       "      <th>Odkryty basen:Basen na dachu</th>\n",
       "    </tr>\n",
       "  </thead>\n",
       "  <tbody>\n",
       "    <tr>\n",
       "      <th>0</th>\n",
       "      <td>Pokoje Gościnne Przy Molo</td>\n",
       "      <td>Gdynia</td>\n",
       "      <td>3524</td>\n",
       "      <td>9.2</td>\n",
       "      <td>8.4</td>\n",
       "      <td>8.8</td>\n",
       "      <td>8.4</td>\n",
       "      <td>8.3</td>\n",
       "      <td>9.6</td>\n",
       "      <td>8.7</td>\n",
       "      <td>...</td>\n",
       "      <td>NaN</td>\n",
       "      <td>NaN</td>\n",
       "      <td>NaN</td>\n",
       "      <td>NaN</td>\n",
       "      <td>NaN</td>\n",
       "      <td>NaN</td>\n",
       "      <td>NaN</td>\n",
       "      <td>NaN</td>\n",
       "      <td>NaN</td>\n",
       "      <td>NaN</td>\n",
       "    </tr>\n",
       "    <tr>\n",
       "      <th>1</th>\n",
       "      <td>Aparthotel Square - By The Sea</td>\n",
       "      <td>Gdynia</td>\n",
       "      <td>3263</td>\n",
       "      <td>9.4</td>\n",
       "      <td>9.3</td>\n",
       "      <td>9.6</td>\n",
       "      <td>9.7</td>\n",
       "      <td>9.3</td>\n",
       "      <td>9.5</td>\n",
       "      <td>9.2</td>\n",
       "      <td>...</td>\n",
       "      <td>NaN</td>\n",
       "      <td>NaN</td>\n",
       "      <td>NaN</td>\n",
       "      <td>NaN</td>\n",
       "      <td>NaN</td>\n",
       "      <td>NaN</td>\n",
       "      <td>NaN</td>\n",
       "      <td>NaN</td>\n",
       "      <td>NaN</td>\n",
       "      <td>NaN</td>\n",
       "    </tr>\n",
       "    <tr>\n",
       "      <th>2</th>\n",
       "      <td>Villa Magna</td>\n",
       "      <td>Gdynia</td>\n",
       "      <td>2457</td>\n",
       "      <td>9.5</td>\n",
       "      <td>9.0</td>\n",
       "      <td>9.0</td>\n",
       "      <td>8.9</td>\n",
       "      <td>9.0</td>\n",
       "      <td>8.4</td>\n",
       "      <td>8.7</td>\n",
       "      <td>...</td>\n",
       "      <td>NaN</td>\n",
       "      <td>NaN</td>\n",
       "      <td>NaN</td>\n",
       "      <td>NaN</td>\n",
       "      <td>NaN</td>\n",
       "      <td>NaN</td>\n",
       "      <td>NaN</td>\n",
       "      <td>NaN</td>\n",
       "      <td>NaN</td>\n",
       "      <td>NaN</td>\n",
       "    </tr>\n",
       "    <tr>\n",
       "      <th>3</th>\n",
       "      <td>Apartamenty Andrzejczyk - Świętojańska 96</td>\n",
       "      <td>Gdynia</td>\n",
       "      <td>2017</td>\n",
       "      <td>9.4</td>\n",
       "      <td>8.7</td>\n",
       "      <td>8.8</td>\n",
       "      <td>8.9</td>\n",
       "      <td>8.7</td>\n",
       "      <td>9.5</td>\n",
       "      <td>9.6</td>\n",
       "      <td>...</td>\n",
       "      <td>NaN</td>\n",
       "      <td>NaN</td>\n",
       "      <td>NaN</td>\n",
       "      <td>NaN</td>\n",
       "      <td>NaN</td>\n",
       "      <td>NaN</td>\n",
       "      <td>NaN</td>\n",
       "      <td>NaN</td>\n",
       "      <td>NaN</td>\n",
       "      <td>NaN</td>\n",
       "    </tr>\n",
       "    <tr>\n",
       "      <th>4</th>\n",
       "      <td>Redłowska Kaskada D39</td>\n",
       "      <td>Gdynia</td>\n",
       "      <td>2059</td>\n",
       "      <td>9.2</td>\n",
       "      <td>9.6</td>\n",
       "      <td>10.0</td>\n",
       "      <td>9.6</td>\n",
       "      <td>9.6</td>\n",
       "      <td>10.0</td>\n",
       "      <td>NaN</td>\n",
       "      <td>...</td>\n",
       "      <td>NaN</td>\n",
       "      <td>NaN</td>\n",
       "      <td>NaN</td>\n",
       "      <td>NaN</td>\n",
       "      <td>NaN</td>\n",
       "      <td>NaN</td>\n",
       "      <td>NaN</td>\n",
       "      <td>NaN</td>\n",
       "      <td>NaN</td>\n",
       "      <td>NaN</td>\n",
       "    </tr>\n",
       "  </tbody>\n",
       "</table>\n",
       "<p>5 rows × 776 columns</p>\n",
       "</div>"
      ],
      "text/plain": [
       "                                  hotel_name hotel_city  hotel_price  \\\n",
       "0                  Pokoje Gościnne Przy Molo     Gdynia         3524   \n",
       "1             Aparthotel Square - By The Sea     Gdynia         3263   \n",
       "2                                Villa Magna     Gdynia         2457   \n",
       "3  Apartamenty Andrzejczyk - Świętojańska 96     Gdynia         2017   \n",
       "4                      Redłowska Kaskada D39     Gdynia         2059   \n",
       "\n",
       "   Personel  Udogodnienia  Czystość  Komfort  Stosunek jakości do ceny  \\\n",
       "0       9.2           8.4       8.8      8.4                       8.3   \n",
       "1       9.4           9.3       9.6      9.7                       9.3   \n",
       "2       9.5           9.0       9.0      8.9                       9.0   \n",
       "3       9.4           8.7       8.8      8.9                       8.7   \n",
       "4       9.2           9.6      10.0      9.6                       9.6   \n",
       "\n",
       "   Lokalizacja  Bezpłatne WiFi  ...  Usługi:prasa do spodni  \\\n",
       "0          9.6             8.7  ...                     NaN   \n",
       "1          9.5             9.2  ...                     NaN   \n",
       "2          8.4             8.7  ...                     NaN   \n",
       "3          9.5             9.6  ...                     NaN   \n",
       "4         10.0             NaN  ...                     NaN   \n",
       "\n",
       "   Usługi:usługi konsjerża  Rekreacja:solarium\\nDodatkowa opłata  \\\n",
       "0                      NaN                                   NaN   \n",
       "1                      NaN                                   NaN   \n",
       "2                      NaN                                   NaN   \n",
       "3                      NaN                                   NaN   \n",
       "4                      NaN                                   NaN   \n",
       "\n",
       "   Basen – odkryty (dla dzieci):ręczniki kąpielowe/plażowe  \\\n",
       "0                                                NaN         \n",
       "1                                                NaN         \n",
       "2                                                NaN         \n",
       "3                                                NaN         \n",
       "4                                                NaN         \n",
       "\n",
       "   Basen – odkryty (dla dzieci):zabawki do wody  \\\n",
       "0                                           NaN   \n",
       "1                                           NaN   \n",
       "2                                           NaN   \n",
       "3                                           NaN   \n",
       "4                                           NaN   \n",
       "\n",
       "   Basen – odkryty (dla dzieci):basen bez krawędzi  \\\n",
       "0                                              NaN   \n",
       "1                                              NaN   \n",
       "2                                              NaN   \n",
       "3                                              NaN   \n",
       "4                                              NaN   \n",
       "\n",
       "   Rekreacja:wieczory tematyczne z kolacją\\nPoza obiektem  Rekreacja:kasyno  \\\n",
       "0                                                NaN                    NaN   \n",
       "1                                                NaN                    NaN   \n",
       "2                                                NaN                    NaN   \n",
       "3                                                NaN                    NaN   \n",
       "4                                                NaN                    NaN   \n",
       "\n",
       "   Okolica:prywatna plaża\\nDodatkowa opłata  Odkryty basen:Basen na dachu  \n",
       "0                                       NaN                           NaN  \n",
       "1                                       NaN                           NaN  \n",
       "2                                       NaN                           NaN  \n",
       "3                                       NaN                           NaN  \n",
       "4                                       NaN                           NaN  \n",
       "\n",
       "[5 rows x 776 columns]"
      ]
     },
     "execution_count": 77,
     "metadata": {},
     "output_type": "execute_result"
    }
   ],
   "source": [
    "df.head(5)"
   ]
  },
  {
   "cell_type": "code",
   "execution_count": 78,
   "metadata": {},
   "outputs": [
    {
     "name": "stdout",
     "output_type": "stream",
     "text": [
      "776\n",
      "hotel_name\n",
      "hotel_city\n",
      "hotel_price\n",
      "Personel\n",
      "Udogodnienia\n",
      "Czystość\n",
      "Komfort\n",
      "Stosunek jakości do ceny\n",
      "Lokalizacja\n",
      "Bezpłatne WiFi\n",
      "Łazienka\n",
      "Sypialnia\n",
      "Okolica\n",
      "Kuchnia\n",
      "Udogodnienia w pokoju\n",
      "Salon\n",
      "Media/Technologia\n",
      "Parking\n",
      "Bezpieczeństwo\n",
      "Ogólne\n",
      "Języki\n",
      "Usługi recepcji\n",
      "Udogodnienia dla niepełnosprawnych\n",
      "Różne\n",
      "Posiłki i napoje\n",
      "Okolica i widok\n",
      "Rekreacja\n",
      "Cechy budynku\n",
      "Sklepy\n",
      "Transport\n",
      "Usługi dla rodzin i oferta rozrywkowa\n",
      "Usługi sprzątania\n",
      "Zaplecze biznesowe\n",
      "Zaplecze odnowy biologicznej\n",
      "Widok\n",
      "Kryty basen\n",
      "Centrum wellness\n",
      "Usługi dodatkowe\n",
      "Usługi\n",
      "Basen i odnowa biologiczna\n",
      "Pomieszczenia ogólnodostępne\n",
      "2 basenów\n",
      "Odkryty basen\n",
      "3 basenów\n",
      "Basen – odkryty (dla dzieci)\n",
      "45\n"
     ]
    }
   ],
   "source": [
    "print(len(df.columns))\n",
    "cattegory = []\n",
    "for col in df.columns:\n",
    "    if(col.split(':')[0] not in cattegory):\n",
    "        print(col.split(':')[0])\n",
    "        cattegory.append(col.split(':')[0])\n",
    "print(len(cattegory))"
   ]
  },
  {
   "cell_type": "code",
   "execution_count": 79,
   "metadata": {},
   "outputs": [
    {
     "name": "stdout",
     "output_type": "stream",
     "text": [
      "291\n"
     ]
    }
   ],
   "source": [
    "df.isna().sum()\n",
    "how_many_drop = 0\n",
    "percent_of_hotels = df.shape[0] * 0.995\n",
    "for col in df.columns:\n",
    "    if(df[col].isna().sum() > percent_of_hotels):\n",
    "        df = df.drop(columns=col)\n",
    "        how_many_drop = how_many_drop + 1\n",
    "print(how_many_drop)"
   ]
  },
  {
   "cell_type": "code",
   "execution_count": 80,
   "metadata": {},
   "outputs": [
    {
     "data": {
      "text/plain": [
       "485"
      ]
     },
     "execution_count": 80,
     "metadata": {},
     "output_type": "execute_result"
    }
   ],
   "source": [
    "df.shape[1]"
   ]
  },
  {
   "cell_type": "code",
   "execution_count": 81,
   "metadata": {},
   "outputs": [],
   "source": [
    "df = df.fillna(0)"
   ]
  },
  {
   "cell_type": "code",
   "execution_count": 82,
   "metadata": {},
   "outputs": [],
   "source": [
    "df.to_csv('data_cleaned.csv')"
   ]
  },
  {
   "cell_type": "code",
   "execution_count": 83,
   "metadata": {},
   "outputs": [
    {
     "data": {
      "text/plain": [
       "Index(['hotel_name', 'hotel_city', 'hotel_price', 'Personel', 'Udogodnienia',\n",
       "       'Czystość', 'Komfort', 'Stosunek jakości do ceny', 'Lokalizacja',\n",
       "       'Bezpłatne WiFi',\n",
       "       ...\n",
       "       'Odkryty basen:płotek wokół basenu',\n",
       "       'Odkryty basen:basen z podgrzewaną wodą',\n",
       "       'Usługi dla rodzin i oferta rozrywkowa:wózki dziecięce',\n",
       "       'Odkryty basen:brodzik', '3 basenów:Sezonowy',\n",
       "       'Rekreacja:wieczór filmowy\\nPoza obiektem\\nDodatkowa opłata',\n",
       "       'Usługi:wymiana walut', 'Widok:widok na jezioro',\n",
       "       'Rekreacja:bezpłatne rowery', 'Usługi:wózki dziecięce'],\n",
       "      dtype='object', length=485)"
      ]
     },
     "execution_count": 83,
     "metadata": {},
     "output_type": "execute_result"
    }
   ],
   "source": [
    "df.columns"
   ]
  },
  {
   "cell_type": "code",
   "execution_count": 84,
   "metadata": {},
   "outputs": [
    {
     "data": {
      "text/plain": [
       "hotel_city\n",
       "Władysławowo    2182.472000\n",
       "Łeba            2329.854651\n",
       "Mielno          2755.818750\n",
       "Kołobrzeg       3128.741667\n",
       "Międzyzdroje    3574.690217\n",
       "Gdynia          3598.728395\n",
       "Świnoujście     3616.010909\n",
       "Name: hotel_price, dtype: float64"
      ]
     },
     "execution_count": 84,
     "metadata": {},
     "output_type": "execute_result"
    }
   ],
   "source": [
    "df_group_by_price = df.groupby('hotel_city')['hotel_price'].mean()\n",
    "df_group_by_price.sort_values()"
   ]
  },
  {
   "cell_type": "code",
   "execution_count": 85,
   "metadata": {},
   "outputs": [
    {
     "data": {
      "application/vnd.plotly.v1+json": {
       "config": {
        "plotlyServerURL": "https://plot.ly"
       },
       "data": [
        {
         "alignmentgroup": "True",
         "hovertemplate": "variable=hotel_price<br>hotel_city=%{x}<br>value=%{y}<extra></extra>",
         "legendgroup": "hotel_price",
         "marker": {
          "color": "#636efa",
          "pattern": {
           "shape": ""
          }
         },
         "name": "hotel_price",
         "offsetgroup": "hotel_price",
         "orientation": "v",
         "showlegend": true,
         "textposition": "auto",
         "type": "bar",
         "x": [
          "Gdynia",
          "Kołobrzeg",
          "Mielno",
          "Międzyzdroje",
          "Władysławowo",
          "Łeba",
          "Świnoujście"
         ],
         "xaxis": "x",
         "y": [
          3598.7283950617284,
          3128.741666666667,
          2755.81875,
          3574.6902173913045,
          2182.472,
          2329.8546511627906,
          3616.010909090909
         ],
         "yaxis": "y"
        }
       ],
       "layout": {
        "barmode": "relative",
        "legend": {
         "title": {
          "text": "variable"
         },
         "tracegroupgap": 0
        },
        "margin": {
         "t": 60
        },
        "template": {
         "data": {
          "bar": [
           {
            "error_x": {
             "color": "#2a3f5f"
            },
            "error_y": {
             "color": "#2a3f5f"
            },
            "marker": {
             "line": {
              "color": "#E5ECF6",
              "width": 0.5
             },
             "pattern": {
              "fillmode": "overlay",
              "size": 10,
              "solidity": 0.2
             }
            },
            "type": "bar"
           }
          ],
          "barpolar": [
           {
            "marker": {
             "line": {
              "color": "#E5ECF6",
              "width": 0.5
             },
             "pattern": {
              "fillmode": "overlay",
              "size": 10,
              "solidity": 0.2
             }
            },
            "type": "barpolar"
           }
          ],
          "carpet": [
           {
            "aaxis": {
             "endlinecolor": "#2a3f5f",
             "gridcolor": "white",
             "linecolor": "white",
             "minorgridcolor": "white",
             "startlinecolor": "#2a3f5f"
            },
            "baxis": {
             "endlinecolor": "#2a3f5f",
             "gridcolor": "white",
             "linecolor": "white",
             "minorgridcolor": "white",
             "startlinecolor": "#2a3f5f"
            },
            "type": "carpet"
           }
          ],
          "choropleth": [
           {
            "colorbar": {
             "outlinewidth": 0,
             "ticks": ""
            },
            "type": "choropleth"
           }
          ],
          "contour": [
           {
            "colorbar": {
             "outlinewidth": 0,
             "ticks": ""
            },
            "colorscale": [
             [
              0,
              "#0d0887"
             ],
             [
              0.1111111111111111,
              "#46039f"
             ],
             [
              0.2222222222222222,
              "#7201a8"
             ],
             [
              0.3333333333333333,
              "#9c179e"
             ],
             [
              0.4444444444444444,
              "#bd3786"
             ],
             [
              0.5555555555555556,
              "#d8576b"
             ],
             [
              0.6666666666666666,
              "#ed7953"
             ],
             [
              0.7777777777777778,
              "#fb9f3a"
             ],
             [
              0.8888888888888888,
              "#fdca26"
             ],
             [
              1,
              "#f0f921"
             ]
            ],
            "type": "contour"
           }
          ],
          "contourcarpet": [
           {
            "colorbar": {
             "outlinewidth": 0,
             "ticks": ""
            },
            "type": "contourcarpet"
           }
          ],
          "heatmap": [
           {
            "colorbar": {
             "outlinewidth": 0,
             "ticks": ""
            },
            "colorscale": [
             [
              0,
              "#0d0887"
             ],
             [
              0.1111111111111111,
              "#46039f"
             ],
             [
              0.2222222222222222,
              "#7201a8"
             ],
             [
              0.3333333333333333,
              "#9c179e"
             ],
             [
              0.4444444444444444,
              "#bd3786"
             ],
             [
              0.5555555555555556,
              "#d8576b"
             ],
             [
              0.6666666666666666,
              "#ed7953"
             ],
             [
              0.7777777777777778,
              "#fb9f3a"
             ],
             [
              0.8888888888888888,
              "#fdca26"
             ],
             [
              1,
              "#f0f921"
             ]
            ],
            "type": "heatmap"
           }
          ],
          "heatmapgl": [
           {
            "colorbar": {
             "outlinewidth": 0,
             "ticks": ""
            },
            "colorscale": [
             [
              0,
              "#0d0887"
             ],
             [
              0.1111111111111111,
              "#46039f"
             ],
             [
              0.2222222222222222,
              "#7201a8"
             ],
             [
              0.3333333333333333,
              "#9c179e"
             ],
             [
              0.4444444444444444,
              "#bd3786"
             ],
             [
              0.5555555555555556,
              "#d8576b"
             ],
             [
              0.6666666666666666,
              "#ed7953"
             ],
             [
              0.7777777777777778,
              "#fb9f3a"
             ],
             [
              0.8888888888888888,
              "#fdca26"
             ],
             [
              1,
              "#f0f921"
             ]
            ],
            "type": "heatmapgl"
           }
          ],
          "histogram": [
           {
            "marker": {
             "pattern": {
              "fillmode": "overlay",
              "size": 10,
              "solidity": 0.2
             }
            },
            "type": "histogram"
           }
          ],
          "histogram2d": [
           {
            "colorbar": {
             "outlinewidth": 0,
             "ticks": ""
            },
            "colorscale": [
             [
              0,
              "#0d0887"
             ],
             [
              0.1111111111111111,
              "#46039f"
             ],
             [
              0.2222222222222222,
              "#7201a8"
             ],
             [
              0.3333333333333333,
              "#9c179e"
             ],
             [
              0.4444444444444444,
              "#bd3786"
             ],
             [
              0.5555555555555556,
              "#d8576b"
             ],
             [
              0.6666666666666666,
              "#ed7953"
             ],
             [
              0.7777777777777778,
              "#fb9f3a"
             ],
             [
              0.8888888888888888,
              "#fdca26"
             ],
             [
              1,
              "#f0f921"
             ]
            ],
            "type": "histogram2d"
           }
          ],
          "histogram2dcontour": [
           {
            "colorbar": {
             "outlinewidth": 0,
             "ticks": ""
            },
            "colorscale": [
             [
              0,
              "#0d0887"
             ],
             [
              0.1111111111111111,
              "#46039f"
             ],
             [
              0.2222222222222222,
              "#7201a8"
             ],
             [
              0.3333333333333333,
              "#9c179e"
             ],
             [
              0.4444444444444444,
              "#bd3786"
             ],
             [
              0.5555555555555556,
              "#d8576b"
             ],
             [
              0.6666666666666666,
              "#ed7953"
             ],
             [
              0.7777777777777778,
              "#fb9f3a"
             ],
             [
              0.8888888888888888,
              "#fdca26"
             ],
             [
              1,
              "#f0f921"
             ]
            ],
            "type": "histogram2dcontour"
           }
          ],
          "mesh3d": [
           {
            "colorbar": {
             "outlinewidth": 0,
             "ticks": ""
            },
            "type": "mesh3d"
           }
          ],
          "parcoords": [
           {
            "line": {
             "colorbar": {
              "outlinewidth": 0,
              "ticks": ""
             }
            },
            "type": "parcoords"
           }
          ],
          "pie": [
           {
            "automargin": true,
            "type": "pie"
           }
          ],
          "scatter": [
           {
            "fillpattern": {
             "fillmode": "overlay",
             "size": 10,
             "solidity": 0.2
            },
            "type": "scatter"
           }
          ],
          "scatter3d": [
           {
            "line": {
             "colorbar": {
              "outlinewidth": 0,
              "ticks": ""
             }
            },
            "marker": {
             "colorbar": {
              "outlinewidth": 0,
              "ticks": ""
             }
            },
            "type": "scatter3d"
           }
          ],
          "scattercarpet": [
           {
            "marker": {
             "colorbar": {
              "outlinewidth": 0,
              "ticks": ""
             }
            },
            "type": "scattercarpet"
           }
          ],
          "scattergeo": [
           {
            "marker": {
             "colorbar": {
              "outlinewidth": 0,
              "ticks": ""
             }
            },
            "type": "scattergeo"
           }
          ],
          "scattergl": [
           {
            "marker": {
             "colorbar": {
              "outlinewidth": 0,
              "ticks": ""
             }
            },
            "type": "scattergl"
           }
          ],
          "scattermapbox": [
           {
            "marker": {
             "colorbar": {
              "outlinewidth": 0,
              "ticks": ""
             }
            },
            "type": "scattermapbox"
           }
          ],
          "scatterpolar": [
           {
            "marker": {
             "colorbar": {
              "outlinewidth": 0,
              "ticks": ""
             }
            },
            "type": "scatterpolar"
           }
          ],
          "scatterpolargl": [
           {
            "marker": {
             "colorbar": {
              "outlinewidth": 0,
              "ticks": ""
             }
            },
            "type": "scatterpolargl"
           }
          ],
          "scatterternary": [
           {
            "marker": {
             "colorbar": {
              "outlinewidth": 0,
              "ticks": ""
             }
            },
            "type": "scatterternary"
           }
          ],
          "surface": [
           {
            "colorbar": {
             "outlinewidth": 0,
             "ticks": ""
            },
            "colorscale": [
             [
              0,
              "#0d0887"
             ],
             [
              0.1111111111111111,
              "#46039f"
             ],
             [
              0.2222222222222222,
              "#7201a8"
             ],
             [
              0.3333333333333333,
              "#9c179e"
             ],
             [
              0.4444444444444444,
              "#bd3786"
             ],
             [
              0.5555555555555556,
              "#d8576b"
             ],
             [
              0.6666666666666666,
              "#ed7953"
             ],
             [
              0.7777777777777778,
              "#fb9f3a"
             ],
             [
              0.8888888888888888,
              "#fdca26"
             ],
             [
              1,
              "#f0f921"
             ]
            ],
            "type": "surface"
           }
          ],
          "table": [
           {
            "cells": {
             "fill": {
              "color": "#EBF0F8"
             },
             "line": {
              "color": "white"
             }
            },
            "header": {
             "fill": {
              "color": "#C8D4E3"
             },
             "line": {
              "color": "white"
             }
            },
            "type": "table"
           }
          ]
         },
         "layout": {
          "annotationdefaults": {
           "arrowcolor": "#2a3f5f",
           "arrowhead": 0,
           "arrowwidth": 1
          },
          "autotypenumbers": "strict",
          "coloraxis": {
           "colorbar": {
            "outlinewidth": 0,
            "ticks": ""
           }
          },
          "colorscale": {
           "diverging": [
            [
             0,
             "#8e0152"
            ],
            [
             0.1,
             "#c51b7d"
            ],
            [
             0.2,
             "#de77ae"
            ],
            [
             0.3,
             "#f1b6da"
            ],
            [
             0.4,
             "#fde0ef"
            ],
            [
             0.5,
             "#f7f7f7"
            ],
            [
             0.6,
             "#e6f5d0"
            ],
            [
             0.7,
             "#b8e186"
            ],
            [
             0.8,
             "#7fbc41"
            ],
            [
             0.9,
             "#4d9221"
            ],
            [
             1,
             "#276419"
            ]
           ],
           "sequential": [
            [
             0,
             "#0d0887"
            ],
            [
             0.1111111111111111,
             "#46039f"
            ],
            [
             0.2222222222222222,
             "#7201a8"
            ],
            [
             0.3333333333333333,
             "#9c179e"
            ],
            [
             0.4444444444444444,
             "#bd3786"
            ],
            [
             0.5555555555555556,
             "#d8576b"
            ],
            [
             0.6666666666666666,
             "#ed7953"
            ],
            [
             0.7777777777777778,
             "#fb9f3a"
            ],
            [
             0.8888888888888888,
             "#fdca26"
            ],
            [
             1,
             "#f0f921"
            ]
           ],
           "sequentialminus": [
            [
             0,
             "#0d0887"
            ],
            [
             0.1111111111111111,
             "#46039f"
            ],
            [
             0.2222222222222222,
             "#7201a8"
            ],
            [
             0.3333333333333333,
             "#9c179e"
            ],
            [
             0.4444444444444444,
             "#bd3786"
            ],
            [
             0.5555555555555556,
             "#d8576b"
            ],
            [
             0.6666666666666666,
             "#ed7953"
            ],
            [
             0.7777777777777778,
             "#fb9f3a"
            ],
            [
             0.8888888888888888,
             "#fdca26"
            ],
            [
             1,
             "#f0f921"
            ]
           ]
          },
          "colorway": [
           "#636efa",
           "#EF553B",
           "#00cc96",
           "#ab63fa",
           "#FFA15A",
           "#19d3f3",
           "#FF6692",
           "#B6E880",
           "#FF97FF",
           "#FECB52"
          ],
          "font": {
           "color": "#2a3f5f"
          },
          "geo": {
           "bgcolor": "white",
           "lakecolor": "white",
           "landcolor": "#E5ECF6",
           "showlakes": true,
           "showland": true,
           "subunitcolor": "white"
          },
          "hoverlabel": {
           "align": "left"
          },
          "hovermode": "closest",
          "mapbox": {
           "style": "light"
          },
          "paper_bgcolor": "white",
          "plot_bgcolor": "#E5ECF6",
          "polar": {
           "angularaxis": {
            "gridcolor": "white",
            "linecolor": "white",
            "ticks": ""
           },
           "bgcolor": "#E5ECF6",
           "radialaxis": {
            "gridcolor": "white",
            "linecolor": "white",
            "ticks": ""
           }
          },
          "scene": {
           "xaxis": {
            "backgroundcolor": "#E5ECF6",
            "gridcolor": "white",
            "gridwidth": 2,
            "linecolor": "white",
            "showbackground": true,
            "ticks": "",
            "zerolinecolor": "white"
           },
           "yaxis": {
            "backgroundcolor": "#E5ECF6",
            "gridcolor": "white",
            "gridwidth": 2,
            "linecolor": "white",
            "showbackground": true,
            "ticks": "",
            "zerolinecolor": "white"
           },
           "zaxis": {
            "backgroundcolor": "#E5ECF6",
            "gridcolor": "white",
            "gridwidth": 2,
            "linecolor": "white",
            "showbackground": true,
            "ticks": "",
            "zerolinecolor": "white"
           }
          },
          "shapedefaults": {
           "line": {
            "color": "#2a3f5f"
           }
          },
          "ternary": {
           "aaxis": {
            "gridcolor": "white",
            "linecolor": "white",
            "ticks": ""
           },
           "baxis": {
            "gridcolor": "white",
            "linecolor": "white",
            "ticks": ""
           },
           "bgcolor": "#E5ECF6",
           "caxis": {
            "gridcolor": "white",
            "linecolor": "white",
            "ticks": ""
           }
          },
          "title": {
           "x": 0.05
          },
          "xaxis": {
           "automargin": true,
           "gridcolor": "white",
           "linecolor": "white",
           "ticks": "",
           "title": {
            "standoff": 15
           },
           "zerolinecolor": "white",
           "zerolinewidth": 2
          },
          "yaxis": {
           "automargin": true,
           "gridcolor": "white",
           "linecolor": "white",
           "ticks": "",
           "title": {
            "standoff": 15
           },
           "zerolinecolor": "white",
           "zerolinewidth": 2
          }
         }
        },
        "xaxis": {
         "anchor": "y",
         "domain": [
          0,
          1
         ],
         "title": {
          "text": "hotel_city"
         }
        },
        "yaxis": {
         "anchor": "x",
         "domain": [
          0,
          1
         ],
         "title": {
          "text": "value"
         }
        }
       }
      }
     },
     "metadata": {},
     "output_type": "display_data"
    }
   ],
   "source": [
    "fig = px.bar(df_group_by_price)\n",
    "fig.show()"
   ]
  },
  {
   "cell_type": "code",
   "execution_count": 86,
   "metadata": {},
   "outputs": [],
   "source": [
    "from sklearn.model_selection import train_test_split\n",
    "\n",
    "df_without_name = df.drop(columns=['hotel_name','hotel_city'])\n",
    "y = df_without_name['hotel_price']\n",
    "X = df_without_name.drop(columns=['hotel_price'])\n",
    "X_train, X_test, y_train, y_test = train_test_split(X, y, test_size=0.3, random_state=42)"
   ]
  },
  {
   "cell_type": "code",
   "execution_count": 87,
   "metadata": {},
   "outputs": [],
   "source": [
    "from sklearn.tree import DecisionTreeRegressor\n",
    "\n",
    "DTR = DecisionTreeRegressor(random_state=0,max_depth=4)\n",
    "DTR.fit(X_train, y_train)\n",
    "predictons = DTR.predict(X_test)"
   ]
  },
  {
   "cell_type": "code",
   "execution_count": 88,
   "metadata": {},
   "outputs": [
    {
     "data": {
      "image/png": "[encoded data removed]",
      "text/plain": [
       "<Figure size 1440x1440 with 1 Axes>"
      ]
     },
     "metadata": {
      "needs_background": "light"
     },
     "output_type": "display_data"
    }
   ],
   "source": [
    "import matplotlib.pyplot as plt\n",
    "from sklearn import tree\n",
    "\n",
    "fig = plt.figure(figsize=(20,20))\n",
    "_ = tree.plot_tree(DTR, feature_names=X.columns,max_depth=2,filled=False)"
   ]
  },
  {
   "cell_type": "code",
   "execution_count": 89,
   "metadata": {},
   "outputs": [
    {
     "data": {
      "image/svg+xml": "<?xml version=\"1.0\" encoding=\"UTF-8\" standalone=\"no\"?>\n<!DOCTYPE svg PUBLIC \"-//W3C//DTD SVG 1.1//EN\"\n \"http://www.w3.org/Graphics/SVG/1.1/DTD/svg11.dtd\">\n<!-- Generated by graphviz version 2.50.0 (0)\n -->\n<!-- Title: Tree Pages: 1 -->\n<svg width=\"1108pt\" height=\"356pt\"\n viewBox=\"0.00 0.00 1107.50 356.00\" xmlns=\"http://www.w3.org/2000/svg\" xmlns:xlink=\"http://www.w3.org/1999/xlink\">\n<g id=\"graph0\" class=\"graph\" transform=\"scale(1 1) rotate(0) translate(4 352)\">\n<title>Tree</title>\n<polygon fill=\"white\" stroke=\"transparent\" points=\"-4,4 -4,-352 1103.5,-352 1103.5,4 -4,4\"/>\n<!-- 0 -->\n<g id=\"node1\" class=\"node\">\n<title>0</title>\n<polygon fill=\"none\" stroke=\"black\" points=\"749,-348 473,-348 473,-280 749,-280 749,-348\"/>\n<text text-anchor=\"middle\" x=\"611\" y=\"-332.8\" font-family=\"Helvetica,sans-Serif\" font-size=\"14.00\">Okolica:lokalizacja przy samej plaży &lt;= 0.5</text>\n<text text-anchor=\"middle\" x=\"611\" y=\"-317.8\" font-family=\"Helvetica,sans-Serif\" font-size=\"14.00\">squared_error = 1720875.328</text>\n<text text-anchor=\"middle\" x=\"611\" y=\"-302.8\" font-family=\"Helvetica,sans-Serif\" font-size=\"14.00\">samples = 1037</text>\n<text text-anchor=\"middle\" x=\"611\" y=\"-287.8\" font-family=\"Helvetica,sans-Serif\" font-size=\"14.00\">value = 2991.24</text>\n</g>\n<!-- 1 -->\n<g id=\"node2\" class=\"node\">\n<title>1</title>\n<polygon fill=\"none\" stroke=\"black\" points=\"560,-244 348,-244 348,-176 560,-176 560,-244\"/>\n<text text-anchor=\"middle\" x=\"454\" y=\"-228.8\" font-family=\"Helvetica,sans-Serif\" font-size=\"14.00\">Kuchnia:wspólna kuchnia &lt;= 0.5</text>\n<text text-anchor=\"middle\" x=\"454\" y=\"-213.8\" font-family=\"Helvetica,sans-Serif\" font-size=\"14.00\">squared_error = 1418409.806</text>\n<text text-anchor=\"middle\" x=\"454\" y=\"-198.8\" font-family=\"Helvetica,sans-Serif\" font-size=\"14.00\">samples = 890</text>\n<text text-anchor=\"middle\" x=\"454\" y=\"-183.8\" font-family=\"Helvetica,sans-Serif\" font-size=\"14.00\">value = 2798.574</text>\n</g>\n<!-- 0&#45;&gt;1 -->\n<g id=\"edge1\" class=\"edge\">\n<title>0&#45;&gt;1</title>\n<path fill=\"none\" stroke=\"black\" d=\"M560.03,-279.88C545.14,-270.21 528.75,-259.56 513.39,-249.59\"/>\n<polygon fill=\"black\" stroke=\"black\" points=\"515.28,-246.64 504.99,-244.12 511.46,-252.51 515.28,-246.64\"/>\n<text text-anchor=\"middle\" x=\"510.18\" y=\"-264.88\" font-family=\"Helvetica,sans-Serif\" font-size=\"14.00\">True</text>\n</g>\n<!-- 16 -->\n<g id=\"node9\" class=\"node\">\n<title>16</title>\n<polygon fill=\"none\" stroke=\"black\" points=\"930.5,-244 605.5,-244 605.5,-176 930.5,-176 930.5,-244\"/>\n<text text-anchor=\"middle\" x=\"768\" y=\"-228.8\" font-family=\"Helvetica,sans-Serif\" font-size=\"14.00\">2 basenów:Wstęp dla osób w każdym wieku &lt;= 0.5</text>\n<text text-anchor=\"middle\" x=\"768\" y=\"-213.8\" font-family=\"Helvetica,sans-Serif\" font-size=\"14.00\">squared_error = 1966710.133</text>\n<text text-anchor=\"middle\" x=\"768\" y=\"-198.8\" font-family=\"Helvetica,sans-Serif\" font-size=\"14.00\">samples = 147</text>\n<text text-anchor=\"middle\" x=\"768\" y=\"-183.8\" font-family=\"Helvetica,sans-Serif\" font-size=\"14.00\">value = 4157.721</text>\n</g>\n<!-- 0&#45;&gt;16 -->\n<g id=\"edge8\" class=\"edge\">\n<title>0&#45;&gt;16</title>\n<path fill=\"none\" stroke=\"black\" d=\"M661.97,-279.88C676.86,-270.21 693.25,-259.56 708.61,-249.59\"/>\n<polygon fill=\"black\" stroke=\"black\" points=\"710.54,-252.51 717.01,-244.12 706.72,-246.64 710.54,-252.51\"/>\n<text text-anchor=\"middle\" x=\"711.82\" y=\"-264.88\" font-family=\"Helvetica,sans-Serif\" font-size=\"14.00\">False</text>\n</g>\n<!-- 2 -->\n<g id=\"node3\" class=\"node\">\n<title>2</title>\n<polygon fill=\"none\" stroke=\"black\" points=\"238,-140 0,-140 0,-72 238,-72 238,-140\"/>\n<text text-anchor=\"middle\" x=\"119\" y=\"-124.8\" font-family=\"Helvetica,sans-Serif\" font-size=\"14.00\">Łazienka:suszarka do włosów &lt;= 0.5</text>\n<text text-anchor=\"middle\" x=\"119\" y=\"-109.8\" font-family=\"Helvetica,sans-Serif\" font-size=\"14.00\">squared_error = 1300994.512</text>\n<text text-anchor=\"middle\" x=\"119\" y=\"-94.8\" font-family=\"Helvetica,sans-Serif\" font-size=\"14.00\">samples = 723</text>\n<text text-anchor=\"middle\" x=\"119\" y=\"-79.8\" font-family=\"Helvetica,sans-Serif\" font-size=\"14.00\">value = 3007.402</text>\n</g>\n<!-- 1&#45;&gt;2 -->\n<g id=\"edge2\" class=\"edge\">\n<title>1&#45;&gt;2</title>\n<path fill=\"none\" stroke=\"black\" d=\"M347.54,-176.59C312.52,-165.92 273.37,-154 237.51,-143.08\"/>\n<polygon fill=\"black\" stroke=\"black\" points=\"238.07,-139.6 227.48,-140.03 236.03,-146.29 238.07,-139.6\"/>\n</g>\n<!-- 9 -->\n<g id=\"node6\" class=\"node\">\n<title>9</title>\n<polygon fill=\"none\" stroke=\"black\" points=\"652,-140 256,-140 256,-72 652,-72 652,-140\"/>\n<text text-anchor=\"middle\" x=\"454\" y=\"-124.8\" font-family=\"Helvetica,sans-Serif\" font-size=\"14.00\">Pomieszczenia ogólnodostępne:wspólny salon / sala TV &lt;= 0.5</text>\n<text text-anchor=\"middle\" x=\"454\" y=\"-109.8\" font-family=\"Helvetica,sans-Serif\" font-size=\"14.00\">squared_error = 920564.118</text>\n<text text-anchor=\"middle\" x=\"454\" y=\"-94.8\" font-family=\"Helvetica,sans-Serif\" font-size=\"14.00\">samples = 167</text>\n<text text-anchor=\"middle\" x=\"454\" y=\"-79.8\" font-family=\"Helvetica,sans-Serif\" font-size=\"14.00\">value = 1894.485</text>\n</g>\n<!-- 1&#45;&gt;9 -->\n<g id=\"edge5\" class=\"edge\">\n<title>1&#45;&gt;9</title>\n<path fill=\"none\" stroke=\"black\" d=\"M454,-175.88C454,-167.78 454,-158.98 454,-150.47\"/>\n<polygon fill=\"black\" stroke=\"black\" points=\"457.5,-150.3 454,-140.3 450.5,-150.3 457.5,-150.3\"/>\n</g>\n<!-- 3 -->\n<g id=\"node4\" class=\"node\">\n<title>3</title>\n<polygon fill=\"none\" stroke=\"black\" points=\"110,-36 56,-36 56,0 110,0 110,-36\"/>\n<text text-anchor=\"middle\" x=\"83\" y=\"-14.3\" font-family=\"Helvetica,sans-Serif\" font-size=\"14.00\">(...)</text>\n</g>\n<!-- 2&#45;&gt;3 -->\n<g id=\"edge3\" class=\"edge\">\n<title>2&#45;&gt;3</title>\n<path fill=\"none\" stroke=\"black\" d=\"M105.18,-72C101.54,-63.28 97.64,-53.98 94.16,-45.65\"/>\n<polygon fill=\"black\" stroke=\"black\" points=\"97.38,-44.28 90.29,-36.4 90.92,-46.98 97.38,-44.28\"/>\n</g>\n<!-- 6 -->\n<g id=\"node5\" class=\"node\">\n<title>6</title>\n<polygon fill=\"none\" stroke=\"black\" points=\"182,-36 128,-36 128,0 182,0 182,-36\"/>\n<text text-anchor=\"middle\" x=\"155\" y=\"-14.3\" font-family=\"Helvetica,sans-Serif\" font-size=\"14.00\">(...)</text>\n</g>\n<!-- 2&#45;&gt;6 -->\n<g id=\"edge4\" class=\"edge\">\n<title>2&#45;&gt;6</title>\n<path fill=\"none\" stroke=\"black\" d=\"M132.82,-72C136.46,-63.28 140.36,-53.98 143.84,-45.65\"/>\n<polygon fill=\"black\" stroke=\"black\" points=\"147.08,-46.98 147.71,-36.4 140.62,-44.28 147.08,-46.98\"/>\n</g>\n<!-- 10 -->\n<g id=\"node7\" class=\"node\">\n<title>10</title>\n<polygon fill=\"none\" stroke=\"black\" points=\"445,-36 391,-36 391,0 445,0 445,-36\"/>\n<text text-anchor=\"middle\" x=\"418\" y=\"-14.3\" font-family=\"Helvetica,sans-Serif\" font-size=\"14.00\">(...)</text>\n</g>\n<!-- 9&#45;&gt;10 -->\n<g id=\"edge6\" class=\"edge\">\n<title>9&#45;&gt;10</title>\n<path fill=\"none\" stroke=\"black\" d=\"M440.18,-72C436.54,-63.28 432.64,-53.98 429.16,-45.65\"/>\n<polygon fill=\"black\" stroke=\"black\" points=\"432.38,-44.28 425.29,-36.4 425.92,-46.98 432.38,-44.28\"/>\n</g>\n<!-- 13 -->\n<g id=\"node8\" class=\"node\">\n<title>13</title>\n<polygon fill=\"none\" stroke=\"black\" points=\"517,-36 463,-36 463,0 517,0 517,-36\"/>\n<text text-anchor=\"middle\" x=\"490\" y=\"-14.3\" font-family=\"Helvetica,sans-Serif\" font-size=\"14.00\">(...)</text>\n</g>\n<!-- 9&#45;&gt;13 -->\n<g id=\"edge7\" class=\"edge\">\n<title>9&#45;&gt;13</title>\n<path fill=\"none\" stroke=\"black\" d=\"M467.82,-72C471.46,-63.28 475.36,-53.98 478.84,-45.65\"/>\n<polygon fill=\"black\" stroke=\"black\" points=\"482.08,-46.98 482.71,-36.4 475.62,-44.28 482.08,-46.98\"/>\n</g>\n<!-- 17 -->\n<g id=\"node10\" class=\"node\">\n<title>17</title>\n<polygon fill=\"none\" stroke=\"black\" points=\"866,-140 670,-140 670,-72 866,-72 866,-140\"/>\n<text text-anchor=\"middle\" x=\"768\" y=\"-124.8\" font-family=\"Helvetica,sans-Serif\" font-size=\"14.00\">Ogólne:winda &lt;= 0.5</text>\n<text text-anchor=\"middle\" x=\"768\" y=\"-109.8\" font-family=\"Helvetica,sans-Serif\" font-size=\"14.00\">squared_error = 1800715.145</text>\n<text text-anchor=\"middle\" x=\"768\" y=\"-94.8\" font-family=\"Helvetica,sans-Serif\" font-size=\"14.00\">samples = 139</text>\n<text text-anchor=\"middle\" x=\"768\" y=\"-79.8\" font-family=\"Helvetica,sans-Serif\" font-size=\"14.00\">value = 4041.835</text>\n</g>\n<!-- 16&#45;&gt;17 -->\n<g id=\"edge9\" class=\"edge\">\n<title>16&#45;&gt;17</title>\n<path fill=\"none\" stroke=\"black\" d=\"M768,-175.88C768,-167.78 768,-158.98 768,-150.47\"/>\n<polygon fill=\"black\" stroke=\"black\" points=\"771.5,-150.3 768,-140.3 764.5,-150.3 771.5,-150.3\"/>\n</g>\n<!-- 24 -->\n<g id=\"node13\" class=\"node\">\n<title>24</title>\n<polygon fill=\"none\" stroke=\"black\" points=\"1099.5,-140 884.5,-140 884.5,-72 1099.5,-72 1099.5,-140\"/>\n<text text-anchor=\"middle\" x=\"992\" y=\"-124.8\" font-family=\"Helvetica,sans-Serif\" font-size=\"14.00\">2 basenów:Godziny pracy &lt;= 0.5</text>\n<text text-anchor=\"middle\" x=\"992\" y=\"-109.8\" font-family=\"Helvetica,sans-Serif\" font-size=\"14.00\">squared_error = 563233.438</text>\n<text text-anchor=\"middle\" x=\"992\" y=\"-94.8\" font-family=\"Helvetica,sans-Serif\" font-size=\"14.00\">samples = 8</text>\n<text text-anchor=\"middle\" x=\"992\" y=\"-79.8\" font-family=\"Helvetica,sans-Serif\" font-size=\"14.00\">value = 6171.25</text>\n</g>\n<!-- 16&#45;&gt;24 -->\n<g id=\"edge12\" class=\"edge\">\n<title>16&#45;&gt;24</title>\n<path fill=\"none\" stroke=\"black\" d=\"M840.73,-175.88C862.85,-165.81 887.3,-154.67 909.99,-144.34\"/>\n<polygon fill=\"black\" stroke=\"black\" points=\"911.61,-147.45 919.26,-140.12 908.7,-141.08 911.61,-147.45\"/>\n</g>\n<!-- 18 -->\n<g id=\"node11\" class=\"node\">\n<title>18</title>\n<polygon fill=\"none\" stroke=\"black\" points=\"759,-36 705,-36 705,0 759,0 759,-36\"/>\n<text text-anchor=\"middle\" x=\"732\" y=\"-14.3\" font-family=\"Helvetica,sans-Serif\" font-size=\"14.00\">(...)</text>\n</g>\n<!-- 17&#45;&gt;18 -->\n<g id=\"edge10\" class=\"edge\">\n<title>17&#45;&gt;18</title>\n<path fill=\"none\" stroke=\"black\" d=\"M754.18,-72C750.54,-63.28 746.64,-53.98 743.16,-45.65\"/>\n<polygon fill=\"black\" stroke=\"black\" points=\"746.38,-44.28 739.29,-36.4 739.92,-46.98 746.38,-44.28\"/>\n</g>\n<!-- 21 -->\n<g id=\"node12\" class=\"node\">\n<title>21</title>\n<polygon fill=\"none\" stroke=\"black\" points=\"831,-36 777,-36 777,0 831,0 831,-36\"/>\n<text text-anchor=\"middle\" x=\"804\" y=\"-14.3\" font-family=\"Helvetica,sans-Serif\" font-size=\"14.00\">(...)</text>\n</g>\n<!-- 17&#45;&gt;21 -->\n<g id=\"edge11\" class=\"edge\">\n<title>17&#45;&gt;21</title>\n<path fill=\"none\" stroke=\"black\" d=\"M781.82,-72C785.46,-63.28 789.36,-53.98 792.84,-45.65\"/>\n<polygon fill=\"black\" stroke=\"black\" points=\"796.08,-46.98 796.71,-36.4 789.62,-44.28 796.08,-46.98\"/>\n</g>\n<!-- 25 -->\n<g id=\"node14\" class=\"node\">\n<title>25</title>\n<polygon fill=\"none\" stroke=\"black\" points=\"983,-36 929,-36 929,0 983,0 983,-36\"/>\n<text text-anchor=\"middle\" x=\"956\" y=\"-14.3\" font-family=\"Helvetica,sans-Serif\" font-size=\"14.00\">(...)</text>\n</g>\n<!-- 24&#45;&gt;25 -->\n<g id=\"edge13\" class=\"edge\">\n<title>24&#45;&gt;25</title>\n<path fill=\"none\" stroke=\"black\" d=\"M978.18,-72C974.54,-63.28 970.64,-53.98 967.16,-45.65\"/>\n<polygon fill=\"black\" stroke=\"black\" points=\"970.38,-44.28 963.29,-36.4 963.92,-46.98 970.38,-44.28\"/>\n</g>\n<!-- 28 -->\n<g id=\"node15\" class=\"node\">\n<title>28</title>\n<polygon fill=\"none\" stroke=\"black\" points=\"1055,-36 1001,-36 1001,0 1055,0 1055,-36\"/>\n<text text-anchor=\"middle\" x=\"1028\" y=\"-14.3\" font-family=\"Helvetica,sans-Serif\" font-size=\"14.00\">(...)</text>\n</g>\n<!-- 24&#45;&gt;28 -->\n<g id=\"edge14\" class=\"edge\">\n<title>24&#45;&gt;28</title>\n<path fill=\"none\" stroke=\"black\" d=\"M1005.82,-72C1009.46,-63.28 1013.36,-53.98 1016.84,-45.65\"/>\n<polygon fill=\"black\" stroke=\"black\" points=\"1020.08,-46.98 1020.71,-36.4 1013.62,-44.28 1020.08,-46.98\"/>\n</g>\n</g>\n</svg>\n",
      "text/plain": [
       "<graphviz.sources.Source at 0x1be31d497b0>"
      ]
     },
     "execution_count": 89,
     "metadata": {},
     "output_type": "execute_result"
    }
   ],
   "source": [
    "import graphviz\n",
    "\n",
    "dot_data = tree.export_graphviz(DTR, out_file=None,feature_names=X.columns, max_depth=2)\n",
    "graph = graphviz.Source(dot_data, format='png')\n",
    "graph"
   ]
  },
  {
   "cell_type": "code",
   "execution_count": 90,
   "metadata": {},
   "outputs": [
    {
     "name": "stdout",
     "output_type": "stream",
     "text": [
      "r2 score 0.34505296967007537\n",
      "mean square 1294186.2111337688\n"
     ]
    }
   ],
   "source": [
    "from sklearn.metrics import mean_squared_error, r2_score\n",
    "\n",
    "print(f'r2 score {r2_score(y_test, predictons)}')\n",
    "print(f'mean square {mean_squared_error(y_test, predictons)}')"
   ]
  },
  {
   "cell_type": "code",
   "execution_count": 91,
   "metadata": {},
   "outputs": [],
   "source": [
    "from sklearn.ensemble import RandomForestRegressor\n",
    "\n",
    "RFR = RandomForestRegressor(random_state=0)\n",
    "RFR.fit(X_train, y_train)\n",
    "predictons = RFR.predict(X_test)"
   ]
  },
  {
   "cell_type": "code",
   "execution_count": 92,
   "metadata": {},
   "outputs": [
    {
     "name": "stdout",
     "output_type": "stream",
     "text": [
      "r2 score 0.5319063093444182\n",
      "mean square 924960.9081516141\n"
     ]
    }
   ],
   "source": [
    "from sklearn.metrics import mean_squared_error, r2_score\n",
    "\n",
    "print(f'r2 score {r2_score(y_test, predictons)}')\n",
    "print(f'mean square {mean_squared_error(y_test, predictons)}')"
   ]
  },
  {
   "cell_type": "code",
   "execution_count": 93,
   "metadata": {},
   "outputs": [],
   "source": [
    "#y_and_pred_array = [np.array(y_test),predictons]\n",
    "#y_and_pred_array.sort(key= lambda x: x[0])\n",
    "zipped = zip(np.array(y_test),predictons)\n",
    "sorted_pairs = sorted(zipped)\n",
    "tuples = zip(*sorted_pairs)\n",
    "sorted_y_test, sorted_pred = [ list(tuple) for tuple in  tuples]\n"
   ]
  },
  {
   "cell_type": "code",
   "execution_count": 94,
   "metadata": {},
   "outputs": [
    {
     "data": {
      "application/vnd.plotly.v1+json": {
       "config": {
        "plotlyServerURL": "https://plot.ly"
       },
       "data": [
        {
         "name": "Real value",
         "type": "scatter",
         "y": [
          521,
          834,
          846,
          912,
          924,
          950,
          960,
          978,
          988,
          990,
          994,
          994,
          1014,
          1053,
          1058,
          1075,
          1085,
          1103,
          1110,
          1115,
          1139,
          1155,
          1176,
          1187,
          1212,
          1213,
          1227,
          1228,
          1229,
          1240,
          1241,
          1247,
          1250,
          1261,
          1270,
          1272,
          1279,
          1281,
          1309,
          1310,
          1323,
          1323,
          1324,
          1335,
          1336,
          1342,
          1352,
          1355,
          1358,
          1358,
          1359,
          1374,
          1378,
          1384,
          1391,
          1395,
          1401,
          1403,
          1405,
          1412,
          1425,
          1429,
          1435,
          1445,
          1452,
          1457,
          1467,
          1468,
          1471,
          1505,
          1506,
          1509,
          1522,
          1534,
          1546,
          1546,
          1558,
          1560,
          1562,
          1568,
          1575,
          1599,
          1605,
          1607,
          1627,
          1637,
          1638,
          1666,
          1697,
          1708,
          1708,
          1709,
          1737,
          1773,
          1791,
          1795,
          1800,
          1808,
          1808,
          1831,
          1835,
          1882,
          1885,
          1890,
          1897,
          1900,
          1903,
          1923,
          1954,
          1990,
          1999,
          2015,
          2022,
          2102,
          2117,
          2122,
          2127,
          2155,
          2155,
          2159,
          2167,
          2178,
          2201,
          2217,
          2225,
          2233,
          2245,
          2250,
          2253,
          2258,
          2260,
          2262,
          2271,
          2275,
          2283,
          2285,
          2306,
          2316,
          2325,
          2326,
          2329,
          2345,
          2348,
          2365,
          2368,
          2369,
          2374,
          2395,
          2395,
          2405,
          2415,
          2415,
          2427,
          2432,
          2438,
          2439,
          2440,
          2444,
          2447,
          2448,
          2450,
          2455,
          2463,
          2465,
          2467,
          2467,
          2467,
          2485,
          2492,
          2492,
          2502,
          2514,
          2520,
          2520,
          2520,
          2521,
          2521,
          2532,
          2537,
          2560,
          2560,
          2563,
          2576,
          2582,
          2585,
          2585,
          2588,
          2603,
          2604,
          2611,
          2620,
          2621,
          2632,
          2632,
          2633,
          2635,
          2641,
          2645,
          2653,
          2668,
          2671,
          2672,
          2685,
          2701,
          2717,
          2720,
          2722,
          2726,
          2727,
          2730,
          2744,
          2775,
          2782,
          2790,
          2794,
          2796,
          2797,
          2798,
          2822,
          2831,
          2853,
          2862,
          2865,
          2880,
          2883,
          2886,
          2893,
          2898,
          2904,
          2910,
          2919,
          2923,
          2930,
          2944,
          2954,
          2960,
          2961,
          2966,
          2988,
          2990,
          3002,
          3012,
          3012,
          3019,
          3031,
          3035,
          3040,
          3054,
          3070,
          3072,
          3073,
          3074,
          3112,
          3115,
          3137,
          3154,
          3182,
          3184,
          3185,
          3213,
          3219,
          3227,
          3242,
          3244,
          3265,
          3266,
          3269,
          3271,
          3276,
          3276,
          3292,
          3298,
          3307,
          3308,
          3318,
          3343,
          3346,
          3352,
          3352,
          3364,
          3374,
          3374,
          3378,
          3391,
          3405,
          3405,
          3413,
          3423,
          3469,
          3487,
          3500,
          3508,
          3520,
          3521,
          3521,
          3525,
          3537,
          3542,
          3551,
          3555,
          3570,
          3591,
          3592,
          3603,
          3605,
          3610,
          3611,
          3628,
          3635,
          3652,
          3656,
          3660,
          3661,
          3686,
          3687,
          3720,
          3735,
          3737,
          3741,
          3747,
          3761,
          3763,
          3764,
          3775,
          3775,
          3775,
          3789,
          3805,
          3836,
          3840,
          3847,
          3848,
          3852,
          3872,
          3872,
          3877,
          3899,
          3910,
          3913,
          3913,
          3920,
          3931,
          3931,
          3961,
          3965,
          3984,
          3987,
          3994,
          4012,
          4064,
          4068,
          4071,
          4082,
          4087,
          4090,
          4099,
          4117,
          4125,
          4143,
          4151,
          4153,
          4167,
          4169,
          4181,
          4200,
          4217,
          4224,
          4225,
          4231,
          4235,
          4242,
          4275,
          4285,
          4321,
          4328,
          4406,
          4415,
          4423,
          4479,
          4480,
          4502,
          4507,
          4508,
          4517,
          4517,
          4537,
          4541,
          4556,
          4561,
          4570,
          4583,
          4585,
          4598,
          4612,
          4623,
          4629,
          4719,
          4773,
          4852,
          4856,
          4859,
          4875,
          4897,
          4935,
          4944,
          4948,
          4969,
          5000,
          5039,
          5096,
          5152,
          5161,
          5205,
          5208,
          5287,
          5288,
          5288,
          5320,
          5413,
          5426,
          5498,
          5573,
          5627,
          5674,
          5763,
          5788,
          5878,
          6004,
          6143,
          6146,
          6213,
          6500,
          6521,
          6535,
          6539,
          6557,
          6568,
          6572,
          6672,
          6940,
          6991,
          7247,
          8100,
          8372,
          8836
         ]
        },
        {
         "name": "Prediction",
         "type": "scatter",
         "y": [
          1584.08,
          2070.11,
          1715.04,
          1655.64,
          1341.69,
          1597.92,
          1346.71,
          1658.61,
          1443.02,
          1338.13,
          2059.33,
          2354.43,
          1305.86,
          1502.75,
          1556.6,
          2262.68,
          1533.2,
          1614.98,
          1401.86,
          1499.18,
          1435.01,
          1823.99,
          2181.18,
          1240.86,
          2566.33,
          1959.6,
          1842.71,
          2130.62,
          1739.37,
          1868.57,
          1522.84,
          1519.31,
          1523.08,
          1837.81,
          1632.11,
          1762.97,
          1403.91,
          2426.28,
          1845.65,
          1667.41,
          1784.99,
          1956.78,
          1432.79,
          2064.12,
          1372.79,
          1532.23,
          1447.39,
          1618.49,
          1833.36,
          2514.05,
          2380.62,
          2066.79,
          1300.36,
          2121.99,
          1592.22,
          1876.55,
          1917.4,
          1944.85,
          1387.06,
          2051.22,
          1608.38,
          2223.5,
          1831.89,
          1841.99,
          1830.96,
          3306.57,
          2015.83,
          1817.62,
          2407.81,
          2510.68,
          2178.99,
          2997.47,
          2166.17,
          1864.76,
          2129.43,
          2155.46,
          2111.49,
          1642.99,
          2032.6,
          2061.33,
          2475.27,
          1936.83,
          1850.49,
          2199.57,
          1574.89,
          2106.99,
          2735.14,
          2581.77,
          1725.16,
          1556.41,
          2279.43,
          1996.47,
          1675.76,
          1460.2,
          2084.55,
          2885.1,
          1553.29,
          2193.95,
          2238.74,
          2126.22,
          1726.28,
          1585.08,
          1492.94,
          1794.53,
          3013.44,
          2117.44,
          2465.95,
          2273.68,
          2616.51,
          2197.79,
          2837.275,
          1736.81,
          3669.63,
          1978.12,
          2909.71,
          2465.85,
          2158.95,
          1566.88,
          2945.28,
          3766.04,
          2091.84,
          2088.18,
          3212.33,
          2696.31,
          2090.4,
          2974.73,
          2606.49,
          3361.54,
          2504.2533333333336,
          3328.11,
          1793.3,
          4674.32,
          2525.38,
          2416.12,
          2860.906,
          3005.71,
          1571.07,
          3293.64,
          2875.925,
          2184.06,
          3286.5,
          2582.7,
          2313.09,
          2445.32,
          3037.16,
          2553.98,
          3366.02,
          1968.4,
          2935.67,
          2277.57,
          2913.01,
          2958.1,
          2639.5,
          2940.99,
          3056.07,
          2948.9,
          3355.39,
          2326.72,
          3271.35,
          2671.55,
          2991.4,
          2438.18,
          3277.29,
          3656.19,
          2838.19,
          2990.8,
          3256.9,
          2214.53,
          3204.25,
          3399.64,
          4819.96,
          2095.92,
          3324.62,
          3488.04,
          4234.14,
          3333.22,
          4448.19,
          2693.29,
          2243.08,
          2877.52,
          2885.27,
          3959.82,
          3187.72,
          2385.23,
          2098.79,
          3191.03,
          3443.65,
          3025.38,
          3380.01,
          2967.64,
          2974.64,
          2869.57,
          3160.6,
          3849.29,
          2742.02,
          3445.39,
          2929.09,
          3479.3,
          2202.18,
          2760.29,
          3260.83,
          3198.55,
          2899.02,
          3365.66,
          3164.19,
          2896.31,
          4140,
          2773.62,
          2447.54,
          2440.25,
          3279.58,
          1717.38,
          3185.7933333333335,
          3672.69,
          3131.06,
          2948.34,
          3428.85,
          1572.14,
          3089.03,
          3506.45,
          2656.68,
          3040.36,
          3311.44,
          2547.02,
          3827.9,
          3363.59,
          3889.16,
          3232.96,
          3715.88,
          3131.44,
          2738.84,
          2424.44,
          3202.32,
          2843.73,
          3572.24,
          3402.93,
          2615.09,
          2325.05,
          3594.91,
          3595.67,
          4687.97,
          3721.38,
          3834.91,
          2740.35,
          4426.02,
          3209.84,
          4432.01,
          4699.84,
          3118.63,
          3419,
          3631.48,
          3179.32,
          1930.73,
          3638.35,
          2988.21,
          4075.65,
          2473.11,
          4050.13,
          2715.95,
          3778.13,
          3245.03,
          4160.64,
          3614.3,
          3620.5675,
          3483.71,
          3584.47,
          4057.99,
          3493.15,
          3044.89,
          3172.79,
          3042.64,
          4072.99,
          2766.37,
          3735.15,
          2715.9,
          3937.38,
          3952.99,
          2348.88,
          3300.39,
          3182.36,
          3035.49,
          3080.35,
          3653.42,
          1706.03,
          3319.28,
          3606.35,
          3225.12,
          3316.79,
          3093.9759999999997,
          3117.92,
          3133.7,
          3781.62,
          4216.3,
          2729.12,
          3523.48,
          3669.79,
          3756.55,
          2553.65,
          2929.67,
          3537.78,
          3592.88,
          4450.7,
          4457.34,
          3442.48,
          1895.22,
          3311.4,
          3764.28,
          2802.25,
          3385.93,
          3191.71,
          2038.07,
          3579.14,
          3662.63,
          3459.78,
          3285.09,
          3830.81,
          3194.57,
          3194.12,
          3745.5,
          3616.96,
          4253.11,
          3609.82,
          3657.41,
          3324.055,
          3366.4666666666662,
          3433.95,
          4693.12,
          3108.33,
          4243.49,
          3833.58,
          1866.13,
          3149.95,
          4531.67,
          3915.1,
          4043.11,
          2992.76,
          3984.79,
          3200.57,
          1487.79,
          3235.73,
          2770.27,
          2841.07,
          3609.14,
          2991.74,
          3289.24,
          3590.96,
          2825.8,
          3147.4,
          4333,
          3651.68,
          3677.39,
          2787.74,
          3081,
          2875.52,
          3660.24,
          4952.35,
          3342.95,
          3795.77,
          3498.74,
          2805.05,
          3089.42,
          3615.32,
          3984.89,
          3502.73,
          4403.92,
          3249.96,
          3588.57,
          3342.63,
          3343.36,
          3931.19,
          3044.6,
          2811.02,
          3677.37,
          3061.43,
          4398.96,
          2870.49,
          3320.655,
          4018.32,
          4165.75,
          3584.26,
          5582.42,
          1963.26,
          4458.49,
          3938.22,
          4158.95,
          2993.65,
          3125.05,
          3768.4,
          4057.17,
          3997.55,
          3211.22,
          2813.99,
          3556.52,
          4125.87,
          4148.08,
          3859.37,
          2855.14,
          4190.5,
          3176.47,
          4768.9,
          5108.69,
          2821.88,
          3851.31,
          2746.12,
          3195.47,
          3366.83,
          4001.86,
          4665.11,
          3501.47,
          2744.4,
          3911.54,
          4622.92,
          3336.03,
          4988.89,
          3386.75,
          4800.44,
          4818.24,
          3833.99,
          4638.05,
          5379.1,
          3961.58,
          5018.52,
          4470.53,
          3808.15,
          5024.83,
          2773.59,
          3718.66,
          4636.6,
          4928.67,
          3873.04,
          4397.3,
          4689.29,
          4672.94,
          3081.3,
          5165.62,
          5624.22,
          3972.24,
          3715.38,
          3492.63,
          4771.74,
          5538.12,
          5203.62,
          3851.74,
          5426.96,
          2955.02
         ]
        }
       ],
       "layout": {
        "legend": {
         "title": {
          "text": "Legend Title"
         }
        },
        "template": {
         "data": {
          "bar": [
           {
            "error_x": {
             "color": "#2a3f5f"
            },
            "error_y": {
             "color": "#2a3f5f"
            },
            "marker": {
             "line": {
              "color": "#E5ECF6",
              "width": 0.5
             },
             "pattern": {
              "fillmode": "overlay",
              "size": 10,
              "solidity": 0.2
             }
            },
            "type": "bar"
           }
          ],
          "barpolar": [
           {
            "marker": {
             "line": {
              "color": "#E5ECF6",
              "width": 0.5
             },
             "pattern": {
              "fillmode": "overlay",
              "size": 10,
              "solidity": 0.2
             }
            },
            "type": "barpolar"
           }
          ],
          "carpet": [
           {
            "aaxis": {
             "endlinecolor": "#2a3f5f",
             "gridcolor": "white",
             "linecolor": "white",
             "minorgridcolor": "white",
             "startlinecolor": "#2a3f5f"
            },
            "baxis": {
             "endlinecolor": "#2a3f5f",
             "gridcolor": "white",
             "linecolor": "white",
             "minorgridcolor": "white",
             "startlinecolor": "#2a3f5f"
            },
            "type": "carpet"
           }
          ],
          "choropleth": [
           {
            "colorbar": {
             "outlinewidth": 0,
             "ticks": ""
            },
            "type": "choropleth"
           }
          ],
          "contour": [
           {
            "colorbar": {
             "outlinewidth": 0,
             "ticks": ""
            },
            "colorscale": [
             [
              0,
              "#0d0887"
             ],
             [
              0.1111111111111111,
              "#46039f"
             ],
             [
              0.2222222222222222,
              "#7201a8"
             ],
             [
              0.3333333333333333,
              "#9c179e"
             ],
             [
              0.4444444444444444,
              "#bd3786"
             ],
             [
              0.5555555555555556,
              "#d8576b"
             ],
             [
              0.6666666666666666,
              "#ed7953"
             ],
             [
              0.7777777777777778,
              "#fb9f3a"
             ],
             [
              0.8888888888888888,
              "#fdca26"
             ],
             [
              1,
              "#f0f921"
             ]
            ],
            "type": "contour"
           }
          ],
          "contourcarpet": [
           {
            "colorbar": {
             "outlinewidth": 0,
             "ticks": ""
            },
            "type": "contourcarpet"
           }
          ],
          "heatmap": [
           {
            "colorbar": {
             "outlinewidth": 0,
             "ticks": ""
            },
            "colorscale": [
             [
              0,
              "#0d0887"
             ],
             [
              0.1111111111111111,
              "#46039f"
             ],
             [
              0.2222222222222222,
              "#7201a8"
             ],
             [
              0.3333333333333333,
              "#9c179e"
             ],
             [
              0.4444444444444444,
              "#bd3786"
             ],
             [
              0.5555555555555556,
              "#d8576b"
             ],
             [
              0.6666666666666666,
              "#ed7953"
             ],
             [
              0.7777777777777778,
              "#fb9f3a"
             ],
             [
              0.8888888888888888,
              "#fdca26"
             ],
             [
              1,
              "#f0f921"
             ]
            ],
            "type": "heatmap"
           }
          ],
          "heatmapgl": [
           {
            "colorbar": {
             "outlinewidth": 0,
             "ticks": ""
            },
            "colorscale": [
             [
              0,
              "#0d0887"
             ],
             [
              0.1111111111111111,
              "#46039f"
             ],
             [
              0.2222222222222222,
              "#7201a8"
             ],
             [
              0.3333333333333333,
              "#9c179e"
             ],
             [
              0.4444444444444444,
              "#bd3786"
             ],
             [
              0.5555555555555556,
              "#d8576b"
             ],
             [
              0.6666666666666666,
              "#ed7953"
             ],
             [
              0.7777777777777778,
              "#fb9f3a"
             ],
             [
              0.8888888888888888,
              "#fdca26"
             ],
             [
              1,
              "#f0f921"
             ]
            ],
            "type": "heatmapgl"
           }
          ],
          "histogram": [
           {
            "marker": {
             "pattern": {
              "fillmode": "overlay",
              "size": 10,
              "solidity": 0.2
             }
            },
            "type": "histogram"
           }
          ],
          "histogram2d": [
           {
            "colorbar": {
             "outlinewidth": 0,
             "ticks": ""
            },
            "colorscale": [
             [
              0,
              "#0d0887"
             ],
             [
              0.1111111111111111,
              "#46039f"
             ],
             [
              0.2222222222222222,
              "#7201a8"
             ],
             [
              0.3333333333333333,
              "#9c179e"
             ],
             [
              0.4444444444444444,
              "#bd3786"
             ],
             [
              0.5555555555555556,
              "#d8576b"
             ],
             [
              0.6666666666666666,
              "#ed7953"
             ],
             [
              0.7777777777777778,
              "#fb9f3a"
             ],
             [
              0.8888888888888888,
              "#fdca26"
             ],
             [
              1,
              "#f0f921"
             ]
            ],
            "type": "histogram2d"
           }
          ],
          "histogram2dcontour": [
           {
            "colorbar": {
             "outlinewidth": 0,
             "ticks": ""
            },
            "colorscale": [
             [
              0,
              "#0d0887"
             ],
             [
              0.1111111111111111,
              "#46039f"
             ],
             [
              0.2222222222222222,
              "#7201a8"
             ],
             [
              0.3333333333333333,
              "#9c179e"
             ],
             [
              0.4444444444444444,
              "#bd3786"
             ],
             [
              0.5555555555555556,
              "#d8576b"
             ],
             [
              0.6666666666666666,
              "#ed7953"
             ],
             [
              0.7777777777777778,
              "#fb9f3a"
             ],
             [
              0.8888888888888888,
              "#fdca26"
             ],
             [
              1,
              "#f0f921"
             ]
            ],
            "type": "histogram2dcontour"
           }
          ],
          "mesh3d": [
           {
            "colorbar": {
             "outlinewidth": 0,
             "ticks": ""
            },
            "type": "mesh3d"
           }
          ],
          "parcoords": [
           {
            "line": {
             "colorbar": {
              "outlinewidth": 0,
              "ticks": ""
             }
            },
            "type": "parcoords"
           }
          ],
          "pie": [
           {
            "automargin": true,
            "type": "pie"
           }
          ],
          "scatter": [
           {
            "fillpattern": {
             "fillmode": "overlay",
             "size": 10,
             "solidity": 0.2
            },
            "type": "scatter"
           }
          ],
          "scatter3d": [
           {
            "line": {
             "colorbar": {
              "outlinewidth": 0,
              "ticks": ""
             }
            },
            "marker": {
             "colorbar": {
              "outlinewidth": 0,
              "ticks": ""
             }
            },
            "type": "scatter3d"
           }
          ],
          "scattercarpet": [
           {
            "marker": {
             "colorbar": {
              "outlinewidth": 0,
              "ticks": ""
             }
            },
            "type": "scattercarpet"
           }
          ],
          "scattergeo": [
           {
            "marker": {
             "colorbar": {
              "outlinewidth": 0,
              "ticks": ""
             }
            },
            "type": "scattergeo"
           }
          ],
          "scattergl": [
           {
            "marker": {
             "colorbar": {
              "outlinewidth": 0,
              "ticks": ""
             }
            },
            "type": "scattergl"
           }
          ],
          "scattermapbox": [
           {
            "marker": {
             "colorbar": {
              "outlinewidth": 0,
              "ticks": ""
             }
            },
            "type": "scattermapbox"
           }
          ],
          "scatterpolar": [
           {
            "marker": {
             "colorbar": {
              "outlinewidth": 0,
              "ticks": ""
             }
            },
            "type": "scatterpolar"
           }
          ],
          "scatterpolargl": [
           {
            "marker": {
             "colorbar": {
              "outlinewidth": 0,
              "ticks": ""
             }
            },
            "type": "scatterpolargl"
           }
          ],
          "scatterternary": [
           {
            "marker": {
             "colorbar": {
              "outlinewidth": 0,
              "ticks": ""
             }
            },
            "type": "scatterternary"
           }
          ],
          "surface": [
           {
            "colorbar": {
             "outlinewidth": 0,
             "ticks": ""
            },
            "colorscale": [
             [
              0,
              "#0d0887"
             ],
             [
              0.1111111111111111,
              "#46039f"
             ],
             [
              0.2222222222222222,
              "#7201a8"
             ],
             [
              0.3333333333333333,
              "#9c179e"
             ],
             [
              0.4444444444444444,
              "#bd3786"
             ],
             [
              0.5555555555555556,
              "#d8576b"
             ],
             [
              0.6666666666666666,
              "#ed7953"
             ],
             [
              0.7777777777777778,
              "#fb9f3a"
             ],
             [
              0.8888888888888888,
              "#fdca26"
             ],
             [
              1,
              "#f0f921"
             ]
            ],
            "type": "surface"
           }
          ],
          "table": [
           {
            "cells": {
             "fill": {
              "color": "#EBF0F8"
             },
             "line": {
              "color": "white"
             }
            },
            "header": {
             "fill": {
              "color": "#C8D4E3"
             },
             "line": {
              "color": "white"
             }
            },
            "type": "table"
           }
          ]
         },
         "layout": {
          "annotationdefaults": {
           "arrowcolor": "#2a3f5f",
           "arrowhead": 0,
           "arrowwidth": 1
          },
          "autotypenumbers": "strict",
          "coloraxis": {
           "colorbar": {
            "outlinewidth": 0,
            "ticks": ""
           }
          },
          "colorscale": {
           "diverging": [
            [
             0,
             "#8e0152"
            ],
            [
             0.1,
             "#c51b7d"
            ],
            [
             0.2,
             "#de77ae"
            ],
            [
             0.3,
             "#f1b6da"
            ],
            [
             0.4,
             "#fde0ef"
            ],
            [
             0.5,
             "#f7f7f7"
            ],
            [
             0.6,
             "#e6f5d0"
            ],
            [
             0.7,
             "#b8e186"
            ],
            [
             0.8,
             "#7fbc41"
            ],
            [
             0.9,
             "#4d9221"
            ],
            [
             1,
             "#276419"
            ]
           ],
           "sequential": [
            [
             0,
             "#0d0887"
            ],
            [
             0.1111111111111111,
             "#46039f"
            ],
            [
             0.2222222222222222,
             "#7201a8"
            ],
            [
             0.3333333333333333,
             "#9c179e"
            ],
            [
             0.4444444444444444,
             "#bd3786"
            ],
            [
             0.5555555555555556,
             "#d8576b"
            ],
            [
             0.6666666666666666,
             "#ed7953"
            ],
            [
             0.7777777777777778,
             "#fb9f3a"
            ],
            [
             0.8888888888888888,
             "#fdca26"
            ],
            [
             1,
             "#f0f921"
            ]
           ],
           "sequentialminus": [
            [
             0,
             "#0d0887"
            ],
            [
             0.1111111111111111,
             "#46039f"
            ],
            [
             0.2222222222222222,
             "#7201a8"
            ],
            [
             0.3333333333333333,
             "#9c179e"
            ],
            [
             0.4444444444444444,
             "#bd3786"
            ],
            [
             0.5555555555555556,
             "#d8576b"
            ],
            [
             0.6666666666666666,
             "#ed7953"
            ],
            [
             0.7777777777777778,
             "#fb9f3a"
            ],
            [
             0.8888888888888888,
             "#fdca26"
            ],
            [
             1,
             "#f0f921"
            ]
           ]
          },
          "colorway": [
           "#636efa",
           "#EF553B",
           "#00cc96",
           "#ab63fa",
           "#FFA15A",
           "#19d3f3",
           "#FF6692",
           "#B6E880",
           "#FF97FF",
           "#FECB52"
          ],
          "font": {
           "color": "#2a3f5f"
          },
          "geo": {
           "bgcolor": "white",
           "lakecolor": "white",
           "landcolor": "#E5ECF6",
           "showlakes": true,
           "showland": true,
           "subunitcolor": "white"
          },
          "hoverlabel": {
           "align": "left"
          },
          "hovermode": "closest",
          "mapbox": {
           "style": "light"
          },
          "paper_bgcolor": "white",
          "plot_bgcolor": "#E5ECF6",
          "polar": {
           "angularaxis": {
            "gridcolor": "white",
            "linecolor": "white",
            "ticks": ""
           },
           "bgcolor": "#E5ECF6",
           "radialaxis": {
            "gridcolor": "white",
            "linecolor": "white",
            "ticks": ""
           }
          },
          "scene": {
           "xaxis": {
            "backgroundcolor": "#E5ECF6",
            "gridcolor": "white",
            "gridwidth": 2,
            "linecolor": "white",
            "showbackground": true,
            "ticks": "",
            "zerolinecolor": "white"
           },
           "yaxis": {
            "backgroundcolor": "#E5ECF6",
            "gridcolor": "white",
            "gridwidth": 2,
            "linecolor": "white",
            "showbackground": true,
            "ticks": "",
            "zerolinecolor": "white"
           },
           "zaxis": {
            "backgroundcolor": "#E5ECF6",
            "gridcolor": "white",
            "gridwidth": 2,
            "linecolor": "white",
            "showbackground": true,
            "ticks": "",
            "zerolinecolor": "white"
           }
          },
          "shapedefaults": {
           "line": {
            "color": "#2a3f5f"
           }
          },
          "ternary": {
           "aaxis": {
            "gridcolor": "white",
            "linecolor": "white",
            "ticks": ""
           },
           "baxis": {
            "gridcolor": "white",
            "linecolor": "white",
            "ticks": ""
           },
           "bgcolor": "#E5ECF6",
           "caxis": {
            "gridcolor": "white",
            "linecolor": "white",
            "ticks": ""
           }
          },
          "title": {
           "x": 0.05
          },
          "xaxis": {
           "automargin": true,
           "gridcolor": "white",
           "linecolor": "white",
           "ticks": "",
           "title": {
            "standoff": 15
           },
           "zerolinecolor": "white",
           "zerolinewidth": 2
          },
          "yaxis": {
           "automargin": true,
           "gridcolor": "white",
           "linecolor": "white",
           "ticks": "",
           "title": {
            "standoff": 15
           },
           "zerolinecolor": "white",
           "zerolinewidth": 2
          }
         }
        },
        "title": {
         "text": "Plot Title"
        },
        "xaxis": {
         "title": {
          "text": "X Axis Title"
         }
        },
        "yaxis": {
         "title": {
          "text": "Y Axis Title"
         }
        }
       }
      }
     },
     "metadata": {},
     "output_type": "display_data"
    }
   ],
   "source": [
    "fig = go.Figure()\n",
    "fig.add_trace(go.Scatter(\n",
    "    y = sorted_y_test,\n",
    "    name = 'Real value'\n",
    "))\n",
    "fig.add_trace(go.Scatter(\n",
    "    y = sorted_pred,\n",
    "    name = 'Prediction'\n",
    "))\n",
    "\n",
    "fig.update_layout(\n",
    "    title=\"Plot Title\",\n",
    "    xaxis_title=\"X Axis Title\",\n",
    "    yaxis_title=\"Y Axis Title\",\n",
    "    legend_title=\"Legend Title\",\n",
    ")\n",
    "fig.show()"
   ]
  },
  {
   "cell_type": "code",
   "execution_count": 95,
   "metadata": {},
   "outputs": [
    {
     "data": {
      "application/vnd.plotly.v1+json": {
       "config": {
        "plotlyServerURL": "https://plot.ly"
       },
       "data": [
        {
         "alignmentgroup": "True",
         "hovertemplate": "x=%{x}<br>y=%{y}<extra></extra>",
         "legendgroup": "",
         "marker": {
          "color": "#636efa",
          "pattern": {
           "shape": ""
          }
         },
         "name": "",
         "offsetgroup": "",
         "orientation": "h",
         "showlegend": false,
         "textposition": "auto",
         "type": "bar",
         "x": [
          9.470061004502913e-8,
          1.031383918909524e-7,
          0.0000018472939966619176,
          0.0000018827534427150712,
          0.000004338409491875633,
          0.000004347409873666663,
          0.000005015188359030167,
          0.000005442117030911499,
          0.000005497615100397268,
          0.000005809284784114237,
          0.000006235923556683513,
          0.000006478596831923888,
          0.00000674406673485365,
          0.000007287270306702581,
          0.000007577242032685176,
          0.000008484516091448532,
          0.00000857007552501056,
          0.000008778931064213922,
          0.000009485364422778791,
          0.000009676631409059759,
          0.000010372537410284148,
          0.000011083374074839813,
          0.00001125850633718624,
          0.00001339306414267064,
          0.00001368041026921212,
          0.000014100533636930896,
          0.000016978561043813084,
          0.000017145399328911724,
          0.000017779993563628642,
          0.000017920028073159057,
          0.00001946368300031314,
          0.00002054487709676302,
          0.000020564326402221157,
          0.0000213717479360022,
          0.000021878679979461836,
          0.000022562550129189075,
          0.000022763116484526884,
          0.000023239460732478925,
          0.000025583351278924716,
          0.00002729754305606794,
          0.000027502812205682435,
          0.000029119278285393105,
          0.000029143180151400185,
          0.00002921643650053478,
          0.000030026446652387934,
          0.00003007294306649296,
          0.00003068669005527768,
          0.0000317894611718445,
          0.00003273529340921096,
          0.0000361646508996923,
          0.00003754245462701804,
          0.00003850445762654166,
          0.000040215189572129,
          0.000041016908097959556,
          0.000041577070942757886,
          0.000041924704707989277,
          0.00004269089742558256,
          0.00004534607436476679,
          0.0000459005615662085,
          0.000046260702798574336,
          0.00004801496941595127,
          0.00004880550923979034,
          0.000049577601011484216,
          0.000051528154151262866,
          0.00005176237518879053,
          0.00005285900808699049,
          0.000056186550848815116,
          0.000057140259561557955,
          0.00005810384846909428,
          0.000060369991849366254,
          0.00006204006006595363,
          0.0000620525911170551,
          0.00006207777575611155,
          0.00006216977913811697,
          0.00006224920289941402,
          0.00006394748221580235,
          0.0000661384404631868,
          0.0000662858407153905,
          0.0000671288359868205,
          0.00006763367261258102,
          0.00006867817447680602,
          0.0000699768475323742,
          0.00007345074861370894,
          0.00007414069214325276,
          0.0000744757138867811,
          0.00007607676370787596,
          0.00007760090238389743,
          0.00007788972526471927,
          0.00007843301192266128,
          0.00008117652486520656,
          0.00008135294035332697,
          0.00008141998403586056,
          0.00008512898577790625,
          0.00008542607131333916,
          0.0000882656624196121,
          0.00008890681327622668,
          0.00008915401364167622,
          0.00009021831166529528,
          0.00009276857122612116,
          0.00009319579972606504,
          0.00009324467720958357,
          0.00009330419966527517,
          0.00009419938738449269,
          0.00009591505807760087,
          0.00009692623642139757,
          0.00009711994847000053,
          0.00009717133985033275,
          0.00009748270427647294,
          0.0000982589936928861,
          0.00009841324677619077,
          0.00009883709954626322,
          0.00010128684741886554,
          0.00010186778870157697,
          0.0001034371418435946,
          0.00010367538729419536,
          0.00010747403258370225,
          0.00011107753430230899,
          0.0001113118670432854,
          0.00011293252466520387,
          0.00011651090633907228,
          0.00011922852563458934,
          0.0001192883446005948,
          0.00012318248677102627,
          0.00012321661476401687,
          0.00012448239967013418,
          0.0001256628234892324,
          0.00012596019359875199,
          0.00012600100347324677,
          0.00012727188326927622,
          0.0001306604285538424,
          0.00013122388015454137,
          0.00013346250386025706,
          0.00013346606382968324,
          0.00013779107493043583,
          0.00014009981306723412,
          0.0001436356789937637,
          0.00014414066978053064,
          0.00014621750717804075,
          0.0001476065499668137,
          0.00015105395139919028,
          0.0001532408393347182,
          0.0001584695267060046,
          0.0001592230231709054,
          0.00016162752590222768,
          0.00016229189380618722,
          0.000163616337835059,
          0.00016378464634898282,
          0.00016510409838578946,
          0.00016721382753850437,
          0.00016899921411168698,
          0.00017014192901690026,
          0.00017342951138385216,
          0.00017382952643434302,
          0.00018181683006854575,
          0.00018964580357388723,
          0.00019188187086019562,
          0.00019339496247597668,
          0.00019348310376051753,
          0.0001961446487660321,
          0.00019892702132282773,
          0.00019908386741014996,
          0.00019921247678455944,
          0.0002031594753325366,
          0.0002033934397955672,
          0.00020666453719383093,
          0.00021399636115430556,
          0.0002140406317627064,
          0.0002157682471584488,
          0.00021737836274684453,
          0.00022497735477531607,
          0.00022505677162402721,
          0.00022600319852478305,
          0.00022703218674306757,
          0.00023039380876221333,
          0.00023200115277626315,
          0.00024236711267566505,
          0.000244464363047192,
          0.0002530469278981851,
          0.00025416691069907134,
          0.00026350845346360263,
          0.0002668432184743904,
          0.000268285110257762,
          0.0002694951494898002,
          0.0002716125855709489,
          0.00027312549475127997,
          0.00027356122196413253,
          0.00027580639622120664,
          0.00027729827209837176,
          0.0002785599700053417,
          0.00028360697415066123,
          0.0002839977431279543,
          0.00028793533942289074,
          0.00029088753078834983,
          0.00029170891279304125,
          0.0002978658238488995,
          0.00030034931930471846,
          0.0003180270818097485,
          0.00032027597188882947,
          0.000322038295829024,
          0.00032683862762408305,
          0.000327269094052954,
          0.0003311871808085676,
          0.00034068925681532343,
          0.0003409142763035383,
          0.00035186366042513385,
          0.00035339448042085895,
          0.0003534284808951655,
          0.00035518840422385213,
          0.0003574588367445812,
          0.00036741255676179976,
          0.00037324143864313366,
          0.0003769747074169585,
          0.00038488355609261177,
          0.00038512170152653585,
          0.00039200321466159615,
          0.0003960612498002724,
          0.0004000472874634765,
          0.0004001806536425487,
          0.0004007134979030256,
          0.0004079836900312526,
          0.00041494173228598066,
          0.00042079605490338097,
          0.0004229789262211156,
          0.00042391005845433696,
          0.0004264706843161986,
          0.00043233177859736,
          0.0004401315457987324,
          0.0004402117382433729,
          0.0004592587165237454,
          0.00046921963835304896,
          0.00046992824290490565,
          0.00047840750809558115,
          0.0004894522734862057,
          0.000490007180430262,
          0.0004904564554579959,
          0.0004962842078035492,
          0.0005086327433686008,
          0.0005173868253454872,
          0.0005210560928301826,
          0.0005234878083854849,
          0.0005455027528620714,
          0.0005546199963858173,
          0.0005553868715227252,
          0.0005649638238503163,
          0.0005805172730880631,
          0.0005833206655659097,
          0.0005892786470518634,
          0.0005947129448680779,
          0.0005975040300408686,
          0.0005995444288458189,
          0.0006008534494771491,
          0.0006100032826321062,
          0.0006110646117918937,
          0.0006279818940541638,
          0.0006287008891922565,
          0.0006351878194307266,
          0.0006412263359017725,
          0.0006437785503186287,
          0.0006636360469575407,
          0.0006763204881448874,
          0.0006937093766377771,
          0.0006940953777406248,
          0.0006956100177017469,
          0.0007010693184856943,
          0.000707307990361304,
          0.0007083569042939962,
          0.0007088101151930339,
          0.0007131155368707439,
          0.0007154677970178887,
          0.000726884268224927,
          0.0007335545506001636,
          0.0007395769022809702,
          0.0007608743004465561,
          0.0007619959255981125,
          0.0007624953802383204,
          0.0007625550947268757,
          0.0007670105040021663,
          0.0007678453613073279,
          0.0007702835939895549,
          0.0007784427881544736,
          0.0007832528643219311,
          0.0007979424559315619,
          0.00082517915472181,
          0.000826061793997782,
          0.0008329887194352487,
          0.0008365411033720834,
          0.0008415510931085842,
          0.0008502583671322972,
          0.0008521442255409468,
          0.0008604252562505262,
          0.0008637514989857315,
          0.0008949731188637982,
          0.0008950852292562538,
          0.0009009961791712886,
          0.0009082073873907872,
          0.0009094713735694369,
          0.0009096884721170608,
          0.0009263366555090518,
          0.0009401845228452271,
          0.0009477602798415745,
          0.000952522071378643,
          0.000983073618772556,
          0.0010016695993769606,
          0.0010167265207651523,
          0.0010191531596766142,
          0.0010303856970825072,
          0.0010317603488820776,
          0.001033324663950929,
          0.001049118952101795,
          0.0010529300219871125,
          0.0010534492921427461,
          0.001062431955851216,
          0.001077760803817323,
          0.0010836356215842373,
          0.001095393845866854,
          0.0011185972435643302,
          0.0011297520608092029,
          0.0011305828106434798,
          0.0011318471745095271,
          0.0011329050797788183,
          0.0011439751107808435,
          0.0011574451850258792,
          0.001165491208453121,
          0.0011974291846630952,
          0.0012014072640151275,
          0.0012089354179115842,
          0.0012274711107724962,
          0.0012315792990184877,
          0.0012391567424232895,
          0.001267419459543887,
          0.0012799393901263701,
          0.0012880430184239171,
          0.0012892251869595923,
          0.0013024903289626832,
          0.0013437134744672622,
          0.0013496047152545283,
          0.0013517244066054168,
          0.0013822819607538046,
          0.0013888492993202866,
          0.0013912230733830423,
          0.0013954918975428545,
          0.0013974661373287911,
          0.0014358958029637495,
          0.001450344763102167,
          0.001454550431866719,
          0.001464854482164476,
          0.0014767466151185673,
          0.0014943012127373778,
          0.001495586560008815,
          0.0015117467750536116,
          0.001535564235962543,
          0.0015492685205495639,
          0.0015509343890003332,
          0.001554899733098632,
          0.001581358267969137,
          0.001582128212577921,
          0.0016041470262530692,
          0.001633830512011253,
          0.0016723249861995226,
          0.0016792297325356493,
          0.0016857904910059127,
          0.0017071928036615878,
          0.0017121261155040868,
          0.001732580823239126,
          0.001737847841288929,
          0.0017483582922366203,
          0.0017776778703356706,
          0.001781286018183172,
          0.0017827233345250474,
          0.0017872263003750998,
          0.0018079264284185906,
          0.0018104908009713748,
          0.0018113735384701585,
          0.0018193214337324259,
          0.0018936617749688597,
          0.0019295938508734729,
          0.001957087000170152,
          0.0019667421822413744,
          0.001976392456259041,
          0.0019782451585948933,
          0.0020196454390489925,
          0.002068507570313944,
          0.0021310811782168375,
          0.0021361494345763397,
          0.002239217609609604,
          0.002254586523750824,
          0.0022930414174599668,
          0.002294026285428284,
          0.002323881561833217,
          0.0023400307506449315,
          0.002392777013952727,
          0.0024001685689030478,
          0.0024065577995870625,
          0.002406639841726042,
          0.0024629822632032438,
          0.002465334625440962,
          0.0025267422337243413,
          0.002553724407801964,
          0.0025665238957668203,
          0.002568398624619236,
          0.0025952577187946823,
          0.0025989180432088085,
          0.002619822340131245,
          0.0026357114388503135,
          0.002665237671054628,
          0.0026851589173458273,
          0.0027086862135304157,
          0.0027133628535716647,
          0.0027216720786598174,
          0.0027226700211496536,
          0.0027406875988371365,
          0.0027615136739828805,
          0.002778976995870136,
          0.0028002023262626396,
          0.0028234947413624855,
          0.002842206089995559,
          0.0028833050398319377,
          0.0029233008676082446,
          0.0029340180648250542,
          0.002959108445268246,
          0.0029901094294213916,
          0.003022622456453231,
          0.00306284402202546,
          0.003072101870425162,
          0.0030898204074716845,
          0.003090572748871544,
          0.003105748527718902,
          0.00310828563605877,
          0.0031162405633404504,
          0.003125480248693282,
          0.003128477121411017,
          0.0031884234615792957,
          0.0032328137755412473,
          0.003436510890818693,
          0.0034771902246775736,
          0.003613321474887897,
          0.0036504281060041294,
          0.0038726678822700767,
          0.0038788524731377914,
          0.003930324303723937,
          0.0039543724880771736,
          0.003982751383964947,
          0.004067368295704132,
          0.004270029762524375,
          0.004283117677213519,
          0.004490396785766022,
          0.004720940806015986,
          0.004762636087492327,
          0.004786002710480938,
          0.0048663555245527105,
          0.004881457665902905,
          0.005025331146129413,
          0.0050288675103413475,
          0.005039109012150117,
          0.00517490405490319,
          0.0054482724333034735,
          0.005751962894291102,
          0.005895175686414476,
          0.0063286464735603,
          0.006698440569997094,
          0.0075534313226874985,
          0.007600598575205754,
          0.007984306499979183,
          0.008393868643112758,
          0.008573781315203761,
          0.009482159811125289,
          0.010933221334984115,
          0.01098386343963139,
          0.013116251764130385,
          0.013429459522824937,
          0.013691493841984242,
          0.015118734080218939,
          0.015264062134910389,
          0.01592091314520133,
          0.019986132634731715,
          0.029049339789063527,
          0.02999051663878066,
          0.05120685152077595,
          0.054041395233160004,
          0.054245316477181,
          0.06559576033301126,
          0.07334204304757795
         ],
         "xaxis": "x",
         "y": [
          "Rekreacja:galerie sztuki\nPoza obiektem",
          "Rekreacja:zabiegi upiększające",
          "Rekreacja:minigolf\nDodatkowa opłata",
          "Odkryty basen:płotek wokół basenu",
          "Kryty basen:zabawki do wody",
          "Rekreacja:pakiet spa / wellness",
          "Centrum wellness:masaż pleców\nDodatkowa opłata",
          "Rekreacja:aerobik\nPoza obiektem\nDodatkowa opłata",
          "Rekreacja:nurkowanie\nPoza obiektem\nDodatkowa opłata",
          "Rekreacja:muzyka na żywo\nPoza obiektem\nDodatkowa opłata",
          "Rekreacja:nurkowanie z rurką\nPoza obiektem",
          "Centrum wellness:układanie włosów",
          "Rekreacja:wydarzenia sportowe na żywo (relacja na żywo)\nPoza obiektem\nDodatkowa opłata",
          "Ogólne:legowisko dla pupila",
          "Centrum wellness:koloryzacja włosów",
          "Rekreacja:bezpłatne rowery",
          "Rekreacja:łucznictwo\nPoza obiektem\nDodatkowa opłata",
          "Usługi:wózki dziecięce",
          "Centrum wellness:zabiegi na włosy",
          "Rekreacja:stand-up\nPoza obiektem\nDodatkowa opłata",
          "Centrum wellness:zabiegi na twarz",
          "Zaplecze odnowy biologicznej:masaż stóp\nDodatkowa opłata",
          "Zaplecze odnowy biologicznej:masaż głowy\nDodatkowa opłata",
          "Rekreacja:galerie sztuki\nPoza obiektem\nDodatkowa opłata",
          "Zaplecze odnowy biologicznej:masaż szyi\nDodatkowa opłata",
          "Rekreacja:windsurfing\nDodatkowa opłata",
          "Różne:niska umywalka",
          "Centrum wellness:makijaż",
          "Centrum wellness:terapia światłem",
          "Kryty basen:mały basen",
          "Usługi dla rodzin i oferta rozrywkowa:klub nocny / DJ\nDodatkowa opłata",
          "Rekreacja:masaż pleców\nDodatkowa opłata",
          "Ogólne:wspólny salon / sala TV",
          "Rekreacja:sprzęt do tenisa\nDodatkowa opłata",
          "Rekreacja:kort tenisowy",
          "Ogólne:dostawa artykułów spożywczych\nDodatkowa opłata",
          "Zaplecze odnowy biologicznej:peeling ciała",
          "Centrum wellness:zajęcia fitness",
          "Zaplecze odnowy biologicznej:masaż dłoni\nDodatkowa opłata",
          "Rekreacja:kajakarstwo",
          "Ogólne:sejf na laptopa",
          "Rekreacja:piesze wycieczki\nPoza obiektem\nDodatkowa opłata",
          "Udogodnienia dla niepełnosprawnych:niska umywalka",
          "Ogólne:miski dla pupila",
          "Ogólne:wypożyczalnia samochodów",
          "Ogólne:moskitiera",
          "Rekreacja:happy hour",
          "Usługi recepcji:ekspresowe zameldowanie / wymeldowanie\nDodatkowa opłata",
          "Rekreacja:muzyka na żywo",
          "Usługi:codzienne sprzątanie\nDodatkowa opłata",
          "Zaplecze odnowy biologicznej:masaż całego ciała\nDodatkowa opłata",
          "Rekreacja:masaż całego ciała\nDodatkowa opłata",
          "Udogodnienia w pokoju:wanna z hydromasażem",
          "Widok:widok na punkt orientacyjny",
          "Usługi dla rodzin i oferta rozrywkowa:opieka nad dziećmi\nDodatkowa opłata",
          "Różne:wysoka toaleta",
          "Posiłki i napoje:dostawa artykułów spożywczych\nDodatkowa opłata",
          "Centrum wellness:strzyżenie",
          "2 basenów:płotek wokół basenu",
          "Kryty basen:ręczniki kąpielowe/plażowe",
          "Rekreacja:masaż głowy\nDodatkowa opłata",
          "Rekreacja:squash\nPoza obiektem\nDodatkowa opłata",
          "2 basenów:basen z widokiem",
          "Centrum wellness:pedicure",
          "Usługi:biuro informacji turystycznej",
          "Zaplecze odnowy biologicznej:fitness",
          "Odkryty basen:brodzik",
          "Udogodnienia dla niepełnosprawnych:wysoka toaleta",
          "Rekreacja:masaż szyi\nDodatkowa opłata",
          "Zaplecze biznesowe:centrum biznesowe",
          "Rekreacja:wieczór filmowy\nPoza obiektem\nDodatkowa opłata",
          "Rekreacja:spa i centrum odnowy biologicznej\nDodatkowa opłata",
          "Ogólne:sejf",
          "2 basenów:parasole przeciwsłoneczne",
          "Rekreacja:wypożyczalnia rowerów (dodatkowa opłata)",
          "Rekreacja:kajakarstwo\nPoza obiektem",
          "Zaplecze odnowy biologicznej:udogodnienia spa",
          "Centrum wellness:łaźnia turecka / parowa\nDodatkowa opłata",
          "Media/Technologia:odtwarzacz wideo",
          "Różne:miski dla pupila",
          "Usługi:zamykane szafki",
          "Zaplecze odnowy biologicznej:zabiegi na twarz",
          "Zaplecze odnowy biologicznej:masaż pleców\nDodatkowa opłata",
          "Rekreacja:muzyka na żywo\nPoza obiektem",
          "Kryty basen:brodzik",
          "Usługi:zaplecze bankietowe / konferencyjne\nDodatkowa opłata",
          "Usługi recepcji:usługi konsjerża",
          "Usługi:faks / ksero",
          "Rekreacja:sauna\nDodatkowa opłata",
          "Ogólne:czujnik tlenku węgla",
          "Usługi dla rodzin i oferta rozrywkowa:wieczorne rozrywki\nDodatkowa opłata",
          "Centrum wellness:kąpiel stóp",
          "Zaplecze odnowy biologicznej:salon spa / strefa relaksacyjna",
          "Rekreacja:salon spa / strefa relaksacyjna",
          "3 basenów:Sezonowy",
          "Ogólne:dźwiękoszczelność",
          "Ogólne:sklep na miejscu",
          "Centrum wellness:trener personalny",
          "Usługi dla rodzin i oferta rozrywkowa:zespół animatorów",
          "Rekreacja:wanna z hydromasażem / jacuzzi\nDodatkowa opłata",
          "Transport:transfer na lotnisko\nDodatkowa opłata",
          "Widok:widok na jezioro",
          "Rekreacja:masaż dłoni\nDodatkowa opłata",
          "Ogólne:tylko dla dorosłych",
          "Zaplecze biznesowe:faks / ksero",
          "Centrum wellness:masaż całego ciała\nDodatkowa opłata",
          "Rekreacja:zaplecze do sportów wodnych na miejscu",
          "Centrum wellness:łaźnia parowa",
          "Centrum wellness:udogodnienia spa",
          "Okolica i widok:widok na basen",
          "Usługi sprzątania:usługa prasowania\nDodatkowa opłata",
          "Centrum wellness:wanna z hydromasażem / jacuzzi\nDodatkowa opłata",
          "Rekreacja:bilard\nDodatkowa opłata",
          "Rekreacja:jazda konna\nPoza obiektem",
          "Centrum wellness:masaż dłoni\nDodatkowa opłata",
          "Usługi:faks / ksero\nDodatkowa opłata",
          "Centrum wellness:fotel do masażu",
          "Kryty basen:leżaki lub krzesełka plażowe",
          "Transport:wypożyczalnia samochodów",
          "Rekreacja:kort tenisowy\nDodatkowa opłata",
          "Centrum wellness:masaż szyi\nDodatkowa opłata",
          "Rekreacja:masaż stóp\nDodatkowa opłata",
          "Centrum wellness:szatnia / przebieralnia",
          "Cechy budynku:bliźniak",
          "Rekreacja:jazda konna\nDodatkowa opłata",
          "Centrum wellness:peeling ciała",
          "Media/Technologia:odtwarzacz CD",
          "Zaplecze odnowy biologicznej:spa i centrum odnowy biologicznej\nDodatkowa opłata",
          "Posiłki i napoje:obiady na wynos",
          "Zaplecze odnowy biologicznej:sauna\nDodatkowa opłata",
          "Centrum wellness:masaż stóp\nDodatkowa opłata",
          "Basen i odnowa biologiczna:ręczniki kąpielowe/plażowe",
          "Centrum wellness:zabiegi na ciało",
          "Kryty basen:Godziny pracy",
          "Media/Technologia:telefon",
          "Centrum wellness:spa i centrum odnowy biologicznej",
          "Usługi:fryzjer / salon piękności",
          "Zaplecze odnowy biologicznej:wanna z hydromasażem / jacuzzi\nDodatkowa opłata",
          "Usługi dla rodzin i oferta rozrywkowa:klub dla dzieci\nDodatkowa opłata",
          "Widok:widok",
          "Usługi recepcji:zamykane szafki",
          "Rekreacja:sprzęt do tenisa",
          "Posiłki i napoje:minibar",
          "Usługi dla rodzin i oferta rozrywkowa:zatyczki zabezpieczające do gniazdek elektrycznych",
          "Centrum wellness:masaż głowy\nDodatkowa opłata",
          "Zaplecze odnowy biologicznej:parasole przeciwsłoneczne",
          "Ogólne:udogodnienia dla niepełnosprawnych",
          "Usługi sprzątania:codzienne sprzątanie\nDodatkowa opłata",
          "Zaplecze odnowy biologicznej:zabiegi na ciało",
          "Usługi:obiady na wynos",
          "Centrum wellness:centrum fitness\nDodatkowa opłata",
          "Bezpieczeństwo:sejf\nDodatkowa opłata",
          "Centrum wellness:zjeżdżalnia wodna",
          "Usługi dodatkowe:budzenie na życzenie",
          "Usługi:wymiana walut",
          "Ogólne:budzenie na życzenie",
          "Usługi:transfer (dodatkowa opłata)",
          "Usługi:miski dla pupila",
          "Posiłki i napoje:bar przekąskowy",
          "Rekreacja:pole golfowe (w promieniu 3 km)\nDodatkowa opłata",
          "Ogólne:budzenie na życzenie / budzik",
          "Łazienka:sauna",
          "Usługi dla rodzin i oferta rozrywkowa:wózki dziecięce",
          "Rekreacja:park wodny",
          "Udogodnienia dla niepełnosprawnych:dostęp dla wózków inwalidzkich",
          "Okolica:prywatna plaża",
          "Okolica:miejsce na ognisko",
          "Ogólne:pokoje dźwiękoszczelne",
          "Rekreacja:zabiegi na ciało",
          "Odkryty basen:basen z podgrzewaną wodą",
          "Usługi:dostęp do Internetu przez Wi-Fi",
          "Rekreacja:wędkowanie\nDodatkowa opłata",
          "Łazienka:wspólna toaleta",
          "Sklepy:fryzjer / salon piękności",
          "Kryty basen:basen z podgrzewaną wodą",
          "Centrum wellness:manicure",
          "Usługi sprzątania:pralnia",
          "Rekreacja:masaż\nDodatkowa opłata",
          "Zaplecze odnowy biologicznej:pedicure",
          "Transport:transfer z lotniska\nDodatkowa opłata",
          "Rekreacja:windsurfing",
          "Ogólne:wentylator",
          "Usługi sprzątania:pralnia chemiczna\nDodatkowa opłata",
          "Rekreacja:piesze wycieczki\nDodatkowa opłata",
          "Widok:widok na wewnętrzny dziedziniec",
          "Centrum wellness:masaż",
          "Odkryty basen:Wstęp dla osób w każdym wieku",
          "Rekreacja:wycieczka lub spacer po miejscowych zabytkach\nDodatkowa opłata",
          "Centrum wellness:parasole przeciwsłoneczne",
          "Zaplecze biznesowe:zaplecze bankietowe / konferencyjne\nDodatkowa opłata",
          "Rekreacja:puby",
          "Centrum wellness:masaż dla par\nDodatkowa opłata",
          "Rekreacja:łaźnia turecka / parowa",
          "Usługi:transfer lotniskowy (dodatkowa opłata)",
          "Udogodnienia dla niepełnosprawnych:toaleta z uchwytami",
          "Posiłki i napoje:owoce\nDodatkowa opłata",
          "Zaplecze biznesowe:centrum biznesowe\nDodatkowa opłata",
          "Posiłki i napoje:owoce",
          "Centrum wellness:sauna\nDodatkowa opłata",
          "Usługi dla rodzin i oferta rozrywkowa:klub dla dzieci",
          "Usługi:pralnia\nDodatkowa opłata",
          "Centrum wellness:ręczniki kąpielowe/plażowe",
          "Usługi dla rodzin i oferta rozrywkowa:wieczorne rozrywki",
          "Sypialnia:budzik",
          "Rekreacja:wędkowanie",
          "Rekreacja:jazda konna\nPoza obiektem\nDodatkowa opłata",
          "Rekreacja:łaźnia parowa",
          "Usługi recepcji:wymiana walut",
          "Różne:pokoje dla alergików",
          "Rekreacja:park wodny\nDodatkowa opłata",
          "2 basenów:brodzik",
          "Centrum wellness:spa i centrum odnowy biologicznej\nDodatkowa opłata",
          "Rekreacja:kort tenisowy\nPoza obiektem",
          "Centrum wellness:depilacja woskiem",
          "Rekreacja:kręgielnia\nPoza obiektem\nDodatkowa opłata",
          "Odkryty basen:leżaki lub krzesełka plażowe",
          "Usługi:wspólny salon / sala TV",
          "Ogólne:sprzęt do prasowania",
          "Rekreacja:puby\nDodatkowa opłata",
          "Zaplecze odnowy biologicznej:zabiegi upiększające",
          "Kryty basen:zadaszony basen",
          "Ogólne:prywatne wejście",
          "Rekreacja:windsurfing\nPoza obiektem",
          "Udogodnienia w pokoju:moskitiera",
          "Posiłki i napoje:śniadanie w pokoju",
          "Centrum wellness:wanna z hydromasażem / jacuzzi",
          "Usługi:budzenie na życzenie",
          "Ogólne:obiady na wynos",
          "Zaplecze odnowy biologicznej:szatnia / przebieralnia",
          "Ogólne:transfer (dodatkowa opłata)",
          "Odkryty basen:Sezonowy",
          "Rekreacja:wieczór filmowy",
          "Rekreacja:wycieczki rowerowe\nDodatkowa opłata",
          "Różne:dostęp dla wózków inwalidzkich",
          "Centrum wellness:zabiegi upiększające",
          "Języki:francuski",
          "Usługi dla rodzin i oferta rozrywkowa:książki, DVD lub muzyka dla dzieci",
          "Okolica i widok:widok na punkt orientacyjny",
          "Centrum wellness:pakiet spa / wellness",
          "Rekreacja:kręgielnia\nPoza obiektem",
          "Usługi recepcji:bankomat na terenie obiektu",
          "Rekreacja:udogodnienia spa",
          "Różne:udogodnienia dla niepełnosprawnych",
          "Udogodnienia w pokoju:pokoje łączone",
          "Ogólne:pokoje łączone",
          "Zaplecze odnowy biologicznej:manicure",
          "Różne:część przeznaczona dla palących",
          "Ogólne:obsługa pokoju",
          "Łazienka:wanna z hydromasażem",
          "Ogólne:podłoga wyłożona kafelkami lub marmurem",
          "Łazienka:ręczniki / pościel (dostępne za dodatkową opłatą)",
          "Rekreacja:nurkowanie\nPoza obiektem",
          "Usługi:całodobowa recepcja",
          "Rekreacja:tenis stołowy",
          "2 basenów:basen z podgrzewaną wodą",
          "Usługi:ekspresowe zameldowanie / wymeldowanie",
          "Rekreacja:park wodny\nPoza obiektem\nDodatkowa opłata",
          "Zaplecze odnowy biologicznej:masaż\nDodatkowa opłata",
          "Widok:widok na ogród",
          "2 basenów:Otwarty przez cały rok",
          "2 basenów:leżaki lub krzesełka plażowe",
          "Ogólne:drewniana podłoga lub parkiet",
          "Rekreacja:kręgielnia\nDodatkowa opłata",
          "Rekreacja:wędkowanie\nPoza obiektem\nDodatkowa opłata",
          "Rekreacja:bilard",
          "Rekreacja:wycieczki rowerowe",
          "Rekreacja:pokój gier",
          "Rekreacja:wędkowanie\nPoza obiektem",
          "Rekreacja:lokalizacja przy samej plaży",
          "Rekreacja:kort tenisowy\nPoza obiektem\nDodatkowa opłata",
          "Usługi:obsługa pokoju",
          "Zaplecze odnowy biologicznej:leżaki lub krzesełka plażowe",
          "Ogólne:przyjazny alergikom",
          "Ogólne:pokoje dla niepalących",
          "Udogodnienia w pokoju:wykładzina podłogowa",
          "Rekreacja:rzutki",
          "Ogólne:ogrzewanie",
          "Usługi recepcji:przechowalnia bagażu",
          "Języki:ukraiński",
          "Rekreacja:jazda konna",
          "Posiłki i napoje:posiłki dla dzieci",
          "Kryty basen:Wstęp dla osób w każdym wieku",
          "2 basenów:Godziny pracy",
          "Rekreacja:kajakarstwo\nPoza obiektem\nDodatkowa opłata",
          "Różne:pokoje dźwiękoszczelne",
          "Łazienka:bidet",
          "Okolica:prywatny basen",
          "Rekreacja:park wodny\nPoza obiektem",
          "Bezpieczeństwo:czujnik tlenku węgla",
          "Usługi dla rodzin i oferta rozrywkowa:bramki zabezpieczające dla dzieci",
          "Języki:szwedzki",
          "Języki:włoski",
          "Media/Technologia:odtwarzacz DVD",
          "Rekreacja:zaplecze do sportów wodnych na miejscu\nDodatkowa opłata",
          "Rekreacja:windsurfing\nPoza obiektem\nDodatkowa opłata",
          "Usługi sprzątania:codzienne sprzątanie",
          "Okolica:patio",
          "Transport:wypożyczalnia rowerów (dodatkowa opłata)",
          "Bezpieczeństwo:sejf",
          "Media/Technologia:radio",
          "Rekreacja:wydarzenia sportowe na żywo (relacja na żywo)",
          "Udogodnienia dla niepełnosprawnych:całość dostępna dla wózków inwalidzkich",
          "Centrum wellness:salon spa / strefa relaksacyjna",
          "Sklepy:sklep na miejscu",
          "Usługi sprzątania:pralnia\nDodatkowa opłata",
          "Rekreacja:szatnia / przebieralnia",
          "Usługi dla rodzin i oferta rozrywkowa:sala zabaw",
          "Ogólne:fryzjer / salon piękności",
          "Rekreacja:plac zabaw dla dzieci",
          "Rekreacja:jazda na rowerze\nPoza obiektem",
          "Usługi dla rodzin i oferta rozrywkowa:plac zabaw dla dzieci",
          "Posiłki i napoje:obsługa pokoju",
          "Ogólne:całkowity zakaz palenia",
          "Ogólne:część przeznaczona dla palących",
          "Ogólne:transfer lotniskowy (dodatkowa opłata)",
          "2 basenów:Wstęp dla osób w każdym wieku",
          "Zaplecze odnowy biologicznej:wanna z hydromasażem / jacuzzi",
          "Zaplecze odnowy biologicznej:ręczniki kąpielowe/plażowe",
          "Posiłki i napoje:specjalne potrawy dietetyczne (na życzenie)",
          "Udogodnienia w pokoju:ogrzewanie",
          "Okolica i widok:widok",
          "Udogodnienia dla niepełnosprawnych:całość zlokalizowana na parterze",
          "Posiłki i napoje:posiłki dla dzieci\nDodatkowa opłata",
          "Sypialnia:garderoba",
          "Udogodnienia w pokoju:przyjazny alergikom",
          "Okolica i widok:widok na ogród",
          "Okolica i widok:widok na wewnętrzny dziedziniec",
          "Usługi dla rodzin i oferta rozrywkowa:plac zabaw",
          "Rekreacja:sauna",
          "Kryty basen:Otwarty przez cały rok",
          "Okolica:grill",
          "Udogodnienia w pokoju:sprzęt do prasowania",
          "Okolica:sprzęt do grillowania\nDodatkowa opłata",
          "Zaplecze odnowy biologicznej:centrum fitness",
          "Rekreacja:wieczorne rozrywki",
          "Bezpieczeństwo:gaśnice",
          "Łazienka:dodatkowa łazienka",
          "Rekreacja:aerobik\nDodatkowa opłata",
          "Zaplecze odnowy biologicznej:sauna",
          "Centrum wellness:masaż\nDodatkowa opłata",
          "Sypialnia:długie łóżka (> 2 metry)",
          "Różne:pokoje dla niepalących",
          "Języki:rosyjski",
          "Parking:parking dla osób niepełnosprawnych",
          "Ogólne:wykładzina podłogowa",
          "Posiłki i napoje:bufet z potrawami dla dzieci",
          "Bezpieczeństwo:dostęp za pomocą kluczy",
          "Usługi recepcji:ekspresowe zameldowanie / wymeldowanie",
          "Łazienka:prysznic",
          "Ogólne:klimatyzacja",
          "Usługi:indywidualne zameldowanie / wymeldowanie",
          "Rekreacja:sprzęt do badmintona",
          "Usługi:przechowalnia bagażu",
          "Usługi dla rodzin i oferta rozrywkowa:gry planszowe / puzzle",
          "Różne:ogrzewanie",
          "Łazienka:prywatna łazienka",
          "Centrum wellness:fitness",
          "Cechy budynku:wolnostojący",
          "Kuchnia:suszarka bębnowa",
          "Pomieszczenia ogólnodostępne:pokój gier",
          "Kuchnia:przybory kuchenne",
          "Media/Technologia:telewizor z płaskim ekranem",
          "Okolica:taras słoneczny",
          "Usługi recepcji:całodobowa recepcja",
          "Różne:pokoje rodzinne",
          "Usługi recepcji:biuro informacji turystycznej",
          "Okolica:stół na świeżym powietrzu",
          "Bezpieczeństwo:monitoring wokół obiektu",
          "Udogodnienia w pokoju:suszarka na ubrania",
          "Media/Technologia:kanały satelitarne",
          "Centrum wellness:łaźnia turecka / parowa",
          "Usługi recepcji:indywidualne zameldowanie / wymeldowanie",
          "Rekreacja:wanna z hydromasażem / jacuzzi",
          "Udogodnienia w pokoju:podłoga wyłożona kafelkami lub marmurem",
          "Salon:kominek",
          "Języki:hiszpański",
          "Rekreacja:piesze wycieczki\nPoza obiektem",
          "Salon:biurko",
          "Kuchnia:czajnik elektryczny",
          "Udogodnienia w pokoju:klimatyzacja",
          "Rekreacja:jazda na rowerze",
          "Rekreacja:zespół animatorów",
          "Media/Technologia:kanały kablowe",
          "Kuchnia:pralka",
          "Udogodnienia w pokoju:drewniana podłoga lub parkiet",
          "Salon:część jadalna",
          "Łazienka:wanna lub prysznic",
          "Udogodnienia w pokoju:dźwiękoszczelność",
          "Sypialnia:pościel",
          "Rekreacja:wycieczka lub spacer po miejscowych zabytkach",
          "Łazienka:toaleta",
          "Udogodnienia dla niepełnosprawnych:dojście na wyższe piętra tylko schodami",
          "Okolica:miejsce na piknik",
          "2 basenów:Sezonowy",
          "Łazienka:ręczniki",
          "Media/Technologia:telewizor",
          "Kuchnia:kuchenka mikrofalowa",
          "2 basenów:mały basen",
          "Sypialnia:szafa lub garderoba",
          "Okolica:meble ogrodowe",
          "Parking:parking strzeżony",
          "Zaplecze biznesowe:faks / ksero\nDodatkowa opłata",
          "Posiłki i napoje:zestaw do parzenia kawy i herbaty",
          "Posiłki i napoje:kawiarnia na miejscu",
          "Udogodnienia w pokoju:prywatne wejście",
          "Rekreacja:plaża",
          "Kuchnia:środki czystości",
          "Kuchnia:lodówka",
          "Łazienka:bezpłatny zestaw kosmetyków",
          "Łazienka:wanna",
          "Udogodnienia w pokoju:wentylator",
          "Okolica:ogród",
          "Okolica:taras",
          "Widok:widok na morze",
          "Udogodnienia w pokoju:gniazdko koło łóżka",
          "Bezpieczeństwo:monitoring w pomieszczeniach ogólnodostępnych",
          "Bezpieczeństwo:całodobowa ochrona",
          "Parking:parking przy ulicy",
          "Posiłki i napoje:restauracja",
          "Ogólne:pokoje dla alergików",
          "Udogodnienia w pokoju:żelazko",
          "Usługi:codzienne sprzątanie",
          "Transport:transfer lotniskowy (dodatkowa opłata)",
          "Ogólne:żelazko",
          "Transport:transfer (dodatkowa opłata)",
          "Okolica:balkon",
          "Rekreacja:piesze wycieczki",
          "Różne:winda",
          "Media/Technologia:płatne kanały",
          "Bezpieczeństwo:system alarmowy",
          "Posiłki i napoje:wino / szampan\nDodatkowa opłata",
          "Udogodnienia w pokoju:wieszak na ubrania",
          "Łazienka:papier toaletowy",
          "Języki:angielski",
          "Języki:niemiecki",
          "Udogodnienia w pokoju:łóżko polowe",
          "Kuchnia:piekarnik",
          "Łazienka:kapcie",
          "Kuchnia:toster",
          "Kuchnia:stół",
          "Kuchnia:kuchnia",
          "Bezpieczeństwo:dostęp za pomocą karty",
          "Parking:stacja ładowania pojazdów elektrycznych",
          "Ogólne:pokoje rodzinne",
          "Posiłki i napoje:bar",
          "Posiłki i napoje:wino / szampan",
          "Usługi recepcji:Możliwe wystawienie faktury",
          "Kuchnia:płyta kuchenna",
          "Bezpieczeństwo:czujnik dymu",
          "Cechy budynku:prywatne mieszkanie w budynku",
          "Kuchnia:aneks kuchenny",
          "Języki:polski",
          "Centrum wellness:leżaki lub krzesełka plażowe",
          "Parking:parking w garażu",
          "Pomieszczenia ogólnodostępne:wspólny salon / sala TV",
          "Łazienka:wspólna łazienka",
          "Łazienka:dodatkowa toaleta",
          "Centrum wellness:centrum fitness",
          "Kuchnia:krzesełko dla dzieci",
          "Salon:sofa",
          "Różne:klimatyzacja",
          "Salon:część wypoczynkowa",
          "Rekreacja:klub dla dzieci",
          "Udogodnienia w pokoju:rozkładana sofa",
          "Okolica:sprzęt do grillowania",
          "Centrum wellness:sauna",
          "Łazienka:szlafrok",
          "Udogodnienia dla niepełnosprawnych:dojazd windą na wyższe piętra",
          "Czystość",
          "Udogodnienia",
          "Bezpłatne WiFi",
          "Komfort",
          "Personel",
          "Stosunek jakości do ceny",
          "Okolica i widok:widok na morze",
          "Kuchnia:zmywarka",
          "Lokalizacja",
          "Łazienka:suszarka do włosów",
          "Kuchnia:wspólna kuchnia",
          "Ogólne:winda",
          "Różne:całkowity zakaz palenia",
          "Okolica:lokalizacja przy samej plaży"
         ],
         "yaxis": "y"
        }
       ],
       "layout": {
        "barmode": "relative",
        "height": 600,
        "legend": {
         "tracegroupgap": 0
        },
        "template": {
         "data": {
          "bar": [
           {
            "error_x": {
             "color": "#2a3f5f"
            },
            "error_y": {
             "color": "#2a3f5f"
            },
            "marker": {
             "line": {
              "color": "#E5ECF6",
              "width": 0.5
             },
             "pattern": {
              "fillmode": "overlay",
              "size": 10,
              "solidity": 0.2
             }
            },
            "type": "bar"
           }
          ],
          "barpolar": [
           {
            "marker": {
             "line": {
              "color": "#E5ECF6",
              "width": 0.5
             },
             "pattern": {
              "fillmode": "overlay",
              "size": 10,
              "solidity": 0.2
             }
            },
            "type": "barpolar"
           }
          ],
          "carpet": [
           {
            "aaxis": {
             "endlinecolor": "#2a3f5f",
             "gridcolor": "white",
             "linecolor": "white",
             "minorgridcolor": "white",
             "startlinecolor": "#2a3f5f"
            },
            "baxis": {
             "endlinecolor": "#2a3f5f",
             "gridcolor": "white",
             "linecolor": "white",
             "minorgridcolor": "white",
             "startlinecolor": "#2a3f5f"
            },
            "type": "carpet"
           }
          ],
          "choropleth": [
           {
            "colorbar": {
             "outlinewidth": 0,
             "ticks": ""
            },
            "type": "choropleth"
           }
          ],
          "contour": [
           {
            "colorbar": {
             "outlinewidth": 0,
             "ticks": ""
            },
            "colorscale": [
             [
              0,
              "#0d0887"
             ],
             [
              0.1111111111111111,
              "#46039f"
             ],
             [
              0.2222222222222222,
              "#7201a8"
             ],
             [
              0.3333333333333333,
              "#9c179e"
             ],
             [
              0.4444444444444444,
              "#bd3786"
             ],
             [
              0.5555555555555556,
              "#d8576b"
             ],
             [
              0.6666666666666666,
              "#ed7953"
             ],
             [
              0.7777777777777778,
              "#fb9f3a"
             ],
             [
              0.8888888888888888,
              "#fdca26"
             ],
             [
              1,
              "#f0f921"
             ]
            ],
            "type": "contour"
           }
          ],
          "contourcarpet": [
           {
            "colorbar": {
             "outlinewidth": 0,
             "ticks": ""
            },
            "type": "contourcarpet"
           }
          ],
          "heatmap": [
           {
            "colorbar": {
             "outlinewidth": 0,
             "ticks": ""
            },
            "colorscale": [
             [
              0,
              "#0d0887"
             ],
             [
              0.1111111111111111,
              "#46039f"
             ],
             [
              0.2222222222222222,
              "#7201a8"
             ],
             [
              0.3333333333333333,
              "#9c179e"
             ],
             [
              0.4444444444444444,
              "#bd3786"
             ],
             [
              0.5555555555555556,
              "#d8576b"
             ],
             [
              0.6666666666666666,
              "#ed7953"
             ],
             [
              0.7777777777777778,
              "#fb9f3a"
             ],
             [
              0.8888888888888888,
              "#fdca26"
             ],
             [
              1,
              "#f0f921"
             ]
            ],
            "type": "heatmap"
           }
          ],
          "heatmapgl": [
           {
            "colorbar": {
             "outlinewidth": 0,
             "ticks": ""
            },
            "colorscale": [
             [
              0,
              "#0d0887"
             ],
             [
              0.1111111111111111,
              "#46039f"
             ],
             [
              0.2222222222222222,
              "#7201a8"
             ],
             [
              0.3333333333333333,
              "#9c179e"
             ],
             [
              0.4444444444444444,
              "#bd3786"
             ],
             [
              0.5555555555555556,
              "#d8576b"
             ],
             [
              0.6666666666666666,
              "#ed7953"
             ],
             [
              0.7777777777777778,
              "#fb9f3a"
             ],
             [
              0.8888888888888888,
              "#fdca26"
             ],
             [
              1,
              "#f0f921"
             ]
            ],
            "type": "heatmapgl"
           }
          ],
          "histogram": [
           {
            "marker": {
             "pattern": {
              "fillmode": "overlay",
              "size": 10,
              "solidity": 0.2
             }
            },
            "type": "histogram"
           }
          ],
          "histogram2d": [
           {
            "colorbar": {
             "outlinewidth": 0,
             "ticks": ""
            },
            "colorscale": [
             [
              0,
              "#0d0887"
             ],
             [
              0.1111111111111111,
              "#46039f"
             ],
             [
              0.2222222222222222,
              "#7201a8"
             ],
             [
              0.3333333333333333,
              "#9c179e"
             ],
             [
              0.4444444444444444,
              "#bd3786"
             ],
             [
              0.5555555555555556,
              "#d8576b"
             ],
             [
              0.6666666666666666,
              "#ed7953"
             ],
             [
              0.7777777777777778,
              "#fb9f3a"
             ],
             [
              0.8888888888888888,
              "#fdca26"
             ],
             [
              1,
              "#f0f921"
             ]
            ],
            "type": "histogram2d"
           }
          ],
          "histogram2dcontour": [
           {
            "colorbar": {
             "outlinewidth": 0,
             "ticks": ""
            },
            "colorscale": [
             [
              0,
              "#0d0887"
             ],
             [
              0.1111111111111111,
              "#46039f"
             ],
             [
              0.2222222222222222,
              "#7201a8"
             ],
             [
              0.3333333333333333,
              "#9c179e"
             ],
             [
              0.4444444444444444,
              "#bd3786"
             ],
             [
              0.5555555555555556,
              "#d8576b"
             ],
             [
              0.6666666666666666,
              "#ed7953"
             ],
             [
              0.7777777777777778,
              "#fb9f3a"
             ],
             [
              0.8888888888888888,
              "#fdca26"
             ],
             [
              1,
              "#f0f921"
             ]
            ],
            "type": "histogram2dcontour"
           }
          ],
          "mesh3d": [
           {
            "colorbar": {
             "outlinewidth": 0,
             "ticks": ""
            },
            "type": "mesh3d"
           }
          ],
          "parcoords": [
           {
            "line": {
             "colorbar": {
              "outlinewidth": 0,
              "ticks": ""
             }
            },
            "type": "parcoords"
           }
          ],
          "pie": [
           {
            "automargin": true,
            "type": "pie"
           }
          ],
          "scatter": [
           {
            "fillpattern": {
             "fillmode": "overlay",
             "size": 10,
             "solidity": 0.2
            },
            "type": "scatter"
           }
          ],
          "scatter3d": [
           {
            "line": {
             "colorbar": {
              "outlinewidth": 0,
              "ticks": ""
             }
            },
            "marker": {
             "colorbar": {
              "outlinewidth": 0,
              "ticks": ""
             }
            },
            "type": "scatter3d"
           }
          ],
          "scattercarpet": [
           {
            "marker": {
             "colorbar": {
              "outlinewidth": 0,
              "ticks": ""
             }
            },
            "type": "scattercarpet"
           }
          ],
          "scattergeo": [
           {
            "marker": {
             "colorbar": {
              "outlinewidth": 0,
              "ticks": ""
             }
            },
            "type": "scattergeo"
           }
          ],
          "scattergl": [
           {
            "marker": {
             "colorbar": {
              "outlinewidth": 0,
              "ticks": ""
             }
            },
            "type": "scattergl"
           }
          ],
          "scattermapbox": [
           {
            "marker": {
             "colorbar": {
              "outlinewidth": 0,
              "ticks": ""
             }
            },
            "type": "scattermapbox"
           }
          ],
          "scatterpolar": [
           {
            "marker": {
             "colorbar": {
              "outlinewidth": 0,
              "ticks": ""
             }
            },
            "type": "scatterpolar"
           }
          ],
          "scatterpolargl": [
           {
            "marker": {
             "colorbar": {
              "outlinewidth": 0,
              "ticks": ""
             }
            },
            "type": "scatterpolargl"
           }
          ],
          "scatterternary": [
           {
            "marker": {
             "colorbar": {
              "outlinewidth": 0,
              "ticks": ""
             }
            },
            "type": "scatterternary"
           }
          ],
          "surface": [
           {
            "colorbar": {
             "outlinewidth": 0,
             "ticks": ""
            },
            "colorscale": [
             [
              0,
              "#0d0887"
             ],
             [
              0.1111111111111111,
              "#46039f"
             ],
             [
              0.2222222222222222,
              "#7201a8"
             ],
             [
              0.3333333333333333,
              "#9c179e"
             ],
             [
              0.4444444444444444,
              "#bd3786"
             ],
             [
              0.5555555555555556,
              "#d8576b"
             ],
             [
              0.6666666666666666,
              "#ed7953"
             ],
             [
              0.7777777777777778,
              "#fb9f3a"
             ],
             [
              0.8888888888888888,
              "#fdca26"
             ],
             [
              1,
              "#f0f921"
             ]
            ],
            "type": "surface"
           }
          ],
          "table": [
           {
            "cells": {
             "fill": {
              "color": "#EBF0F8"
             },
             "line": {
              "color": "white"
             }
            },
            "header": {
             "fill": {
              "color": "#C8D4E3"
             },
             "line": {
              "color": "white"
             }
            },
            "type": "table"
           }
          ]
         },
         "layout": {
          "annotationdefaults": {
           "arrowcolor": "#2a3f5f",
           "arrowhead": 0,
           "arrowwidth": 1
          },
          "autotypenumbers": "strict",
          "coloraxis": {
           "colorbar": {
            "outlinewidth": 0,
            "ticks": ""
           }
          },
          "colorscale": {
           "diverging": [
            [
             0,
             "#8e0152"
            ],
            [
             0.1,
             "#c51b7d"
            ],
            [
             0.2,
             "#de77ae"
            ],
            [
             0.3,
             "#f1b6da"
            ],
            [
             0.4,
             "#fde0ef"
            ],
            [
             0.5,
             "#f7f7f7"
            ],
            [
             0.6,
             "#e6f5d0"
            ],
            [
             0.7,
             "#b8e186"
            ],
            [
             0.8,
             "#7fbc41"
            ],
            [
             0.9,
             "#4d9221"
            ],
            [
             1,
             "#276419"
            ]
           ],
           "sequential": [
            [
             0,
             "#0d0887"
            ],
            [
             0.1111111111111111,
             "#46039f"
            ],
            [
             0.2222222222222222,
             "#7201a8"
            ],
            [
             0.3333333333333333,
             "#9c179e"
            ],
            [
             0.4444444444444444,
             "#bd3786"
            ],
            [
             0.5555555555555556,
             "#d8576b"
            ],
            [
             0.6666666666666666,
             "#ed7953"
            ],
            [
             0.7777777777777778,
             "#fb9f3a"
            ],
            [
             0.8888888888888888,
             "#fdca26"
            ],
            [
             1,
             "#f0f921"
            ]
           ],
           "sequentialminus": [
            [
             0,
             "#0d0887"
            ],
            [
             0.1111111111111111,
             "#46039f"
            ],
            [
             0.2222222222222222,
             "#7201a8"
            ],
            [
             0.3333333333333333,
             "#9c179e"
            ],
            [
             0.4444444444444444,
             "#bd3786"
            ],
            [
             0.5555555555555556,
             "#d8576b"
            ],
            [
             0.6666666666666666,
             "#ed7953"
            ],
            [
             0.7777777777777778,
             "#fb9f3a"
            ],
            [
             0.8888888888888888,
             "#fdca26"
            ],
            [
             1,
             "#f0f921"
            ]
           ]
          },
          "colorway": [
           "#636efa",
           "#EF553B",
           "#00cc96",
           "#ab63fa",
           "#FFA15A",
           "#19d3f3",
           "#FF6692",
           "#B6E880",
           "#FF97FF",
           "#FECB52"
          ],
          "font": {
           "color": "#2a3f5f"
          },
          "geo": {
           "bgcolor": "white",
           "lakecolor": "white",
           "landcolor": "#E5ECF6",
           "showlakes": true,
           "showland": true,
           "subunitcolor": "white"
          },
          "hoverlabel": {
           "align": "left"
          },
          "hovermode": "closest",
          "mapbox": {
           "style": "light"
          },
          "paper_bgcolor": "white",
          "plot_bgcolor": "#E5ECF6",
          "polar": {
           "angularaxis": {
            "gridcolor": "white",
            "linecolor": "white",
            "ticks": ""
           },
           "bgcolor": "#E5ECF6",
           "radialaxis": {
            "gridcolor": "white",
            "linecolor": "white",
            "ticks": ""
           }
          },
          "scene": {
           "xaxis": {
            "backgroundcolor": "#E5ECF6",
            "gridcolor": "white",
            "gridwidth": 2,
            "linecolor": "white",
            "showbackground": true,
            "ticks": "",
            "zerolinecolor": "white"
           },
           "yaxis": {
            "backgroundcolor": "#E5ECF6",
            "gridcolor": "white",
            "gridwidth": 2,
            "linecolor": "white",
            "showbackground": true,
            "ticks": "",
            "zerolinecolor": "white"
           },
           "zaxis": {
            "backgroundcolor": "#E5ECF6",
            "gridcolor": "white",
            "gridwidth": 2,
            "linecolor": "white",
            "showbackground": true,
            "ticks": "",
            "zerolinecolor": "white"
           }
          },
          "shapedefaults": {
           "line": {
            "color": "#2a3f5f"
           }
          },
          "ternary": {
           "aaxis": {
            "gridcolor": "white",
            "linecolor": "white",
            "ticks": ""
           },
           "baxis": {
            "gridcolor": "white",
            "linecolor": "white",
            "ticks": ""
           },
           "bgcolor": "#E5ECF6",
           "caxis": {
            "gridcolor": "white",
            "linecolor": "white",
            "ticks": ""
           }
          },
          "title": {
           "x": 0.05
          },
          "xaxis": {
           "automargin": true,
           "gridcolor": "white",
           "linecolor": "white",
           "ticks": "",
           "title": {
            "standoff": 15
           },
           "zerolinecolor": "white",
           "zerolinewidth": 2
          },
          "yaxis": {
           "automargin": true,
           "gridcolor": "white",
           "linecolor": "white",
           "ticks": "",
           "title": {
            "standoff": 15
           },
           "zerolinecolor": "white",
           "zerolinewidth": 2
          }
         }
        },
        "title": {
         "text": "Wykres miary ważności atrybutów"
        },
        "xaxis": {
         "anchor": "y",
         "domain": [
          0,
          1
         ],
         "title": {
          "text": "wartość"
         }
        },
        "yaxis": {
         "anchor": "x",
         "domain": [
          0,
          1
         ],
         "title": {
          "text": "atrybuty"
         }
        }
       }
      }
     },
     "metadata": {},
     "output_type": "display_data"
    }
   ],
   "source": [
    "sort = RFR.feature_importances_.argsort()\n",
    "fig = px.bar(y=X.columns[sort], x=RFR.feature_importances_[sort], height=600, title='Wykres miary ważności atrybutów')\n",
    "fig.update_layout(xaxis_title='wartość',yaxis_title='atrybuty')\n",
    "fig.show()"
   ]
  },
  {
   "cell_type": "code",
   "execution_count": 96,
   "metadata": {},
   "outputs": [
    {
     "name": "stderr",
     "output_type": "stream",
     "text": [
      "c:\\Users\\manar\\anaconda3\\envs\\PAD\\lib\\site-packages\\sklearn\\linear_model\\_coordinate_descent.py:634: ConvergenceWarning:\n",
      "\n",
      "Objective did not converge. You might want to increase the number of iterations. Duality gap: 1089821.7284111977, tolerance: 166469.82851789924\n",
      "\n",
      "c:\\Users\\manar\\anaconda3\\envs\\PAD\\lib\\site-packages\\sklearn\\linear_model\\_coordinate_descent.py:634: ConvergenceWarning:\n",
      "\n",
      "Objective did not converge. You might want to increase the number of iterations. Duality gap: 183678.1429953575, tolerance: 158264.71504523046\n",
      "\n",
      "c:\\Users\\manar\\anaconda3\\envs\\PAD\\lib\\site-packages\\sklearn\\linear_model\\_coordinate_descent.py:634: ConvergenceWarning:\n",
      "\n",
      "Objective did not converge. You might want to increase the number of iterations. Duality gap: 1745809.5189546943, tolerance: 166469.82851789924\n",
      "\n",
      "c:\\Users\\manar\\anaconda3\\envs\\PAD\\lib\\site-packages\\sklearn\\linear_model\\_coordinate_descent.py:634: ConvergenceWarning:\n",
      "\n",
      "Objective did not converge. You might want to increase the number of iterations. Duality gap: 267776.76959627867, tolerance: 158264.71504523046\n",
      "\n",
      "c:\\Users\\manar\\anaconda3\\envs\\PAD\\lib\\site-packages\\sklearn\\linear_model\\_coordinate_descent.py:634: ConvergenceWarning:\n",
      "\n",
      "Objective did not converge. You might want to increase the number of iterations. Duality gap: 168399.4168908596, tolerance: 160843.31885578157\n",
      "\n",
      "c:\\Users\\manar\\anaconda3\\envs\\PAD\\lib\\site-packages\\sklearn\\linear_model\\_coordinate_descent.py:634: ConvergenceWarning:\n",
      "\n",
      "Objective did not converge. You might want to increase the number of iterations. Duality gap: 842421.8881752491, tolerance: 166469.82851789924\n",
      "\n",
      "c:\\Users\\manar\\anaconda3\\envs\\PAD\\lib\\site-packages\\sklearn\\linear_model\\_coordinate_descent.py:634: ConvergenceWarning:\n",
      "\n",
      "Objective did not converge. You might want to increase the number of iterations. Duality gap: 218600.56222504377, tolerance: 158999.46184265811\n",
      "\n",
      "c:\\Users\\manar\\anaconda3\\envs\\PAD\\lib\\site-packages\\sklearn\\linear_model\\_coordinate_descent.py:634: ConvergenceWarning:\n",
      "\n",
      "Objective did not converge. You might want to increase the number of iterations. Duality gap: 494652.515892148, tolerance: 158264.71504523046\n",
      "\n",
      "c:\\Users\\manar\\anaconda3\\envs\\PAD\\lib\\site-packages\\sklearn\\linear_model\\_coordinate_descent.py:634: ConvergenceWarning:\n",
      "\n",
      "Objective did not converge. You might want to increase the number of iterations. Duality gap: 1131088.8479669094, tolerance: 166469.82851789924\n",
      "\n",
      "c:\\Users\\manar\\anaconda3\\envs\\PAD\\lib\\site-packages\\sklearn\\linear_model\\_coordinate_descent.py:634: ConvergenceWarning:\n",
      "\n",
      "Objective did not converge. You might want to increase the number of iterations. Duality gap: 240834.99398881197, tolerance: 160843.31885578157\n",
      "\n",
      "c:\\Users\\manar\\anaconda3\\envs\\PAD\\lib\\site-packages\\sklearn\\linear_model\\_coordinate_descent.py:634: ConvergenceWarning:\n",
      "\n",
      "Objective did not converge. You might want to increase the number of iterations. Duality gap: 254869.66134023666, tolerance: 158999.46184265811\n",
      "\n",
      "c:\\Users\\manar\\anaconda3\\envs\\PAD\\lib\\site-packages\\sklearn\\linear_model\\_coordinate_descent.py:634: ConvergenceWarning:\n",
      "\n",
      "Objective did not converge. You might want to increase the number of iterations. Duality gap: 208964.54788804054, tolerance: 154915.6785333333\n",
      "\n",
      "c:\\Users\\manar\\anaconda3\\envs\\PAD\\lib\\site-packages\\sklearn\\linear_model\\_coordinate_descent.py:634: ConvergenceWarning:\n",
      "\n",
      "Objective did not converge. You might want to increase the number of iterations. Duality gap: 372827.71768808365, tolerance: 162271.20514812434\n",
      "\n",
      "c:\\Users\\manar\\anaconda3\\envs\\PAD\\lib\\site-packages\\sklearn\\linear_model\\_coordinate_descent.py:634: ConvergenceWarning:\n",
      "\n",
      "Objective did not converge. You might want to increase the number of iterations. Duality gap: 2304271.92954576, tolerance: 158264.71504523046\n",
      "\n",
      "c:\\Users\\manar\\anaconda3\\envs\\PAD\\lib\\site-packages\\sklearn\\linear_model\\_coordinate_descent.py:634: ConvergenceWarning:\n",
      "\n",
      "Objective did not converge. You might want to increase the number of iterations. Duality gap: 177385.60481190681, tolerance: 164697.4515961415\n",
      "\n",
      "c:\\Users\\manar\\anaconda3\\envs\\PAD\\lib\\site-packages\\sklearn\\linear_model\\_coordinate_descent.py:634: ConvergenceWarning:\n",
      "\n",
      "Objective did not converge. You might want to increase the number of iterations. Duality gap: 263432.3179335594, tolerance: 158999.46184265811\n",
      "\n",
      "c:\\Users\\manar\\anaconda3\\envs\\PAD\\lib\\site-packages\\sklearn\\linear_model\\_coordinate_descent.py:634: ConvergenceWarning:\n",
      "\n",
      "Objective did not converge. You might want to increase the number of iterations. Duality gap: 12916773.381694794, tolerance: 166469.82851789924\n",
      "\n",
      "c:\\Users\\manar\\anaconda3\\envs\\PAD\\lib\\site-packages\\sklearn\\linear_model\\_coordinate_descent.py:634: UserWarning:\n",
      "\n",
      "Coordinate descent without L1 regularization may lead to unexpected results and is discouraged. Set l1_ratio > 0 to add L1 regularization.\n",
      "\n",
      "c:\\Users\\manar\\anaconda3\\envs\\PAD\\lib\\site-packages\\sklearn\\linear_model\\_coordinate_descent.py:634: ConvergenceWarning:\n",
      "\n",
      "Objective did not converge. You might want to increase the number of iterations. Duality gap: 370506.62090063095, tolerance: 160843.31885578157\n",
      "\n",
      "c:\\Users\\manar\\anaconda3\\envs\\PAD\\lib\\site-packages\\sklearn\\linear_model\\_coordinate_descent.py:634: ConvergenceWarning:\n",
      "\n",
      "Objective did not converge. You might want to increase the number of iterations. Duality gap: 409418.1325182915, tolerance: 154915.6785333333\n",
      "\n",
      "c:\\Users\\manar\\anaconda3\\envs\\PAD\\lib\\site-packages\\sklearn\\linear_model\\_coordinate_descent.py:634: ConvergenceWarning:\n",
      "\n",
      "Objective did not converge. You might want to increase the number of iterations. Duality gap: 835540.3857400417, tolerance: 162271.20514812434\n",
      "\n",
      "c:\\Users\\manar\\anaconda3\\envs\\PAD\\lib\\site-packages\\sklearn\\linear_model\\_coordinate_descent.py:634: ConvergenceWarning:\n",
      "\n",
      "Objective did not converge. You might want to increase the number of iterations. Duality gap: 376162.18725049496, tolerance: 158999.46184265811\n",
      "\n",
      "c:\\Users\\manar\\anaconda3\\envs\\PAD\\lib\\site-packages\\sklearn\\linear_model\\_coordinate_descent.py:634: ConvergenceWarning:\n",
      "\n",
      "Objective did not converge. You might want to increase the number of iterations. Duality gap: 7085838.96124348, tolerance: 158264.71504523046\n",
      "\n",
      "c:\\Users\\manar\\anaconda3\\envs\\PAD\\lib\\site-packages\\sklearn\\linear_model\\_coordinate_descent.py:634: UserWarning:\n",
      "\n",
      "Coordinate descent without L1 regularization may lead to unexpected results and is discouraged. Set l1_ratio > 0 to add L1 regularization.\n",
      "\n",
      "c:\\Users\\manar\\anaconda3\\envs\\PAD\\lib\\site-packages\\sklearn\\linear_model\\_coordinate_descent.py:634: ConvergenceWarning:\n",
      "\n",
      "Objective did not converge. You might want to increase the number of iterations. Duality gap: 733888.5300202966, tolerance: 160843.31885578157\n",
      "\n",
      "c:\\Users\\manar\\anaconda3\\envs\\PAD\\lib\\site-packages\\sklearn\\linear_model\\_coordinate_descent.py:634: ConvergenceWarning:\n",
      "\n",
      "Objective did not converge. You might want to increase the number of iterations. Duality gap: 154159212.9018023, tolerance: 166469.82851789924\n",
      "\n",
      "c:\\Users\\manar\\anaconda3\\envs\\PAD\\lib\\site-packages\\sklearn\\linear_model\\_coordinate_descent.py:634: ConvergenceWarning:\n",
      "\n",
      "Objective did not converge. You might want to increase the number of iterations. Duality gap: 9042999.656823754, tolerance: 157787.82167138264\n",
      "\n",
      "c:\\Users\\manar\\anaconda3\\envs\\PAD\\lib\\site-packages\\sklearn\\linear_model\\_coordinate_descent.py:634: ConvergenceWarning:\n",
      "\n",
      "Objective did not converge. You might want to increase the number of iterations. Duality gap: 967299.6264981627, tolerance: 162271.20514812434\n",
      "\n",
      "c:\\Users\\manar\\anaconda3\\envs\\PAD\\lib\\site-packages\\sklearn\\linear_model\\_coordinate_descent.py:634: ConvergenceWarning:\n",
      "\n",
      "Objective did not converge. You might want to increase the number of iterations. Duality gap: 380646.19575476646, tolerance: 158999.46184265811\n",
      "\n",
      "c:\\Users\\manar\\anaconda3\\envs\\PAD\\lib\\site-packages\\sklearn\\linear_model\\_coordinate_descent.py:634: ConvergenceWarning:\n",
      "\n",
      "Objective did not converge. You might want to increase the number of iterations. Duality gap: 895123.3798386455, tolerance: 154915.6785333333\n",
      "\n",
      "c:\\Users\\manar\\anaconda3\\envs\\PAD\\lib\\site-packages\\sklearn\\linear_model\\_coordinate_descent.py:634: ConvergenceWarning:\n",
      "\n",
      "Objective did not converge. You might want to increase the number of iterations. Duality gap: 152559519.14587498, tolerance: 158264.71504523046\n",
      "\n",
      "c:\\Users\\manar\\anaconda3\\envs\\PAD\\lib\\site-packages\\sklearn\\linear_model\\_coordinate_descent.py:634: ConvergenceWarning:\n",
      "\n",
      "Objective did not converge. You might want to increase the number of iterations. Duality gap: 513230.09998977184, tolerance: 158999.46184265811\n",
      "\n",
      "c:\\Users\\manar\\anaconda3\\envs\\PAD\\lib\\site-packages\\sklearn\\linear_model\\_coordinate_descent.py:634: ConvergenceWarning:\n",
      "\n",
      "Objective did not converge. You might want to increase the number of iterations. Duality gap: 1837858.756631136, tolerance: 162271.20514812434\n",
      "\n",
      "c:\\Users\\manar\\anaconda3\\envs\\PAD\\lib\\site-packages\\sklearn\\linear_model\\_coordinate_descent.py:634: ConvergenceWarning:\n",
      "\n",
      "Objective did not converge. You might want to increase the number of iterations. Duality gap: 891647.0519294739, tolerance: 160843.31885578157\n",
      "\n",
      "c:\\Users\\manar\\anaconda3\\envs\\PAD\\lib\\site-packages\\sklearn\\linear_model\\_coordinate_descent.py:634: ConvergenceWarning:\n",
      "\n",
      "Objective did not converge. You might want to increase the number of iterations. Duality gap: 51839536.129431546, tolerance: 157787.82167138264\n",
      "\n",
      "c:\\Users\\manar\\anaconda3\\envs\\PAD\\lib\\site-packages\\sklearn\\linear_model\\_coordinate_descent.py:634: UserWarning:\n",
      "\n",
      "Coordinate descent without L1 regularization may lead to unexpected results and is discouraged. Set l1_ratio > 0 to add L1 regularization.\n",
      "\n",
      "c:\\Users\\manar\\anaconda3\\envs\\PAD\\lib\\site-packages\\sklearn\\linear_model\\_coordinate_descent.py:634: ConvergenceWarning:\n",
      "\n",
      "Objective did not converge. You might want to increase the number of iterations. Duality gap: 249382.00346422195, tolerance: 164697.4515961415\n",
      "\n",
      "c:\\Users\\manar\\anaconda3\\envs\\PAD\\lib\\site-packages\\sklearn\\linear_model\\_coordinate_descent.py:634: ConvergenceWarning:\n",
      "\n",
      "Objective did not converge. You might want to increase the number of iterations. Duality gap: 593693.9500356913, tolerance: 154915.6785333333\n",
      "\n",
      "c:\\Users\\manar\\anaconda3\\envs\\PAD\\lib\\site-packages\\sklearn\\linear_model\\_coordinate_descent.py:634: UserWarning:\n",
      "\n",
      "Coordinate descent without L1 regularization may lead to unexpected results and is discouraged. Set l1_ratio > 0 to add L1 regularization.\n",
      "\n",
      "c:\\Users\\manar\\anaconda3\\envs\\PAD\\lib\\site-packages\\sklearn\\linear_model\\_coordinate_descent.py:634: ConvergenceWarning:\n",
      "\n",
      "Objective did not converge. You might want to increase the number of iterations. Duality gap: 7073085.124794811, tolerance: 162271.20514812434\n",
      "\n",
      "c:\\Users\\manar\\anaconda3\\envs\\PAD\\lib\\site-packages\\sklearn\\linear_model\\_coordinate_descent.py:634: ConvergenceWarning:\n",
      "\n",
      "Objective did not converge. You might want to increase the number of iterations. Duality gap: 154275647.86841106, tolerance: 157787.82167138264\n",
      "\n",
      "c:\\Users\\manar\\anaconda3\\envs\\PAD\\lib\\site-packages\\sklearn\\linear_model\\_coordinate_descent.py:634: ConvergenceWarning:\n",
      "\n",
      "Objective did not converge. You might want to increase the number of iterations. Duality gap: 582463.5871938467, tolerance: 158999.46184265811\n",
      "\n",
      "c:\\Users\\manar\\anaconda3\\envs\\PAD\\lib\\site-packages\\sklearn\\linear_model\\_coordinate_descent.py:634: ConvergenceWarning:\n",
      "\n",
      "Objective did not converge. You might want to increase the number of iterations. Duality gap: 1131137.455805242, tolerance: 160843.31885578157\n",
      "\n",
      "c:\\Users\\manar\\anaconda3\\envs\\PAD\\lib\\site-packages\\sklearn\\linear_model\\_coordinate_descent.py:634: ConvergenceWarning:\n",
      "\n",
      "Objective did not converge. You might want to increase the number of iterations. Duality gap: 19515274.31389147, tolerance: 162271.20514812434\n",
      "\n",
      "c:\\Users\\manar\\anaconda3\\envs\\PAD\\lib\\site-packages\\sklearn\\linear_model\\_coordinate_descent.py:634: ConvergenceWarning:\n",
      "\n",
      "Objective did not converge. You might want to increase the number of iterations. Duality gap: 146884477.10067654, tolerance: 154915.6785333333\n",
      "\n",
      "c:\\Users\\manar\\anaconda3\\envs\\PAD\\lib\\site-packages\\sklearn\\linear_model\\_coordinate_descent.py:634: ConvergenceWarning:\n",
      "\n",
      "Objective did not converge. You might want to increase the number of iterations. Duality gap: 450374.43525511026, tolerance: 158999.46184265811\n",
      "\n",
      "c:\\Users\\manar\\anaconda3\\envs\\PAD\\lib\\site-packages\\sklearn\\linear_model\\_coordinate_descent.py:634: ConvergenceWarning:\n",
      "\n",
      "Objective did not converge. You might want to increase the number of iterations. Duality gap: 1283055.4887619019, tolerance: 160843.31885578157\n",
      "\n",
      "c:\\Users\\manar\\anaconda3\\envs\\PAD\\lib\\site-packages\\sklearn\\linear_model\\_coordinate_descent.py:634: ConvergenceWarning:\n",
      "\n",
      "Objective did not converge. You might want to increase the number of iterations. Duality gap: 3519831.3444812894, tolerance: 164697.4515961415\n",
      "\n",
      "c:\\Users\\manar\\anaconda3\\envs\\PAD\\lib\\site-packages\\sklearn\\linear_model\\_coordinate_descent.py:634: UserWarning:\n",
      "\n",
      "Coordinate descent without L1 regularization may lead to unexpected results and is discouraged. Set l1_ratio > 0 to add L1 regularization.\n",
      "\n",
      "c:\\Users\\manar\\anaconda3\\envs\\PAD\\lib\\site-packages\\sklearn\\linear_model\\_coordinate_descent.py:634: ConvergenceWarning:\n",
      "\n",
      "Objective did not converge. You might want to increase the number of iterations. Duality gap: 53802276.091466516, tolerance: 162271.20514812434\n",
      "\n",
      "c:\\Users\\manar\\anaconda3\\envs\\PAD\\lib\\site-packages\\sklearn\\linear_model\\_coordinate_descent.py:634: UserWarning:\n",
      "\n",
      "Coordinate descent without L1 regularization may lead to unexpected results and is discouraged. Set l1_ratio > 0 to add L1 regularization.\n",
      "\n",
      "c:\\Users\\manar\\anaconda3\\envs\\PAD\\lib\\site-packages\\sklearn\\linear_model\\_coordinate_descent.py:634: ConvergenceWarning:\n",
      "\n",
      "Objective did not converge. You might want to increase the number of iterations. Duality gap: 4859159.053411722, tolerance: 160843.31885578157\n",
      "\n",
      "c:\\Users\\manar\\anaconda3\\envs\\PAD\\lib\\site-packages\\sklearn\\linear_model\\_coordinate_descent.py:634: ConvergenceWarning:\n",
      "\n",
      "Objective did not converge. You might want to increase the number of iterations. Duality gap: 154734148.82055688, tolerance: 164697.4515961415\n",
      "\n",
      "c:\\Users\\manar\\anaconda3\\envs\\PAD\\lib\\site-packages\\sklearn\\linear_model\\_coordinate_descent.py:634: ConvergenceWarning:\n",
      "\n",
      "Objective did not converge. You might want to increase the number of iterations. Duality gap: 155589090.1792183, tolerance: 162271.20514812434\n",
      "\n",
      "c:\\Users\\manar\\anaconda3\\envs\\PAD\\lib\\site-packages\\sklearn\\linear_model\\_coordinate_descent.py:634: ConvergenceWarning:\n",
      "\n",
      "Objective did not converge. You might want to increase the number of iterations. Duality gap: 8713919.329120934, tolerance: 160843.31885578157\n",
      "\n",
      "c:\\Users\\manar\\anaconda3\\envs\\PAD\\lib\\site-packages\\sklearn\\linear_model\\_coordinate_descent.py:634: ConvergenceWarning:\n",
      "\n",
      "Objective did not converge. You might want to increase the number of iterations. Duality gap: 375245.0447167754, tolerance: 158999.46184265811\n",
      "\n",
      "c:\\Users\\manar\\anaconda3\\envs\\PAD\\lib\\site-packages\\sklearn\\linear_model\\_coordinate_descent.py:634: ConvergenceWarning:\n",
      "\n",
      "Objective did not converge. You might want to increase the number of iterations. Duality gap: 14391786.958093107, tolerance: 160843.31885578157\n",
      "\n",
      "c:\\Users\\manar\\anaconda3\\envs\\PAD\\lib\\site-packages\\sklearn\\linear_model\\_coordinate_descent.py:634: ConvergenceWarning:\n",
      "\n",
      "Objective did not converge. You might want to increase the number of iterations. Duality gap: 667144.7043847442, tolerance: 158999.46184265811\n",
      "\n",
      "c:\\Users\\manar\\anaconda3\\envs\\PAD\\lib\\site-packages\\sklearn\\linear_model\\_coordinate_descent.py:634: UserWarning:\n",
      "\n",
      "Coordinate descent without L1 regularization may lead to unexpected results and is discouraged. Set l1_ratio > 0 to add L1 regularization.\n",
      "\n",
      "c:\\Users\\manar\\anaconda3\\envs\\PAD\\lib\\site-packages\\sklearn\\linear_model\\_coordinate_descent.py:634: ConvergenceWarning:\n",
      "\n",
      "Objective did not converge. You might want to increase the number of iterations. Duality gap: 158547275.47806787, tolerance: 158999.46184265811\n",
      "\n",
      "c:\\Users\\manar\\anaconda3\\envs\\PAD\\lib\\site-packages\\sklearn\\linear_model\\_coordinate_descent.py:634: ConvergenceWarning:\n",
      "\n",
      "Objective did not converge. You might want to increase the number of iterations. Duality gap: 36239822.53175551, tolerance: 160843.31885578157\n",
      "\n",
      "c:\\Users\\manar\\anaconda3\\envs\\PAD\\lib\\site-packages\\sklearn\\linear_model\\_coordinate_descent.py:634: UserWarning:\n",
      "\n",
      "Coordinate descent without L1 regularization may lead to unexpected results and is discouraged. Set l1_ratio > 0 to add L1 regularization.\n",
      "\n",
      "c:\\Users\\manar\\anaconda3\\envs\\PAD\\lib\\site-packages\\sklearn\\linear_model\\_coordinate_descent.py:634: ConvergenceWarning:\n",
      "\n",
      "Objective did not converge. You might want to increase the number of iterations. Duality gap: 158430997.14495468, tolerance: 160843.31885578157\n",
      "\n",
      "c:\\Users\\manar\\anaconda3\\envs\\PAD\\lib\\site-packages\\sklearn\\linear_model\\_coordinate_descent.py:634: ConvergenceWarning:\n",
      "\n",
      "Objective did not converge. You might want to increase the number of iterations. Duality gap: 159636.88341921568, tolerance: 157342.37411948608\n",
      "\n",
      "c:\\Users\\manar\\anaconda3\\envs\\PAD\\lib\\site-packages\\sklearn\\linear_model\\_coordinate_descent.py:634: ConvergenceWarning:\n",
      "\n",
      "Objective did not converge. You might want to increase the number of iterations. Duality gap: 453061.4561243057, tolerance: 164293.57304250536\n",
      "\n",
      "c:\\Users\\manar\\anaconda3\\envs\\PAD\\lib\\site-packages\\sklearn\\linear_model\\_coordinate_descent.py:634: ConvergenceWarning:\n",
      "\n",
      "Objective did not converge. You might want to increase the number of iterations. Duality gap: 535959.306976676, tolerance: 164293.57304250536\n",
      "\n",
      "c:\\Users\\manar\\anaconda3\\envs\\PAD\\lib\\site-packages\\sklearn\\linear_model\\_coordinate_descent.py:634: ConvergenceWarning:\n",
      "\n",
      "Objective did not converge. You might want to increase the number of iterations. Duality gap: 161334.05835855007, tolerance: 157342.37411948608\n",
      "\n",
      "c:\\Users\\manar\\anaconda3\\envs\\PAD\\lib\\site-packages\\sklearn\\linear_model\\_coordinate_descent.py:634: ConvergenceWarning:\n",
      "\n",
      "Objective did not converge. You might want to increase the number of iterations. Duality gap: 336087.8746601939, tolerance: 164293.57304250536\n",
      "\n",
      "c:\\Users\\manar\\anaconda3\\envs\\PAD\\lib\\site-packages\\sklearn\\linear_model\\_coordinate_descent.py:634: ConvergenceWarning:\n",
      "\n",
      "Objective did not converge. You might want to increase the number of iterations. Duality gap: 159146.71613293886, tolerance: 157342.37411948608\n",
      "\n",
      "c:\\Users\\manar\\anaconda3\\envs\\PAD\\lib\\site-packages\\sklearn\\linear_model\\_coordinate_descent.py:634: ConvergenceWarning:\n",
      "\n",
      "Objective did not converge. You might want to increase the number of iterations. Duality gap: 572065.1419792175, tolerance: 164293.57304250536\n",
      "\n",
      "c:\\Users\\manar\\anaconda3\\envs\\PAD\\lib\\site-packages\\sklearn\\linear_model\\_coordinate_descent.py:634: ConvergenceWarning:\n",
      "\n",
      "Objective did not converge. You might want to increase the number of iterations. Duality gap: 158893.42494899035, tolerance: 158005.16478285103\n",
      "\n",
      "c:\\Users\\manar\\anaconda3\\envs\\PAD\\lib\\site-packages\\sklearn\\linear_model\\_coordinate_descent.py:634: ConvergenceWarning:\n",
      "\n",
      "Objective did not converge. You might want to increase the number of iterations. Duality gap: 1065678.1848350763, tolerance: 164293.57304250536\n",
      "\n",
      "c:\\Users\\manar\\anaconda3\\envs\\PAD\\lib\\site-packages\\sklearn\\linear_model\\_coordinate_descent.py:634: ConvergenceWarning:\n",
      "\n",
      "Objective did not converge. You might want to increase the number of iterations. Duality gap: 173906.201638937, tolerance: 157342.37411948608\n",
      "\n",
      "c:\\Users\\manar\\anaconda3\\envs\\PAD\\lib\\site-packages\\sklearn\\linear_model\\_coordinate_descent.py:634: ConvergenceWarning:\n",
      "\n",
      "Objective did not converge. You might want to increase the number of iterations. Duality gap: 182831.20437681675, tolerance: 160181.46282829583\n",
      "\n",
      "c:\\Users\\manar\\anaconda3\\envs\\PAD\\lib\\site-packages\\sklearn\\linear_model\\_coordinate_descent.py:634: ConvergenceWarning:\n",
      "\n",
      "Objective did not converge. You might want to increase the number of iterations. Duality gap: 318358.3124357462, tolerance: 158005.16478285103\n",
      "\n",
      "c:\\Users\\manar\\anaconda3\\envs\\PAD\\lib\\site-packages\\sklearn\\linear_model\\_coordinate_descent.py:634: ConvergenceWarning:\n",
      "\n",
      "Objective did not converge. You might want to increase the number of iterations. Duality gap: 388334.60409879684, tolerance: 157799.03329153266\n",
      "\n",
      "c:\\Users\\manar\\anaconda3\\envs\\PAD\\lib\\site-packages\\sklearn\\linear_model\\_coordinate_descent.py:634: ConvergenceWarning:\n",
      "\n",
      "Objective did not converge. You might want to increase the number of iterations. Duality gap: 8952066.929924935, tolerance: 164293.57304250536\n",
      "\n",
      "c:\\Users\\manar\\anaconda3\\envs\\PAD\\lib\\site-packages\\sklearn\\linear_model\\_coordinate_descent.py:634: ConvergenceWarning:\n",
      "\n",
      "Objective did not converge. You might want to increase the number of iterations. Duality gap: 193902.61642229557, tolerance: 157928.17122079313\n",
      "\n",
      "c:\\Users\\manar\\anaconda3\\envs\\PAD\\lib\\site-packages\\sklearn\\linear_model\\_coordinate_descent.py:634: ConvergenceWarning:\n",
      "\n",
      "Objective did not converge. You might want to increase the number of iterations. Duality gap: 2616493.325140327, tolerance: 158005.16478285103\n",
      "\n",
      "c:\\Users\\manar\\anaconda3\\envs\\PAD\\lib\\site-packages\\sklearn\\linear_model\\_coordinate_descent.py:634: ConvergenceWarning:\n",
      "\n",
      "Objective did not converge. You might want to increase the number of iterations. Duality gap: 182920.03106343746, tolerance: 160181.46282829583\n",
      "\n",
      "c:\\Users\\manar\\anaconda3\\envs\\PAD\\lib\\site-packages\\sklearn\\linear_model\\_coordinate_descent.py:634: ConvergenceWarning:\n",
      "\n",
      "Objective did not converge. You might want to increase the number of iterations. Duality gap: 672234.0292677879, tolerance: 157799.03329153266\n",
      "\n",
      "c:\\Users\\manar\\anaconda3\\envs\\PAD\\lib\\site-packages\\sklearn\\linear_model\\_coordinate_descent.py:634: ConvergenceWarning:\n",
      "\n",
      "Objective did not converge. You might want to increase the number of iterations. Duality gap: 180388.26952064037, tolerance: 157928.17122079313\n",
      "\n",
      "c:\\Users\\manar\\anaconda3\\envs\\PAD\\lib\\site-packages\\sklearn\\linear_model\\_coordinate_descent.py:634: ConvergenceWarning:\n",
      "\n",
      "Objective did not converge. You might want to increase the number of iterations. Duality gap: 15732785.270871252, tolerance: 158005.16478285103\n",
      "\n",
      "c:\\Users\\manar\\anaconda3\\envs\\PAD\\lib\\site-packages\\sklearn\\linear_model\\_coordinate_descent.py:634: UserWarning:\n",
      "\n",
      "Coordinate descent without L1 regularization may lead to unexpected results and is discouraged. Set l1_ratio > 0 to add L1 regularization.\n",
      "\n",
      "c:\\Users\\manar\\anaconda3\\envs\\PAD\\lib\\site-packages\\sklearn\\linear_model\\_coordinate_descent.py:634: ConvergenceWarning:\n",
      "\n",
      "Objective did not converge. You might want to increase the number of iterations. Duality gap: 24201090.281426966, tolerance: 164293.57304250536\n",
      "\n",
      "c:\\Users\\manar\\anaconda3\\envs\\PAD\\lib\\site-packages\\sklearn\\linear_model\\_coordinate_descent.py:634: UserWarning:\n",
      "\n",
      "Coordinate descent without L1 regularization may lead to unexpected results and is discouraged. Set l1_ratio > 0 to add L1 regularization.\n",
      "\n",
      "c:\\Users\\manar\\anaconda3\\envs\\PAD\\lib\\site-packages\\sklearn\\linear_model\\_coordinate_descent.py:634: ConvergenceWarning:\n",
      "\n",
      "Objective did not converge. You might want to increase the number of iterations. Duality gap: 1019626.9798671007, tolerance: 157799.03329153266\n",
      "\n",
      "c:\\Users\\manar\\anaconda3\\envs\\PAD\\lib\\site-packages\\sklearn\\linear_model\\_coordinate_descent.py:634: ConvergenceWarning:\n",
      "\n",
      "Objective did not converge. You might want to increase the number of iterations. Duality gap: 184153.8241364956, tolerance: 160181.46282829583\n",
      "\n",
      "c:\\Users\\manar\\anaconda3\\envs\\PAD\\lib\\site-packages\\sklearn\\linear_model\\_coordinate_descent.py:634: ConvergenceWarning:\n",
      "\n",
      "Objective did not converge. You might want to increase the number of iterations. Duality gap: 137893315.5165813, tolerance: 158005.16478285103\n",
      "\n",
      "c:\\Users\\manar\\anaconda3\\envs\\PAD\\lib\\site-packages\\sklearn\\linear_model\\_coordinate_descent.py:634: ConvergenceWarning:\n",
      "\n",
      "Objective did not converge. You might want to increase the number of iterations. Duality gap: 291911.615272522, tolerance: 157928.17122079313\n",
      "\n",
      "c:\\Users\\manar\\anaconda3\\envs\\PAD\\lib\\site-packages\\sklearn\\linear_model\\_coordinate_descent.py:634: ConvergenceWarning:\n",
      "\n",
      "Objective did not converge. You might want to increase the number of iterations. Duality gap: 240292.27003836632, tolerance: 157342.37411948608\n",
      "\n",
      "c:\\Users\\manar\\anaconda3\\envs\\PAD\\lib\\site-packages\\sklearn\\linear_model\\_coordinate_descent.py:634: ConvergenceWarning:\n",
      "\n",
      "Objective did not converge. You might want to increase the number of iterations. Duality gap: 198027.01469904184, tolerance: 160181.46282829583\n",
      "\n",
      "c:\\Users\\manar\\anaconda3\\envs\\PAD\\lib\\site-packages\\sklearn\\linear_model\\_coordinate_descent.py:634: ConvergenceWarning:\n",
      "\n",
      "Objective did not converge. You might want to increase the number of iterations. Duality gap: 151348068.37307334, tolerance: 164293.57304250536\n",
      "\n",
      "c:\\Users\\manar\\anaconda3\\envs\\PAD\\lib\\site-packages\\sklearn\\linear_model\\_coordinate_descent.py:634: ConvergenceWarning:\n",
      "\n",
      "Objective did not converge. You might want to increase the number of iterations. Duality gap: 513797.7467466593, tolerance: 157799.03329153266\n",
      "\n",
      "c:\\Users\\manar\\anaconda3\\envs\\PAD\\lib\\site-packages\\sklearn\\linear_model\\_coordinate_descent.py:634: ConvergenceWarning:\n",
      "\n",
      "Objective did not converge. You might want to increase the number of iterations. Duality gap: 946165.6070882678, tolerance: 157928.17122079313\n",
      "\n",
      "c:\\Users\\manar\\anaconda3\\envs\\PAD\\lib\\site-packages\\sklearn\\linear_model\\_coordinate_descent.py:634: ConvergenceWarning:\n",
      "\n",
      "Objective did not converge. You might want to increase the number of iterations. Duality gap: 715490.4596500993, tolerance: 157342.37411948608\n",
      "\n",
      "c:\\Users\\manar\\anaconda3\\envs\\PAD\\lib\\site-packages\\sklearn\\linear_model\\_coordinate_descent.py:634: ConvergenceWarning:\n",
      "\n",
      "Objective did not converge. You might want to increase the number of iterations. Duality gap: 176127.2653132677, tolerance: 160181.46282829583\n",
      "\n",
      "c:\\Users\\manar\\anaconda3\\envs\\PAD\\lib\\site-packages\\sklearn\\linear_model\\_coordinate_descent.py:634: ConvergenceWarning:\n",
      "\n",
      "Objective did not converge. You might want to increase the number of iterations. Duality gap: 1370346.8495891094, tolerance: 157799.03329153266\n",
      "\n",
      "c:\\Users\\manar\\anaconda3\\envs\\PAD\\lib\\site-packages\\sklearn\\linear_model\\_coordinate_descent.py:634: ConvergenceWarning:\n",
      "\n",
      "Objective did not converge. You might want to increase the number of iterations. Duality gap: 243755.47337698936, tolerance: 163864.54437749195\n",
      "\n",
      "c:\\Users\\manar\\anaconda3\\envs\\PAD\\lib\\site-packages\\sklearn\\linear_model\\_coordinate_descent.py:634: ConvergenceWarning:\n",
      "\n",
      "Objective did not converge. You might want to increase the number of iterations. Duality gap: 1644257.837768197, tolerance: 157928.17122079313\n",
      "\n",
      "c:\\Users\\manar\\anaconda3\\envs\\PAD\\lib\\site-packages\\sklearn\\linear_model\\_coordinate_descent.py:634: ConvergenceWarning:\n",
      "\n",
      "Objective did not converge. You might want to increase the number of iterations. Duality gap: 1134813.042777598, tolerance: 157342.37411948608\n",
      "\n",
      "c:\\Users\\manar\\anaconda3\\envs\\PAD\\lib\\site-packages\\sklearn\\linear_model\\_coordinate_descent.py:634: ConvergenceWarning:\n",
      "\n",
      "Objective did not converge. You might want to increase the number of iterations. Duality gap: 195752.96729046106, tolerance: 160181.46282829583\n",
      "\n",
      "c:\\Users\\manar\\anaconda3\\envs\\PAD\\lib\\site-packages\\sklearn\\linear_model\\_coordinate_descent.py:634: ConvergenceWarning:\n",
      "\n",
      "Objective did not converge. You might want to increase the number of iterations. Duality gap: 226407.64065420628, tolerance: 163864.54437749195\n",
      "\n",
      "c:\\Users\\manar\\anaconda3\\envs\\PAD\\lib\\site-packages\\sklearn\\linear_model\\_coordinate_descent.py:634: ConvergenceWarning:\n",
      "\n",
      "Objective did not converge. You might want to increase the number of iterations. Duality gap: 1787030.7637673616, tolerance: 157799.03329153266\n",
      "\n",
      "c:\\Users\\manar\\anaconda3\\envs\\PAD\\lib\\site-packages\\sklearn\\linear_model\\_coordinate_descent.py:634: ConvergenceWarning:\n",
      "\n",
      "Objective did not converge. You might want to increase the number of iterations. Duality gap: 4044125.666634083, tolerance: 157928.17122079313\n",
      "\n",
      "c:\\Users\\manar\\anaconda3\\envs\\PAD\\lib\\site-packages\\sklearn\\linear_model\\_coordinate_descent.py:634: ConvergenceWarning:\n",
      "\n",
      "Objective did not converge. You might want to increase the number of iterations. Duality gap: 2051124.8504133224, tolerance: 157342.37411948608\n",
      "\n",
      "c:\\Users\\manar\\anaconda3\\envs\\PAD\\lib\\site-packages\\sklearn\\linear_model\\_coordinate_descent.py:634: ConvergenceWarning:\n",
      "\n",
      "Objective did not converge. You might want to increase the number of iterations. Duality gap: 165312.52646577358, tolerance: 163864.54437749195\n",
      "\n",
      "c:\\Users\\manar\\anaconda3\\envs\\PAD\\lib\\site-packages\\sklearn\\linear_model\\_coordinate_descent.py:634: ConvergenceWarning:\n",
      "\n",
      "Objective did not converge. You might want to increase the number of iterations. Duality gap: 229746.50539028645, tolerance: 160181.46282829583\n",
      "\n",
      "c:\\Users\\manar\\anaconda3\\envs\\PAD\\lib\\site-packages\\sklearn\\linear_model\\_coordinate_descent.py:634: ConvergenceWarning:\n",
      "\n",
      "Objective did not converge. You might want to increase the number of iterations. Duality gap: 4118842.986819029, tolerance: 157928.17122079313\n",
      "\n",
      "c:\\Users\\manar\\anaconda3\\envs\\PAD\\lib\\site-packages\\sklearn\\linear_model\\_coordinate_descent.py:634: ConvergenceWarning:\n",
      "\n",
      "Objective did not converge. You might want to increase the number of iterations. Duality gap: 1933430.3680303097, tolerance: 157799.03329153266\n",
      "\n",
      "c:\\Users\\manar\\anaconda3\\envs\\PAD\\lib\\site-packages\\sklearn\\linear_model\\_coordinate_descent.py:634: ConvergenceWarning:\n",
      "\n",
      "Objective did not converge. You might want to increase the number of iterations. Duality gap: 173108.03771030903, tolerance: 159943.06977942123\n",
      "\n",
      "c:\\Users\\manar\\anaconda3\\envs\\PAD\\lib\\site-packages\\sklearn\\linear_model\\_coordinate_descent.py:634: ConvergenceWarning:\n",
      "\n",
      "Objective did not converge. You might want to increase the number of iterations. Duality gap: 8008150.0352885425, tolerance: 157342.37411948608\n",
      "\n",
      "c:\\Users\\manar\\anaconda3\\envs\\PAD\\lib\\site-packages\\sklearn\\linear_model\\_coordinate_descent.py:634: UserWarning:\n",
      "\n",
      "Coordinate descent without L1 regularization may lead to unexpected results and is discouraged. Set l1_ratio > 0 to add L1 regularization.\n",
      "\n",
      "c:\\Users\\manar\\anaconda3\\envs\\PAD\\lib\\site-packages\\sklearn\\linear_model\\_coordinate_descent.py:634: ConvergenceWarning:\n",
      "\n",
      "Objective did not converge. You might want to increase the number of iterations. Duality gap: 580774.4584047198, tolerance: 163864.54437749195\n",
      "\n",
      "c:\\Users\\manar\\anaconda3\\envs\\PAD\\lib\\site-packages\\sklearn\\linear_model\\_coordinate_descent.py:634: ConvergenceWarning:\n",
      "\n",
      "Objective did not converge. You might want to increase the number of iterations. Duality gap: 308405.63975930214, tolerance: 160181.46282829583\n",
      "\n",
      "c:\\Users\\manar\\anaconda3\\envs\\PAD\\lib\\site-packages\\sklearn\\linear_model\\_coordinate_descent.py:634: ConvergenceWarning:\n",
      "\n",
      "Objective did not converge. You might want to increase the number of iterations. Duality gap: 1608287.5904367566, tolerance: 157799.03329153266\n",
      "\n",
      "c:\\Users\\manar\\anaconda3\\envs\\PAD\\lib\\site-packages\\sklearn\\linear_model\\_coordinate_descent.py:634: ConvergenceWarning:\n",
      "\n",
      "Objective did not converge. You might want to increase the number of iterations. Duality gap: 6717293.430318743, tolerance: 159943.06977942123\n",
      "\n",
      "c:\\Users\\manar\\anaconda3\\envs\\PAD\\lib\\site-packages\\sklearn\\linear_model\\_coordinate_descent.py:634: ConvergenceWarning:\n",
      "\n",
      "Objective did not converge. You might want to increase the number of iterations. Duality gap: 7080597.102800727, tolerance: 157928.17122079313\n",
      "\n",
      "c:\\Users\\manar\\anaconda3\\envs\\PAD\\lib\\site-packages\\sklearn\\linear_model\\_coordinate_descent.py:634: UserWarning:\n",
      "\n",
      "Coordinate descent without L1 regularization may lead to unexpected results and is discouraged. Set l1_ratio > 0 to add L1 regularization.\n",
      "\n",
      "c:\\Users\\manar\\anaconda3\\envs\\PAD\\lib\\site-packages\\sklearn\\linear_model\\_coordinate_descent.py:634: ConvergenceWarning:\n",
      "\n",
      "Objective did not converge. You might want to increase the number of iterations. Duality gap: 159353430.8309338, tolerance: 157342.37411948608\n",
      "\n",
      "c:\\Users\\manar\\anaconda3\\envs\\PAD\\lib\\site-packages\\sklearn\\linear_model\\_coordinate_descent.py:634: ConvergenceWarning:\n",
      "\n",
      "Objective did not converge. You might want to increase the number of iterations. Duality gap: 1923070.6250270605, tolerance: 163864.54437749195\n",
      "\n",
      "c:\\Users\\manar\\anaconda3\\envs\\PAD\\lib\\site-packages\\sklearn\\linear_model\\_coordinate_descent.py:634: ConvergenceWarning:\n",
      "\n",
      "Objective did not converge. You might want to increase the number of iterations. Duality gap: 579096.3136476278, tolerance: 160181.46282829583\n",
      "\n",
      "c:\\Users\\manar\\anaconda3\\envs\\PAD\\lib\\site-packages\\sklearn\\linear_model\\_coordinate_descent.py:634: ConvergenceWarning:\n",
      "\n",
      "Objective did not converge. You might want to increase the number of iterations. Duality gap: 1551996.1779837608, tolerance: 157799.03329153266\n",
      "\n",
      "c:\\Users\\manar\\anaconda3\\envs\\PAD\\lib\\site-packages\\sklearn\\linear_model\\_coordinate_descent.py:634: ConvergenceWarning:\n",
      "\n",
      "Objective did not converge. You might want to increase the number of iterations. Duality gap: 156859571.82912493, tolerance: 157928.17122079313\n",
      "\n",
      "c:\\Users\\manar\\anaconda3\\envs\\PAD\\lib\\site-packages\\sklearn\\linear_model\\_coordinate_descent.py:634: ConvergenceWarning:\n",
      "\n",
      "Objective did not converge. You might want to increase the number of iterations. Duality gap: 33033753.02026421, tolerance: 159943.06977942123\n",
      "\n",
      "c:\\Users\\manar\\anaconda3\\envs\\PAD\\lib\\site-packages\\sklearn\\linear_model\\_coordinate_descent.py:634: UserWarning:\n",
      "\n",
      "Coordinate descent without L1 regularization may lead to unexpected results and is discouraged. Set l1_ratio > 0 to add L1 regularization.\n",
      "\n",
      "c:\\Users\\manar\\anaconda3\\envs\\PAD\\lib\\site-packages\\sklearn\\linear_model\\_coordinate_descent.py:634: ConvergenceWarning:\n",
      "\n",
      "Objective did not converge. You might want to increase the number of iterations. Duality gap: 2528599.355079353, tolerance: 157799.03329153266\n",
      "\n",
      "c:\\Users\\manar\\anaconda3\\envs\\PAD\\lib\\site-packages\\sklearn\\linear_model\\_coordinate_descent.py:634: ConvergenceWarning:\n",
      "\n",
      "Objective did not converge. You might want to increase the number of iterations. Duality gap: 2279047.2767316103, tolerance: 163864.54437749195\n",
      "\n",
      "c:\\Users\\manar\\anaconda3\\envs\\PAD\\lib\\site-packages\\sklearn\\linear_model\\_coordinate_descent.py:634: ConvergenceWarning:\n",
      "\n",
      "Objective did not converge. You might want to increase the number of iterations. Duality gap: 162121.71651029587, tolerance: 160181.46282829583\n",
      "\n",
      "c:\\Users\\manar\\anaconda3\\envs\\PAD\\lib\\site-packages\\sklearn\\linear_model\\_coordinate_descent.py:634: ConvergenceWarning:\n",
      "\n",
      "Objective did not converge. You might want to increase the number of iterations. Duality gap: 4304419.573210776, tolerance: 157799.03329153266\n",
      "\n",
      "c:\\Users\\manar\\anaconda3\\envs\\PAD\\lib\\site-packages\\sklearn\\linear_model\\_coordinate_descent.py:634: ConvergenceWarning:\n",
      "\n",
      "Objective did not converge. You might want to increase the number of iterations. Duality gap: 152081840.73268437, tolerance: 159943.06977942123\n",
      "\n",
      "c:\\Users\\manar\\anaconda3\\envs\\PAD\\lib\\site-packages\\sklearn\\linear_model\\_coordinate_descent.py:634: ConvergenceWarning:\n",
      "\n",
      "Objective did not converge. You might want to increase the number of iterations. Duality gap: 5873752.903664529, tolerance: 157799.03329153266\n",
      "\n",
      "c:\\Users\\manar\\anaconda3\\envs\\PAD\\lib\\site-packages\\sklearn\\linear_model\\_coordinate_descent.py:634: ConvergenceWarning:\n",
      "\n",
      "Objective did not converge. You might want to increase the number of iterations. Duality gap: 3190881.7692893744, tolerance: 163864.54437749195\n",
      "\n",
      "c:\\Users\\manar\\anaconda3\\envs\\PAD\\lib\\site-packages\\sklearn\\linear_model\\_coordinate_descent.py:634: ConvergenceWarning:\n",
      "\n",
      "Objective did not converge. You might want to increase the number of iterations. Duality gap: 12601392.977550656, tolerance: 160181.46282829583\n",
      "\n",
      "c:\\Users\\manar\\anaconda3\\envs\\PAD\\lib\\site-packages\\sklearn\\linear_model\\_coordinate_descent.py:634: ConvergenceWarning:\n",
      "\n",
      "Objective did not converge. You might want to increase the number of iterations. Duality gap: 5572469.914289832, tolerance: 163864.54437749195\n",
      "\n",
      "c:\\Users\\manar\\anaconda3\\envs\\PAD\\lib\\site-packages\\sklearn\\linear_model\\_coordinate_descent.py:634: ConvergenceWarning:\n",
      "\n",
      "Objective did not converge. You might want to increase the number of iterations. Duality gap: 7310166.787750363, tolerance: 157799.03329153266\n",
      "\n",
      "c:\\Users\\manar\\anaconda3\\envs\\PAD\\lib\\site-packages\\sklearn\\linear_model\\_coordinate_descent.py:634: ConvergenceWarning:\n",
      "\n",
      "Objective did not converge. You might want to increase the number of iterations. Duality gap: 46766059.80909875, tolerance: 160181.46282829583\n",
      "\n",
      "c:\\Users\\manar\\anaconda3\\envs\\PAD\\lib\\site-packages\\sklearn\\linear_model\\_coordinate_descent.py:634: UserWarning:\n",
      "\n",
      "Coordinate descent without L1 regularization may lead to unexpected results and is discouraged. Set l1_ratio > 0 to add L1 regularization.\n",
      "\n",
      "c:\\Users\\manar\\anaconda3\\envs\\PAD\\lib\\site-packages\\sklearn\\linear_model\\_coordinate_descent.py:634: ConvergenceWarning:\n",
      "\n",
      "Objective did not converge. You might want to increase the number of iterations. Duality gap: 7473099.9917958975, tolerance: 163864.54437749195\n",
      "\n",
      "c:\\Users\\manar\\anaconda3\\envs\\PAD\\lib\\site-packages\\sklearn\\linear_model\\_coordinate_descent.py:634: ConvergenceWarning:\n",
      "\n",
      "Objective did not converge. You might want to increase the number of iterations. Duality gap: 13886735.177693248, tolerance: 157799.03329153266\n",
      "\n",
      "c:\\Users\\manar\\anaconda3\\envs\\PAD\\lib\\site-packages\\sklearn\\linear_model\\_coordinate_descent.py:634: ConvergenceWarning:\n",
      "\n",
      "Objective did not converge. You might want to increase the number of iterations. Duality gap: 162708901.43529773, tolerance: 160181.46282829583\n",
      "\n",
      "c:\\Users\\manar\\anaconda3\\envs\\PAD\\lib\\site-packages\\sklearn\\linear_model\\_coordinate_descent.py:634: ConvergenceWarning:\n",
      "\n",
      "Objective did not converge. You might want to increase the number of iterations. Duality gap: 23583765.989652544, tolerance: 163864.54437749195\n",
      "\n",
      "c:\\Users\\manar\\anaconda3\\envs\\PAD\\lib\\site-packages\\sklearn\\linear_model\\_coordinate_descent.py:634: ConvergenceWarning:\n",
      "\n",
      "Objective did not converge. You might want to increase the number of iterations. Duality gap: 56648493.70829213, tolerance: 157799.03329153266\n",
      "\n",
      "c:\\Users\\manar\\anaconda3\\envs\\PAD\\lib\\site-packages\\sklearn\\linear_model\\_coordinate_descent.py:634: UserWarning:\n",
      "\n",
      "Coordinate descent without L1 regularization may lead to unexpected results and is discouraged. Set l1_ratio > 0 to add L1 regularization.\n",
      "\n",
      "c:\\Users\\manar\\anaconda3\\envs\\PAD\\lib\\site-packages\\sklearn\\linear_model\\_coordinate_descent.py:634: ConvergenceWarning:\n",
      "\n",
      "Objective did not converge. You might want to increase the number of iterations. Duality gap: 58111599.415106356, tolerance: 163864.54437749195\n",
      "\n",
      "c:\\Users\\manar\\anaconda3\\envs\\PAD\\lib\\site-packages\\sklearn\\linear_model\\_coordinate_descent.py:634: UserWarning:\n",
      "\n",
      "Coordinate descent without L1 regularization may lead to unexpected results and is discouraged. Set l1_ratio > 0 to add L1 regularization.\n",
      "\n",
      "c:\\Users\\manar\\anaconda3\\envs\\PAD\\lib\\site-packages\\sklearn\\linear_model\\_coordinate_descent.py:634: ConvergenceWarning:\n",
      "\n",
      "Objective did not converge. You might want to increase the number of iterations. Duality gap: 141544832.9484508, tolerance: 157799.03329153266\n",
      "\n",
      "c:\\Users\\manar\\anaconda3\\envs\\PAD\\lib\\site-packages\\sklearn\\linear_model\\_coordinate_descent.py:634: ConvergenceWarning:\n",
      "\n",
      "Objective did not converge. You might want to increase the number of iterations. Duality gap: 364528.0756866336, tolerance: 158394.76133311898\n",
      "\n",
      "c:\\Users\\manar\\anaconda3\\envs\\PAD\\lib\\site-packages\\sklearn\\linear_model\\_coordinate_descent.py:634: ConvergenceWarning:\n",
      "\n",
      "Objective did not converge. You might want to increase the number of iterations. Duality gap: 150168299.58722544, tolerance: 163864.54437749195\n",
      "\n",
      "c:\\Users\\manar\\anaconda3\\envs\\PAD\\lib\\site-packages\\sklearn\\linear_model\\_coordinate_descent.py:634: ConvergenceWarning:\n",
      "\n",
      "Objective did not converge. You might want to increase the number of iterations. Duality gap: 1167857.4019901156, tolerance: 162759.57268351177\n",
      "\n",
      "c:\\Users\\manar\\anaconda3\\envs\\PAD\\lib\\site-packages\\sklearn\\linear_model\\_coordinate_descent.py:634: ConvergenceWarning:\n",
      "\n",
      "Objective did not converge. You might want to increase the number of iterations. Duality gap: 1213083.1046720147, tolerance: 158394.76133311898\n",
      "\n",
      "c:\\Users\\manar\\anaconda3\\envs\\PAD\\lib\\site-packages\\sklearn\\linear_model\\_coordinate_descent.py:634: ConvergenceWarning:\n",
      "\n",
      "Objective did not converge. You might want to increase the number of iterations. Duality gap: 23166019.7907781, tolerance: 162759.57268351177\n",
      "\n",
      "c:\\Users\\manar\\anaconda3\\envs\\PAD\\lib\\site-packages\\sklearn\\linear_model\\_coordinate_descent.py:634: ConvergenceWarning:\n",
      "\n",
      "Objective did not converge. You might want to increase the number of iterations. Duality gap: 1841528.0897838473, tolerance: 158394.76133311898\n",
      "\n",
      "c:\\Users\\manar\\anaconda3\\envs\\PAD\\lib\\site-packages\\sklearn\\linear_model\\_coordinate_descent.py:634: ConvergenceWarning:\n",
      "\n",
      "Objective did not converge. You might want to increase the number of iterations. Duality gap: 62130584.942955166, tolerance: 162759.57268351177\n",
      "\n",
      "c:\\Users\\manar\\anaconda3\\envs\\PAD\\lib\\site-packages\\sklearn\\linear_model\\_coordinate_descent.py:634: UserWarning:\n",
      "\n",
      "Coordinate descent without L1 regularization may lead to unexpected results and is discouraged. Set l1_ratio > 0 to add L1 regularization.\n",
      "\n",
      "c:\\Users\\manar\\anaconda3\\envs\\PAD\\lib\\site-packages\\sklearn\\linear_model\\_coordinate_descent.py:634: ConvergenceWarning:\n",
      "\n",
      "Objective did not converge. You might want to increase the number of iterations. Duality gap: 3348161.074732125, tolerance: 158394.76133311898\n",
      "\n",
      "c:\\Users\\manar\\anaconda3\\envs\\PAD\\lib\\site-packages\\sklearn\\linear_model\\_coordinate_descent.py:634: ConvergenceWarning:\n",
      "\n",
      "Objective did not converge. You might want to increase the number of iterations. Duality gap: 153347.07439994812, tolerance: 152712.02513311896\n",
      "\n",
      "c:\\Users\\manar\\anaconda3\\envs\\PAD\\lib\\site-packages\\sklearn\\linear_model\\_coordinate_descent.py:634: ConvergenceWarning:\n",
      "\n",
      "Objective did not converge. You might want to increase the number of iterations. Duality gap: 164831586.8861401, tolerance: 162759.57268351177\n",
      "\n",
      "c:\\Users\\manar\\anaconda3\\envs\\PAD\\lib\\site-packages\\sklearn\\linear_model\\_coordinate_descent.py:634: ConvergenceWarning:\n",
      "\n",
      "Objective did not converge. You might want to increase the number of iterations. Duality gap: 13381302.605539829, tolerance: 158394.76133311898\n",
      "\n",
      "c:\\Users\\manar\\anaconda3\\envs\\PAD\\lib\\site-packages\\sklearn\\linear_model\\_coordinate_descent.py:634: UserWarning:\n",
      "\n",
      "Coordinate descent without L1 regularization may lead to unexpected results and is discouraged. Set l1_ratio > 0 to add L1 regularization.\n",
      "\n",
      "c:\\Users\\manar\\anaconda3\\envs\\PAD\\lib\\site-packages\\sklearn\\linear_model\\_coordinate_descent.py:634: ConvergenceWarning:\n",
      "\n",
      "Objective did not converge. You might want to increase the number of iterations. Duality gap: 159929049.987298, tolerance: 158394.76133311898\n",
      "\n",
      "c:\\Users\\manar\\anaconda3\\envs\\PAD\\lib\\site-packages\\sklearn\\linear_model\\_coordinate_descent.py:634: ConvergenceWarning:\n",
      "\n",
      "Objective did not converge. You might want to increase the number of iterations. Duality gap: 228549.19505429268, tolerance: 163141.71428147756\n",
      "\n",
      "c:\\Users\\manar\\anaconda3\\envs\\PAD\\lib\\site-packages\\sklearn\\linear_model\\_coordinate_descent.py:634: ConvergenceWarning:\n",
      "\n",
      "Objective did not converge. You might want to increase the number of iterations. Duality gap: 226735.9632202983, tolerance: 166745.97337899252\n",
      "\n",
      "c:\\Users\\manar\\anaconda3\\envs\\PAD\\lib\\site-packages\\sklearn\\linear_model\\_coordinate_descent.py:634: ConvergenceWarning:\n",
      "\n",
      "Objective did not converge. You might want to increase the number of iterations. Duality gap: 277901.39466559887, tolerance: 152712.02513311896\n",
      "\n",
      "c:\\Users\\manar\\anaconda3\\envs\\PAD\\lib\\site-packages\\sklearn\\linear_model\\_coordinate_descent.py:634: ConvergenceWarning:\n",
      "\n",
      "Objective did not converge. You might want to increase the number of iterations. Duality gap: 236669.88796663284, tolerance: 166745.97337899252\n",
      "\n",
      "c:\\Users\\manar\\anaconda3\\envs\\PAD\\lib\\site-packages\\sklearn\\linear_model\\_coordinate_descent.py:634: ConvergenceWarning:\n",
      "\n",
      "Objective did not converge. You might want to increase the number of iterations. Duality gap: 260352.7671573758, tolerance: 163141.71428147756\n",
      "\n",
      "c:\\Users\\manar\\anaconda3\\envs\\PAD\\lib\\site-packages\\sklearn\\linear_model\\_coordinate_descent.py:634: ConvergenceWarning:\n",
      "\n",
      "Objective did not converge. You might want to increase the number of iterations. Duality gap: 308691.4642409086, tolerance: 152712.02513311896\n",
      "\n",
      "c:\\Users\\manar\\anaconda3\\envs\\PAD\\lib\\site-packages\\sklearn\\linear_model\\_coordinate_descent.py:634: ConvergenceWarning:\n",
      "\n",
      "Objective did not converge. You might want to increase the number of iterations. Duality gap: 244338.16369855404, tolerance: 166745.97337899252\n",
      "\n",
      "c:\\Users\\manar\\anaconda3\\envs\\PAD\\lib\\site-packages\\sklearn\\linear_model\\_coordinate_descent.py:634: ConvergenceWarning:\n",
      "\n",
      "Objective did not converge. You might want to increase the number of iterations. Duality gap: 289831.6332439184, tolerance: 152712.02513311896\n",
      "\n",
      "c:\\Users\\manar\\anaconda3\\envs\\PAD\\lib\\site-packages\\sklearn\\linear_model\\_coordinate_descent.py:634: ConvergenceWarning:\n",
      "\n",
      "Objective did not converge. You might want to increase the number of iterations. Duality gap: 184423.60702335835, tolerance: 163141.71428147756\n",
      "\n",
      "c:\\Users\\manar\\anaconda3\\envs\\PAD\\lib\\site-packages\\sklearn\\linear_model\\_coordinate_descent.py:634: ConvergenceWarning:\n",
      "\n",
      "Objective did not converge. You might want to increase the number of iterations. Duality gap: 285381.90945875645, tolerance: 166745.97337899252\n",
      "\n",
      "c:\\Users\\manar\\anaconda3\\envs\\PAD\\lib\\site-packages\\sklearn\\linear_model\\_coordinate_descent.py:634: ConvergenceWarning:\n",
      "\n",
      "Objective did not converge. You might want to increase the number of iterations. Duality gap: 1849312.3384812474, tolerance: 163901.75248137044\n",
      "\n",
      "c:\\Users\\manar\\anaconda3\\envs\\PAD\\lib\\site-packages\\sklearn\\linear_model\\_coordinate_descent.py:634: ConvergenceWarning:\n",
      "\n",
      "Objective did not converge. You might want to increase the number of iterations. Duality gap: 295133.1420506239, tolerance: 152712.02513311896\n",
      "\n",
      "c:\\Users\\manar\\anaconda3\\envs\\PAD\\lib\\site-packages\\sklearn\\linear_model\\_coordinate_descent.py:634: ConvergenceWarning:\n",
      "\n",
      "Objective did not converge. You might want to increase the number of iterations. Duality gap: 258140.74457859993, tolerance: 163141.71428147756\n",
      "\n",
      "c:\\Users\\manar\\anaconda3\\envs\\PAD\\lib\\site-packages\\sklearn\\linear_model\\_coordinate_descent.py:634: ConvergenceWarning:\n",
      "\n",
      "Objective did not converge. You might want to increase the number of iterations. Duality gap: 307689.15639185905, tolerance: 166745.97337899252\n",
      "\n",
      "c:\\Users\\manar\\anaconda3\\envs\\PAD\\lib\\site-packages\\sklearn\\linear_model\\_coordinate_descent.py:634: ConvergenceWarning:\n",
      "\n",
      "Objective did not converge. You might want to increase the number of iterations. Duality gap: 312237.3920533061, tolerance: 152712.02513311896\n",
      "\n",
      "c:\\Users\\manar\\anaconda3\\envs\\PAD\\lib\\site-packages\\sklearn\\linear_model\\_coordinate_descent.py:634: ConvergenceWarning:\n",
      "\n",
      "Objective did not converge. You might want to increase the number of iterations. Duality gap: 1190666.2549280524, tolerance: 163141.71428147756\n",
      "\n",
      "c:\\Users\\manar\\anaconda3\\envs\\PAD\\lib\\site-packages\\sklearn\\linear_model\\_coordinate_descent.py:634: ConvergenceWarning:\n",
      "\n",
      "Objective did not converge. You might want to increase the number of iterations. Duality gap: 8578545.629315972, tolerance: 163901.75248137044\n",
      "\n",
      "c:\\Users\\manar\\anaconda3\\envs\\PAD\\lib\\site-packages\\sklearn\\linear_model\\_coordinate_descent.py:634: ConvergenceWarning:\n",
      "\n",
      "Objective did not converge. You might want to increase the number of iterations. Duality gap: 322253.76806771755, tolerance: 166745.97337899252\n",
      "\n",
      "c:\\Users\\manar\\anaconda3\\envs\\PAD\\lib\\site-packages\\sklearn\\linear_model\\_coordinate_descent.py:634: ConvergenceWarning:\n",
      "\n",
      "Objective did not converge. You might want to increase the number of iterations. Duality gap: 333967.6347241998, tolerance: 152712.02513311896\n",
      "\n",
      "c:\\Users\\manar\\anaconda3\\envs\\PAD\\lib\\site-packages\\sklearn\\linear_model\\_coordinate_descent.py:634: ConvergenceWarning:\n",
      "\n",
      "Objective did not converge. You might want to increase the number of iterations. Duality gap: 33634739.556886226, tolerance: 163901.75248137044\n",
      "\n",
      "c:\\Users\\manar\\anaconda3\\envs\\PAD\\lib\\site-packages\\sklearn\\linear_model\\_coordinate_descent.py:634: UserWarning:\n",
      "\n",
      "Coordinate descent without L1 regularization may lead to unexpected results and is discouraged. Set l1_ratio > 0 to add L1 regularization.\n",
      "\n",
      "c:\\Users\\manar\\anaconda3\\envs\\PAD\\lib\\site-packages\\sklearn\\linear_model\\_coordinate_descent.py:634: ConvergenceWarning:\n",
      "\n",
      "Objective did not converge. You might want to increase the number of iterations. Duality gap: 1149916.6476268172, tolerance: 163141.71428147756\n",
      "\n",
      "c:\\Users\\manar\\anaconda3\\envs\\PAD\\lib\\site-packages\\sklearn\\linear_model\\_coordinate_descent.py:634: UserWarning:\n",
      "\n",
      "Coordinate descent without L1 regularization may lead to unexpected results and is discouraged. Set l1_ratio > 0 to add L1 regularization.\n",
      "\n",
      "c:\\Users\\manar\\anaconda3\\envs\\PAD\\lib\\site-packages\\sklearn\\linear_model\\_coordinate_descent.py:634: ConvergenceWarning:\n",
      "\n",
      "Objective did not converge. You might want to increase the number of iterations. Duality gap: 348290.1209818125, tolerance: 166745.97337899252\n",
      "\n",
      "c:\\Users\\manar\\anaconda3\\envs\\PAD\\lib\\site-packages\\sklearn\\linear_model\\_coordinate_descent.py:634: ConvergenceWarning:\n",
      "\n",
      "Objective did not converge. You might want to increase the number of iterations. Duality gap: 370993.0017300248, tolerance: 152712.02513311896\n",
      "\n",
      "c:\\Users\\manar\\anaconda3\\envs\\PAD\\lib\\site-packages\\sklearn\\linear_model\\_coordinate_descent.py:634: ConvergenceWarning:\n",
      "\n",
      "Objective did not converge. You might want to increase the number of iterations. Duality gap: 181936.87122827768, tolerance: 161160.1396998928\n",
      "\n",
      "c:\\Users\\manar\\anaconda3\\envs\\PAD\\lib\\site-packages\\sklearn\\linear_model\\_coordinate_descent.py:634: ConvergenceWarning:\n",
      "\n",
      "Objective did not converge. You might want to increase the number of iterations. Duality gap: 157144416.68237162, tolerance: 163141.71428147756\n",
      "\n",
      "c:\\Users\\manar\\anaconda3\\envs\\PAD\\lib\\site-packages\\sklearn\\linear_model\\_coordinate_descent.py:634: ConvergenceWarning:\n",
      "\n",
      "Objective did not converge. You might want to increase the number of iterations. Duality gap: 159290001.59578323, tolerance: 163901.75248137044\n",
      "\n",
      "c:\\Users\\manar\\anaconda3\\envs\\PAD\\lib\\site-packages\\sklearn\\linear_model\\_coordinate_descent.py:634: ConvergenceWarning:\n",
      "\n",
      "Objective did not converge. You might want to increase the number of iterations. Duality gap: 355281.0198686123, tolerance: 166745.97337899252\n",
      "\n",
      "c:\\Users\\manar\\anaconda3\\envs\\PAD\\lib\\site-packages\\sklearn\\linear_model\\_coordinate_descent.py:634: ConvergenceWarning:\n",
      "\n",
      "Objective did not converge. You might want to increase the number of iterations. Duality gap: 444632.36895143986, tolerance: 152712.02513311896\n",
      "\n",
      "c:\\Users\\manar\\anaconda3\\envs\\PAD\\lib\\site-packages\\sklearn\\linear_model\\_coordinate_descent.py:634: ConvergenceWarning:\n",
      "\n",
      "Objective did not converge. You might want to increase the number of iterations. Duality gap: 238045.32205575705, tolerance: 161160.1396998928\n",
      "\n",
      "c:\\Users\\manar\\anaconda3\\envs\\PAD\\lib\\site-packages\\sklearn\\linear_model\\_coordinate_descent.py:634: ConvergenceWarning:\n",
      "\n",
      "Objective did not converge. You might want to increase the number of iterations. Duality gap: 355788.34919536114, tolerance: 166745.97337899252\n",
      "\n",
      "c:\\Users\\manar\\anaconda3\\envs\\PAD\\lib\\site-packages\\sklearn\\linear_model\\_coordinate_descent.py:634: ConvergenceWarning:\n",
      "\n",
      "Objective did not converge. You might want to increase the number of iterations. Duality gap: 479029.9021781087, tolerance: 152712.02513311896\n",
      "\n",
      "c:\\Users\\manar\\anaconda3\\envs\\PAD\\lib\\site-packages\\sklearn\\linear_model\\_coordinate_descent.py:634: ConvergenceWarning:\n",
      "\n",
      "Objective did not converge. You might want to increase the number of iterations. Duality gap: 219446.5004335642, tolerance: 161160.1396998928\n",
      "\n",
      "c:\\Users\\manar\\anaconda3\\envs\\PAD\\lib\\site-packages\\sklearn\\linear_model\\_coordinate_descent.py:634: ConvergenceWarning:\n",
      "\n",
      "Objective did not converge. You might want to increase the number of iterations. Duality gap: 160604.83625006676, tolerance: 159794.30381178996\n",
      "\n",
      "c:\\Users\\manar\\anaconda3\\envs\\PAD\\lib\\site-packages\\sklearn\\linear_model\\_coordinate_descent.py:634: ConvergenceWarning:\n",
      "\n",
      "Objective did not converge. You might want to increase the number of iterations. Duality gap: 916655.2257711887, tolerance: 152712.02513311896\n",
      "\n",
      "c:\\Users\\manar\\anaconda3\\envs\\PAD\\lib\\site-packages\\sklearn\\linear_model\\_coordinate_descent.py:634: ConvergenceWarning:\n",
      "\n",
      "Objective did not converge. You might want to increase the number of iterations. Duality gap: 406658.7310630083, tolerance: 166745.97337899252\n",
      "\n",
      "c:\\Users\\manar\\anaconda3\\envs\\PAD\\lib\\site-packages\\sklearn\\linear_model\\_coordinate_descent.py:634: ConvergenceWarning:\n",
      "\n",
      "Objective did not converge. You might want to increase the number of iterations. Duality gap: 177795.31110978127, tolerance: 159794.30381178996\n",
      "\n",
      "c:\\Users\\manar\\anaconda3\\envs\\PAD\\lib\\site-packages\\sklearn\\linear_model\\_coordinate_descent.py:634: ConvergenceWarning:\n",
      "\n",
      "Objective did not converge. You might want to increase the number of iterations. Duality gap: 3834868.7877447605, tolerance: 152712.02513311896\n",
      "\n",
      "c:\\Users\\manar\\anaconda3\\envs\\PAD\\lib\\site-packages\\sklearn\\linear_model\\_coordinate_descent.py:634: ConvergenceWarning:\n",
      "\n",
      "Objective did not converge. You might want to increase the number of iterations. Duality gap: 563880.780439496, tolerance: 166745.97337899252\n",
      "\n",
      "c:\\Users\\manar\\anaconda3\\envs\\PAD\\lib\\site-packages\\sklearn\\linear_model\\_coordinate_descent.py:634: ConvergenceWarning:\n",
      "\n",
      "Objective did not converge. You might want to increase the number of iterations. Duality gap: 372417.50330126286, tolerance: 159794.30381178996\n",
      "\n",
      "c:\\Users\\manar\\anaconda3\\envs\\PAD\\lib\\site-packages\\sklearn\\linear_model\\_coordinate_descent.py:634: ConvergenceWarning:\n",
      "\n",
      "Objective did not converge. You might want to increase the number of iterations. Duality gap: 2984059.517129898, tolerance: 152712.02513311896\n",
      "\n",
      "c:\\Users\\manar\\anaconda3\\envs\\PAD\\lib\\site-packages\\sklearn\\linear_model\\_coordinate_descent.py:634: ConvergenceWarning:\n",
      "\n",
      "Objective did not converge. You might want to increase the number of iterations. Duality gap: 777157.9696504474, tolerance: 166745.97337899252\n",
      "\n",
      "c:\\Users\\manar\\anaconda3\\envs\\PAD\\lib\\site-packages\\sklearn\\linear_model\\_coordinate_descent.py:634: ConvergenceWarning:\n",
      "\n",
      "Objective did not converge. You might want to increase the number of iterations. Duality gap: 267251.9032407403, tolerance: 161160.1396998928\n",
      "\n",
      "c:\\Users\\manar\\anaconda3\\envs\\PAD\\lib\\site-packages\\sklearn\\linear_model\\_coordinate_descent.py:634: ConvergenceWarning:\n",
      "\n",
      "Objective did not converge. You might want to increase the number of iterations. Duality gap: 35270785.2106092, tolerance: 152712.02513311896\n",
      "\n",
      "c:\\Users\\manar\\anaconda3\\envs\\PAD\\lib\\site-packages\\sklearn\\linear_model\\_coordinate_descent.py:634: UserWarning:\n",
      "\n",
      "Coordinate descent without L1 regularization may lead to unexpected results and is discouraged. Set l1_ratio > 0 to add L1 regularization.\n",
      "\n",
      "c:\\Users\\manar\\anaconda3\\envs\\PAD\\lib\\site-packages\\sklearn\\linear_model\\_coordinate_descent.py:634: ConvergenceWarning:\n",
      "\n",
      "Objective did not converge. You might want to increase the number of iterations. Duality gap: 429041.0024379492, tolerance: 159794.30381178996\n",
      "\n",
      "c:\\Users\\manar\\anaconda3\\envs\\PAD\\lib\\site-packages\\sklearn\\linear_model\\_coordinate_descent.py:634: ConvergenceWarning:\n",
      "\n",
      "Objective did not converge. You might want to increase the number of iterations. Duality gap: 921689.1348500848, tolerance: 166745.97337899252\n",
      "\n",
      "c:\\Users\\manar\\anaconda3\\envs\\PAD\\lib\\site-packages\\sklearn\\linear_model\\_coordinate_descent.py:634: ConvergenceWarning:\n",
      "\n",
      "Objective did not converge. You might want to increase the number of iterations. Duality gap: 701421.2372056246, tolerance: 161160.1396998928\n",
      "\n",
      "c:\\Users\\manar\\anaconda3\\envs\\PAD\\lib\\site-packages\\sklearn\\linear_model\\_coordinate_descent.py:634: ConvergenceWarning:\n",
      "\n",
      "Objective did not converge. You might want to increase the number of iterations. Duality gap: 212464.58329325914, tolerance: 160169.81345166132\n",
      "\n",
      "c:\\Users\\manar\\anaconda3\\envs\\PAD\\lib\\site-packages\\sklearn\\linear_model\\_coordinate_descent.py:634: ConvergenceWarning:\n",
      "\n",
      "Objective did not converge. You might want to increase the number of iterations. Duality gap: 378200.1614429951, tolerance: 159794.30381178996\n",
      "\n",
      "c:\\Users\\manar\\anaconda3\\envs\\PAD\\lib\\site-packages\\sklearn\\linear_model\\_coordinate_descent.py:634: ConvergenceWarning:\n",
      "\n",
      "Objective did not converge. You might want to increase the number of iterations. Duality gap: 155185183.8520987, tolerance: 152712.02513311896\n",
      "\n",
      "c:\\Users\\manar\\anaconda3\\envs\\PAD\\lib\\site-packages\\sklearn\\linear_model\\_coordinate_descent.py:634: ConvergenceWarning:\n",
      "\n",
      "Objective did not converge. You might want to increase the number of iterations. Duality gap: 760987.059563458, tolerance: 166745.97337899252\n",
      "\n",
      "c:\\Users\\manar\\anaconda3\\envs\\PAD\\lib\\site-packages\\sklearn\\linear_model\\_coordinate_descent.py:634: ConvergenceWarning:\n",
      "\n",
      "Objective did not converge. You might want to increase the number of iterations. Duality gap: 952450.8023045063, tolerance: 164200.06064951772\n",
      "\n",
      "c:\\Users\\manar\\anaconda3\\envs\\PAD\\lib\\site-packages\\sklearn\\linear_model\\_coordinate_descent.py:634: ConvergenceWarning:\n",
      "\n",
      "Objective did not converge. You might want to increase the number of iterations. Duality gap: 258003.9669598937, tolerance: 160169.81345166132\n",
      "\n",
      "c:\\Users\\manar\\anaconda3\\envs\\PAD\\lib\\site-packages\\sklearn\\linear_model\\_coordinate_descent.py:634: ConvergenceWarning:\n",
      "\n",
      "Objective did not converge. You might want to increase the number of iterations. Duality gap: 499732.4669382572, tolerance: 161160.1396998928\n",
      "\n",
      "c:\\Users\\manar\\anaconda3\\envs\\PAD\\lib\\site-packages\\sklearn\\linear_model\\_coordinate_descent.py:634: UserWarning:\n",
      "\n",
      "Coordinate descent without L1 regularization may lead to unexpected results and is discouraged. Set l1_ratio > 0 to add L1 regularization.\n",
      "\n",
      "c:\\Users\\manar\\anaconda3\\envs\\PAD\\lib\\site-packages\\sklearn\\linear_model\\_coordinate_descent.py:634: ConvergenceWarning:\n",
      "\n",
      "Objective did not converge. You might want to increase the number of iterations. Duality gap: 663039.6199019551, tolerance: 159794.30381178996\n",
      "\n",
      "c:\\Users\\manar\\anaconda3\\envs\\PAD\\lib\\site-packages\\sklearn\\linear_model\\_coordinate_descent.py:634: ConvergenceWarning:\n",
      "\n",
      "Objective did not converge. You might want to increase the number of iterations. Duality gap: 11002702.786680281, tolerance: 164200.06064951772\n",
      "\n",
      "c:\\Users\\manar\\anaconda3\\envs\\PAD\\lib\\site-packages\\sklearn\\linear_model\\_coordinate_descent.py:634: ConvergenceWarning:\n",
      "\n",
      "Objective did not converge. You might want to increase the number of iterations. Duality gap: 151014868.16956067, tolerance: 161160.1396998928\n",
      "\n",
      "c:\\Users\\manar\\anaconda3\\envs\\PAD\\lib\\site-packages\\sklearn\\linear_model\\_coordinate_descent.py:634: ConvergenceWarning:\n",
      "\n",
      "Objective did not converge. You might want to increase the number of iterations. Duality gap: 1605927.1361275315, tolerance: 166745.97337899252\n",
      "\n",
      "c:\\Users\\manar\\anaconda3\\envs\\PAD\\lib\\site-packages\\sklearn\\linear_model\\_coordinate_descent.py:634: ConvergenceWarning:\n",
      "\n",
      "Objective did not converge. You might want to increase the number of iterations. Duality gap: 349642.29489791393, tolerance: 162048.73461629153\n",
      "\n",
      "c:\\Users\\manar\\anaconda3\\envs\\PAD\\lib\\site-packages\\sklearn\\linear_model\\_coordinate_descent.py:634: ConvergenceWarning:\n",
      "\n",
      "Objective did not converge. You might want to increase the number of iterations. Duality gap: 1276220.4566038847, tolerance: 160169.81345166132\n",
      "\n",
      "c:\\Users\\manar\\anaconda3\\envs\\PAD\\lib\\site-packages\\sklearn\\linear_model\\_coordinate_descent.py:634: ConvergenceWarning:\n",
      "\n",
      "Objective did not converge. You might want to increase the number of iterations. Duality gap: 1238089.0258746147, tolerance: 162048.73461629153\n",
      "\n",
      "c:\\Users\\manar\\anaconda3\\envs\\PAD\\lib\\site-packages\\sklearn\\linear_model\\_coordinate_descent.py:634: ConvergenceWarning:\n",
      "\n",
      "Objective did not converge. You might want to increase the number of iterations. Duality gap: 1000022.7940283418, tolerance: 159794.30381178996\n",
      "\n",
      "c:\\Users\\manar\\anaconda3\\envs\\PAD\\lib\\site-packages\\sklearn\\linear_model\\_coordinate_descent.py:634: ConvergenceWarning:\n",
      "\n",
      "Objective did not converge. You might want to increase the number of iterations. Duality gap: 30230652.50156617, tolerance: 164200.06064951772\n",
      "\n",
      "c:\\Users\\manar\\anaconda3\\envs\\PAD\\lib\\site-packages\\sklearn\\linear_model\\_coordinate_descent.py:634: UserWarning:\n",
      "\n",
      "Coordinate descent without L1 regularization may lead to unexpected results and is discouraged. Set l1_ratio > 0 to add L1 regularization.\n",
      "\n",
      "c:\\Users\\manar\\anaconda3\\envs\\PAD\\lib\\site-packages\\sklearn\\linear_model\\_coordinate_descent.py:634: ConvergenceWarning:\n",
      "\n",
      "Objective did not converge. You might want to increase the number of iterations. Duality gap: 2921137.7246797085, tolerance: 160169.81345166132\n",
      "\n",
      "c:\\Users\\manar\\anaconda3\\envs\\PAD\\lib\\site-packages\\sklearn\\linear_model\\_coordinate_descent.py:634: ConvergenceWarning:\n",
      "\n",
      "Objective did not converge. You might want to increase the number of iterations. Duality gap: 2535454.7283893824, tolerance: 166745.97337899252\n",
      "\n",
      "c:\\Users\\manar\\anaconda3\\envs\\PAD\\lib\\site-packages\\sklearn\\linear_model\\_coordinate_descent.py:634: ConvergenceWarning:\n",
      "\n",
      "Objective did not converge. You might want to increase the number of iterations. Duality gap: 1625669.4114813805, tolerance: 162048.73461629153\n",
      "\n",
      "c:\\Users\\manar\\anaconda3\\envs\\PAD\\lib\\site-packages\\sklearn\\linear_model\\_coordinate_descent.py:634: ConvergenceWarning:\n",
      "\n",
      "Objective did not converge. You might want to increase the number of iterations. Duality gap: 5844741.717483014, tolerance: 160169.81345166132\n",
      "\n",
      "c:\\Users\\manar\\anaconda3\\envs\\PAD\\lib\\site-packages\\sklearn\\linear_model\\_coordinate_descent.py:634: ConvergenceWarning:\n",
      "\n",
      "Objective did not converge. You might want to increase the number of iterations. Duality gap: 157420.89544177055, tolerance: 156314.05230931475\n",
      "\n",
      "c:\\Users\\manar\\anaconda3\\envs\\PAD\\lib\\site-packages\\sklearn\\linear_model\\_coordinate_descent.py:634: ConvergenceWarning:\n",
      "\n",
      "Objective did not converge. You might want to increase the number of iterations. Duality gap: 1170548.377957046, tolerance: 159794.30381178996\n",
      "\n",
      "c:\\Users\\manar\\anaconda3\\envs\\PAD\\lib\\site-packages\\sklearn\\linear_model\\_coordinate_descent.py:634: ConvergenceWarning:\n",
      "\n",
      "Objective did not converge. You might want to increase the number of iterations. Duality gap: 154649671.08191204, tolerance: 164200.06064951772\n",
      "\n",
      "c:\\Users\\manar\\anaconda3\\envs\\PAD\\lib\\site-packages\\sklearn\\linear_model\\_coordinate_descent.py:634: ConvergenceWarning:\n",
      "\n",
      "Objective did not converge. You might want to increase the number of iterations. Duality gap: 8515952.351654828, tolerance: 160169.81345166132\n",
      "\n",
      "c:\\Users\\manar\\anaconda3\\envs\\PAD\\lib\\site-packages\\sklearn\\linear_model\\_coordinate_descent.py:634: ConvergenceWarning:\n",
      "\n",
      "Objective did not converge. You might want to increase the number of iterations. Duality gap: 6843837.515687257, tolerance: 166745.97337899252\n",
      "\n",
      "c:\\Users\\manar\\anaconda3\\envs\\PAD\\lib\\site-packages\\sklearn\\linear_model\\_coordinate_descent.py:634: UserWarning:\n",
      "\n",
      "Coordinate descent without L1 regularization may lead to unexpected results and is discouraged. Set l1_ratio > 0 to add L1 regularization.\n",
      "\n",
      "c:\\Users\\manar\\anaconda3\\envs\\PAD\\lib\\site-packages\\sklearn\\linear_model\\_coordinate_descent.py:634: ConvergenceWarning:\n",
      "\n",
      "Objective did not converge. You might want to increase the number of iterations. Duality gap: 2029667.8606055975, tolerance: 162048.73461629153\n",
      "\n",
      "c:\\Users\\manar\\anaconda3\\envs\\PAD\\lib\\site-packages\\sklearn\\linear_model\\_coordinate_descent.py:634: ConvergenceWarning:\n",
      "\n",
      "Objective did not converge. You might want to increase the number of iterations. Duality gap: 191682.0938050151, tolerance: 156314.05230931475\n",
      "\n",
      "c:\\Users\\manar\\anaconda3\\envs\\PAD\\lib\\site-packages\\sklearn\\linear_model\\_coordinate_descent.py:634: ConvergenceWarning:\n",
      "\n",
      "Objective did not converge. You might want to increase the number of iterations. Duality gap: 3190943.4485046864, tolerance: 159794.30381178996\n",
      "\n",
      "c:\\Users\\manar\\anaconda3\\envs\\PAD\\lib\\site-packages\\sklearn\\linear_model\\_coordinate_descent.py:634: ConvergenceWarning:\n",
      "\n",
      "Objective did not converge. You might want to increase the number of iterations. Duality gap: 4415604.600563616, tolerance: 160169.81345166132\n",
      "\n",
      "c:\\Users\\manar\\anaconda3\\envs\\PAD\\lib\\site-packages\\sklearn\\linear_model\\_coordinate_descent.py:634: ConvergenceWarning:\n",
      "\n",
      "Objective did not converge. You might want to increase the number of iterations. Duality gap: 157412091.91758823, tolerance: 166745.97337899252\n",
      "\n",
      "c:\\Users\\manar\\anaconda3\\envs\\PAD\\lib\\site-packages\\sklearn\\linear_model\\_coordinate_descent.py:634: ConvergenceWarning:\n",
      "\n",
      "Objective did not converge. You might want to increase the number of iterations. Duality gap: 162826.49661940336, tolerance: 162048.73461629153\n",
      "\n",
      "c:\\Users\\manar\\anaconda3\\envs\\PAD\\lib\\site-packages\\sklearn\\linear_model\\_coordinate_descent.py:634: ConvergenceWarning:\n",
      "\n",
      "Objective did not converge. You might want to increase the number of iterations. Duality gap: 232720.6177997589, tolerance: 156314.05230931475\n",
      "\n",
      "c:\\Users\\manar\\anaconda3\\envs\\PAD\\lib\\site-packages\\sklearn\\linear_model\\_coordinate_descent.py:634: ConvergenceWarning:\n",
      "\n",
      "Objective did not converge. You might want to increase the number of iterations. Duality gap: 12855098.16784954, tolerance: 159794.30381178996\n",
      "\n",
      "c:\\Users\\manar\\anaconda3\\envs\\PAD\\lib\\site-packages\\sklearn\\linear_model\\_coordinate_descent.py:634: UserWarning:\n",
      "\n",
      "Coordinate descent without L1 regularization may lead to unexpected results and is discouraged. Set l1_ratio > 0 to add L1 regularization.\n",
      "\n",
      "c:\\Users\\manar\\anaconda3\\envs\\PAD\\lib\\site-packages\\sklearn\\linear_model\\_coordinate_descent.py:634: ConvergenceWarning:\n",
      "\n",
      "Objective did not converge. You might want to increase the number of iterations. Duality gap: 22859768.79448235, tolerance: 160169.81345166132\n",
      "\n",
      "c:\\Users\\manar\\anaconda3\\envs\\PAD\\lib\\site-packages\\sklearn\\linear_model\\_coordinate_descent.py:634: ConvergenceWarning:\n",
      "\n",
      "Objective did not converge. You might want to increase the number of iterations. Duality gap: 164318.7817761302, tolerance: 162048.73461629153\n",
      "\n",
      "c:\\Users\\manar\\anaconda3\\envs\\PAD\\lib\\site-packages\\sklearn\\linear_model\\_coordinate_descent.py:634: ConvergenceWarning:\n",
      "\n",
      "Objective did not converge. You might want to increase the number of iterations. Duality gap: 203160.1560753584, tolerance: 156314.05230931475\n",
      "\n",
      "c:\\Users\\manar\\anaconda3\\envs\\PAD\\lib\\site-packages\\sklearn\\linear_model\\_coordinate_descent.py:634: ConvergenceWarning:\n",
      "\n",
      "Objective did not converge. You might want to increase the number of iterations. Duality gap: 153679419.99933648, tolerance: 159794.30381178996\n",
      "\n",
      "c:\\Users\\manar\\anaconda3\\envs\\PAD\\lib\\site-packages\\sklearn\\linear_model\\_coordinate_descent.py:634: ConvergenceWarning:\n",
      "\n",
      "Objective did not converge. You might want to increase the number of iterations. Duality gap: 70336068.80517891, tolerance: 160169.81345166132\n",
      "\n",
      "c:\\Users\\manar\\anaconda3\\envs\\PAD\\lib\\site-packages\\sklearn\\linear_model\\_coordinate_descent.py:634: UserWarning:\n",
      "\n",
      "Coordinate descent without L1 regularization may lead to unexpected results and is discouraged. Set l1_ratio > 0 to add L1 regularization.\n",
      "\n",
      "c:\\Users\\manar\\anaconda3\\envs\\PAD\\lib\\site-packages\\sklearn\\linear_model\\_coordinate_descent.py:634: ConvergenceWarning:\n",
      "\n",
      "Objective did not converge. You might want to increase the number of iterations. Duality gap: 184810.7764622569, tolerance: 156314.05230931475\n",
      "\n",
      "c:\\Users\\manar\\anaconda3\\envs\\PAD\\lib\\site-packages\\sklearn\\linear_model\\_coordinate_descent.py:634: ConvergenceWarning:\n",
      "\n",
      "Objective did not converge. You might want to increase the number of iterations. Duality gap: 169331.8209284544, tolerance: 158354.25550449683\n",
      "\n",
      "c:\\Users\\manar\\anaconda3\\envs\\PAD\\lib\\site-packages\\sklearn\\linear_model\\_coordinate_descent.py:634: ConvergenceWarning:\n",
      "\n",
      "Objective did not converge. You might want to increase the number of iterations. Duality gap: 151774947.50543356, tolerance: 160169.81345166132\n",
      "\n",
      "c:\\Users\\manar\\anaconda3\\envs\\PAD\\lib\\site-packages\\sklearn\\linear_model\\_coordinate_descent.py:634: ConvergenceWarning:\n",
      "\n",
      "Objective did not converge. You might want to increase the number of iterations. Duality gap: 221885.36234152317, tolerance: 162048.73461629153\n",
      "\n",
      "c:\\Users\\manar\\anaconda3\\envs\\PAD\\lib\\site-packages\\sklearn\\linear_model\\_coordinate_descent.py:634: ConvergenceWarning:\n",
      "\n",
      "Objective did not converge. You might want to increase the number of iterations. Duality gap: 239759.14483833313, tolerance: 156314.05230931475\n",
      "\n",
      "c:\\Users\\manar\\anaconda3\\envs\\PAD\\lib\\site-packages\\sklearn\\linear_model\\_coordinate_descent.py:634: ConvergenceWarning:\n",
      "\n",
      "Objective did not converge. You might want to increase the number of iterations. Duality gap: 529048.3937565088, tolerance: 158354.25550449683\n",
      "\n",
      "c:\\Users\\manar\\anaconda3\\envs\\PAD\\lib\\site-packages\\sklearn\\linear_model\\_coordinate_descent.py:634: ConvergenceWarning:\n",
      "\n",
      "Objective did not converge. You might want to increase the number of iterations. Duality gap: 6502612.835136086, tolerance: 162048.73461629153\n",
      "\n",
      "c:\\Users\\manar\\anaconda3\\envs\\PAD\\lib\\site-packages\\sklearn\\linear_model\\_coordinate_descent.py:634: ConvergenceWarning:\n",
      "\n",
      "Objective did not converge. You might want to increase the number of iterations. Duality gap: 816850.7554391623, tolerance: 158354.25550449683\n",
      "\n",
      "c:\\Users\\manar\\anaconda3\\envs\\PAD\\lib\\site-packages\\sklearn\\linear_model\\_coordinate_descent.py:634: ConvergenceWarning:\n",
      "\n",
      "Objective did not converge. You might want to increase the number of iterations. Duality gap: 278176.3561962843, tolerance: 156314.05230931475\n",
      "\n",
      "c:\\Users\\manar\\anaconda3\\envs\\PAD\\lib\\site-packages\\sklearn\\linear_model\\_coordinate_descent.py:634: ConvergenceWarning:\n",
      "\n",
      "Objective did not converge. You might want to increase the number of iterations. Duality gap: 18079629.608074278, tolerance: 162048.73461629153\n",
      "\n",
      "c:\\Users\\manar\\anaconda3\\envs\\PAD\\lib\\site-packages\\sklearn\\linear_model\\_coordinate_descent.py:634: ConvergenceWarning:\n",
      "\n",
      "Objective did not converge. You might want to increase the number of iterations. Duality gap: 1022015.3455229998, tolerance: 158354.25550449683\n",
      "\n",
      "c:\\Users\\manar\\anaconda3\\envs\\PAD\\lib\\site-packages\\sklearn\\linear_model\\_coordinate_descent.py:634: ConvergenceWarning:\n",
      "\n",
      "Objective did not converge. You might want to increase the number of iterations. Duality gap: 903474.8337640166, tolerance: 156314.05230931475\n",
      "\n",
      "c:\\Users\\manar\\anaconda3\\envs\\PAD\\lib\\site-packages\\sklearn\\linear_model\\_coordinate_descent.py:634: ConvergenceWarning:\n",
      "\n",
      "Objective did not converge. You might want to increase the number of iterations. Duality gap: 717393.5970696211, tolerance: 158354.25550449683\n",
      "\n",
      "c:\\Users\\manar\\anaconda3\\envs\\PAD\\lib\\site-packages\\sklearn\\linear_model\\_coordinate_descent.py:634: ConvergenceWarning:\n",
      "\n",
      "Objective did not converge. You might want to increase the number of iterations. Duality gap: 34081600.99204016, tolerance: 162048.73461629153\n",
      "\n",
      "c:\\Users\\manar\\anaconda3\\envs\\PAD\\lib\\site-packages\\sklearn\\linear_model\\_coordinate_descent.py:634: ConvergenceWarning:\n",
      "\n",
      "Objective did not converge. You might want to increase the number of iterations. Duality gap: 1155016.1001951098, tolerance: 156314.05230931475\n",
      "\n",
      "c:\\Users\\manar\\anaconda3\\envs\\PAD\\lib\\site-packages\\sklearn\\linear_model\\_coordinate_descent.py:634: ConvergenceWarning:\n",
      "\n",
      "Objective did not converge. You might want to increase the number of iterations. Duality gap: 616474.465031147, tolerance: 158354.25550449683\n",
      "\n",
      "c:\\Users\\manar\\anaconda3\\envs\\PAD\\lib\\site-packages\\sklearn\\linear_model\\_coordinate_descent.py:634: ConvergenceWarning:\n",
      "\n",
      "Objective did not converge. You might want to increase the number of iterations. Duality gap: 64195405.43009135, tolerance: 162048.73461629153\n",
      "\n",
      "c:\\Users\\manar\\anaconda3\\envs\\PAD\\lib\\site-packages\\sklearn\\linear_model\\_coordinate_descent.py:634: UserWarning:\n",
      "\n",
      "Coordinate descent without L1 regularization may lead to unexpected results and is discouraged. Set l1_ratio > 0 to add L1 regularization.\n",
      "\n",
      "c:\\Users\\manar\\anaconda3\\envs\\PAD\\lib\\site-packages\\sklearn\\linear_model\\_coordinate_descent.py:634: ConvergenceWarning:\n",
      "\n",
      "Objective did not converge. You might want to increase the number of iterations. Duality gap: 284175.0029986501, tolerance: 164387.4146732334\n",
      "\n",
      "c:\\Users\\manar\\anaconda3\\envs\\PAD\\lib\\site-packages\\sklearn\\linear_model\\_coordinate_descent.py:634: ConvergenceWarning:\n",
      "\n",
      "Objective did not converge. You might want to increase the number of iterations. Duality gap: 765252.841812849, tolerance: 158354.25550449683\n",
      "\n",
      "c:\\Users\\manar\\anaconda3\\envs\\PAD\\lib\\site-packages\\sklearn\\linear_model\\_coordinate_descent.py:634: ConvergenceWarning:\n",
      "\n",
      "Objective did not converge. You might want to increase the number of iterations. Duality gap: 5769183.458052635, tolerance: 156314.05230931475\n",
      "\n",
      "c:\\Users\\manar\\anaconda3\\envs\\PAD\\lib\\site-packages\\sklearn\\linear_model\\_coordinate_descent.py:634: UserWarning:\n",
      "\n",
      "Coordinate descent without L1 regularization may lead to unexpected results and is discouraged. Set l1_ratio > 0 to add L1 regularization.\n",
      "\n",
      "c:\\Users\\manar\\anaconda3\\envs\\PAD\\lib\\site-packages\\sklearn\\linear_model\\_coordinate_descent.py:634: ConvergenceWarning:\n",
      "\n",
      "Objective did not converge. You might want to increase the number of iterations. Duality gap: 1689852.6213285923, tolerance: 164387.4146732334\n",
      "\n",
      "c:\\Users\\manar\\anaconda3\\envs\\PAD\\lib\\site-packages\\sklearn\\linear_model\\_coordinate_descent.py:634: UserWarning:\n",
      "\n",
      "Coordinate descent without L1 regularization may lead to unexpected results and is discouraged. Set l1_ratio > 0 to add L1 regularization.\n",
      "\n",
      "c:\\Users\\manar\\anaconda3\\envs\\PAD\\lib\\site-packages\\sklearn\\linear_model\\_coordinate_descent.py:634: ConvergenceWarning:\n",
      "\n",
      "Objective did not converge. You might want to increase the number of iterations. Duality gap: 151684415.28762174, tolerance: 162048.73461629153\n",
      "\n",
      "c:\\Users\\manar\\anaconda3\\envs\\PAD\\lib\\site-packages\\sklearn\\linear_model\\_coordinate_descent.py:634: ConvergenceWarning:\n",
      "\n",
      "Objective did not converge. You might want to increase the number of iterations. Duality gap: 1390926.190558076, tolerance: 158354.25550449683\n",
      "\n",
      "c:\\Users\\manar\\anaconda3\\envs\\PAD\\lib\\site-packages\\sklearn\\linear_model\\_coordinate_descent.py:634: ConvergenceWarning:\n",
      "\n",
      "Objective did not converge. You might want to increase the number of iterations. Duality gap: 153012741.68546295, tolerance: 164387.4146732334\n",
      "\n",
      "c:\\Users\\manar\\anaconda3\\envs\\PAD\\lib\\site-packages\\sklearn\\linear_model\\_coordinate_descent.py:634: ConvergenceWarning:\n",
      "\n",
      "Objective did not converge. You might want to increase the number of iterations. Duality gap: 152979285.3076284, tolerance: 156314.05230931475\n",
      "\n",
      "c:\\Users\\manar\\anaconda3\\envs\\PAD\\lib\\site-packages\\sklearn\\linear_model\\_coordinate_descent.py:634: ConvergenceWarning:\n",
      "\n",
      "Objective did not converge. You might want to increase the number of iterations. Duality gap: 875883.4913423061, tolerance: 158354.25550449683\n",
      "\n",
      "c:\\Users\\manar\\anaconda3\\envs\\PAD\\lib\\site-packages\\sklearn\\linear_model\\_coordinate_descent.py:634: ConvergenceWarning:\n",
      "\n",
      "Objective did not converge. You might want to increase the number of iterations. Duality gap: 6110635.6270266175, tolerance: 158354.25550449683\n",
      "\n",
      "c:\\Users\\manar\\anaconda3\\envs\\PAD\\lib\\site-packages\\sklearn\\linear_model\\_coordinate_descent.py:634: ConvergenceWarning:\n",
      "\n",
      "Objective did not converge. You might want to increase the number of iterations. Duality gap: 27439662.872918397, tolerance: 158354.25550449683\n",
      "\n"
     ]
    },
    {
     "name": "stdout",
     "output_type": "stream",
     "text": [
      "alpha: 0.99\n"
     ]
    },
    {
     "name": "stderr",
     "output_type": "stream",
     "text": [
      "c:\\Users\\manar\\anaconda3\\envs\\PAD\\lib\\site-packages\\sklearn\\linear_model\\_coordinate_descent.py:634: ConvergenceWarning:\n",
      "\n",
      "Objective did not converge. You might want to increase the number of iterations. Duality gap: 72528192.44003111, tolerance: 158354.25550449683\n",
      "\n",
      "c:\\Users\\manar\\anaconda3\\envs\\PAD\\lib\\site-packages\\sklearn\\linear_model\\_coordinate_descent.py:634: UserWarning:\n",
      "\n",
      "Coordinate descent without L1 regularization may lead to unexpected results and is discouraged. Set l1_ratio > 0 to add L1 regularization.\n",
      "\n",
      "c:\\Users\\manar\\anaconda3\\envs\\PAD\\lib\\site-packages\\sklearn\\linear_model\\_coordinate_descent.py:634: ConvergenceWarning:\n",
      "\n",
      "Objective did not converge. You might want to increase the number of iterations. Duality gap: 160179430.25221896, tolerance: 158354.25550449683\n",
      "\n"
     ]
    }
   ],
   "source": [
    "from sklearn.linear_model import LassoCV\n",
    "from sklearn.model_selection import RepeatedKFold\n",
    "cv = RepeatedKFold(n_splits=10, n_repeats=3, random_state=1)\n",
    "\n",
    "LCV = LassoCV(alphas=np.arange(0,1, 0.01), cv=cv, n_jobs=-1)\n",
    "\n",
    "LCV.fit(X_train,y_train)\n",
    "\n",
    "alpha_best_fold = LCV.alpha_\n",
    "print(f'alpha: {LCV.alpha_}')"
   ]
  },
  {
   "cell_type": "code",
   "execution_count": 97,
   "metadata": {},
   "outputs": [],
   "source": [
    "from sklearn.linear_model import Lasso\n",
    "\n",
    "LS = Lasso(alpha=alpha_best_fold)\n",
    "\n",
    "LS.fit(X_train,y_train)\n",
    "\n",
    "predictons = LS.predict(X_test)"
   ]
  },
  {
   "cell_type": "code",
   "execution_count": 98,
   "metadata": {},
   "outputs": [
    {
     "name": "stdout",
     "output_type": "stream",
     "text": [
      "r2 score 0.4429925110407942\n",
      "mean square 1100656.0505299424\n"
     ]
    }
   ],
   "source": [
    "print(f'r2 score {r2_score(y_test, predictons)}')\n",
    "print(f'mean square {mean_squared_error(y_test, predictons)}')"
   ]
  },
  {
   "cell_type": "code",
   "execution_count": 99,
   "metadata": {},
   "outputs": [],
   "source": [
    "import operator\n",
    "coef_list = list(zip(LS.feature_names_in_ , LS.coef_))\n",
    "coef_list_sorted = sorted(coef_list, key = operator.itemgetter(1), reverse=False)\n",
    "coef_list_sorted\n",
    "\n",
    "feature_name , feature_value = zip(*coef_list_sorted)"
   ]
  },
  {
   "cell_type": "code",
   "execution_count": 100,
   "metadata": {},
   "outputs": [
    {
     "data": {
      "application/vnd.plotly.v1+json": {
       "config": {
        "plotlyServerURL": "https://plot.ly"
       },
       "data": [
        {
         "alignmentgroup": "True",
         "hovertemplate": "x=%{x}<br>y=%{y}<extra></extra>",
         "legendgroup": "",
         "marker": {
          "color": "#636efa",
          "pattern": {
           "shape": ""
          }
         },
         "name": "",
         "offsetgroup": "",
         "orientation": "h",
         "showlegend": false,
         "textposition": "auto",
         "type": "bar",
         "x": [
          -1105.6323453382918,
          -922.1353368675078,
          -891.3107356107093,
          -753.5706893150672,
          -702.3489571874237,
          -570.3897297592885,
          -532.8617398316818,
          -497.7998736678426,
          -473.3396907571006,
          -456.751404175645,
          -412.70963380437706,
          -407.6370262569582,
          -399.78511293581175,
          -396.71779528364084,
          -367.5733367812642,
          -350.69043784538434,
          -342.52658046083496,
          -337.9263144810797,
          -334.637933026115,
          -317.0048691024601,
          -289.0391783340095,
          -286.95147661750633,
          -275.580429549231,
          -261.12075063420826,
          -249.67233332002291,
          -240.46435799546623,
          -234.42338408583754,
          -233.26260350190404,
          -232.7300315711683,
          -232.4864000130608,
          -231.791298555898,
          -229.46127460677454,
          -221.03614996567495,
          -217.86916285532087,
          -217.80942774822017,
          -215.04517132374605,
          -212.99655369191137,
          -212.73147141617324,
          -207.27709132940663,
          -207.02578301022157,
          -194.51285272788334,
          -188.45941440874532,
          -187.98854802292604,
          -187.70266222418317,
          -178.35688209518548,
          -172.62984374217484,
          -171.76330263590066,
          -161.17016557659377,
          -160.0807410161721,
          -157.3884216070768,
          -157.14452652190715,
          -156.7099636060799,
          -155.94218713748364,
          -154.86467274929632,
          -151.3403481744211,
          -151.33940902362878,
          -148.5857229753467,
          -145.71679285534654,
          -145.41622252955895,
          -144.0138678332873,
          -143.18285115991614,
          -142.9313007046112,
          -137.7569131287006,
          -137.51743992213184,
          -136.51113351695358,
          -134.46345157058929,
          -131.4665051010763,
          -129.0316013671558,
          -127.81702062946849,
          -126.69992599195857,
          -117.63236289263536,
          -114.13190319272461,
          -110.49238326778371,
          -110.41184482140355,
          -110.01599204190302,
          -108.88782067606822,
          -107.32210919817337,
          -107.19020912591306,
          -103.81421203836929,
          -102.14931137618102,
          -99.73978184844323,
          -96.70602532398392,
          -93.26174594117681,
          -93.17927749306277,
          -91.77679010752495,
          -89.53035856980064,
          -86.70958689831748,
          -83.47070400991403,
          -81.69664079399168,
          -80.69597497571209,
          -79.83878485400712,
          -79.06901671063304,
          -78.7703223805086,
          -76.71743404366848,
          -75.71944545546573,
          -72.13070489911705,
          -69.74076278996097,
          -67.07556643834332,
          -65.13999394667945,
          -59.52088803005162,
          -58.830934005333056,
          -57.370405693721516,
          -55.54739547224941,
          -55.21276632284537,
          -54.1961607827957,
          -52.49158398530202,
          -49.525120202074504,
          -44.49224025850741,
          -43.19089900560847,
          -39.88178314382523,
          -37.815201928598675,
          -36.93117459513909,
          -36.454730350553255,
          -34.939523328737714,
          -34.07240476372845,
          -30.195558734298615,
          -29.127172493634237,
          -28.247991051678543,
          -26.720315668693953,
          -24.975819363466425,
          -22.542447432756155,
          -18.75580064623588,
          -16.330516528167472,
          -14.8427530850189,
          -14.682022073513458,
          -14.678717341936883,
          -14.478906548928393,
          -12.582745190630918,
          -12.293224148528394,
          -9.332136824664127,
          -5.826960157618149,
          -5.5190094594305865,
          -5.401905211151233,
          -3.3340181627355063,
          -2.9358161363088833,
          0,
          0,
          0,
          0,
          0,
          0,
          0,
          0,
          0,
          0,
          0,
          0,
          0,
          0,
          0,
          0,
          0,
          0,
          0,
          0,
          0,
          0,
          0,
          0,
          0,
          0,
          0,
          0,
          0,
          0,
          0,
          0,
          0,
          0,
          0,
          0,
          0,
          0,
          0,
          0,
          0,
          0,
          0,
          0,
          0,
          0,
          0,
          0,
          0,
          0,
          0,
          0,
          0,
          0,
          0,
          0,
          0,
          0,
          0,
          0,
          0,
          0,
          0,
          0,
          0,
          0,
          0,
          0,
          0,
          0,
          0,
          0,
          0,
          0,
          0,
          0,
          0,
          0,
          0,
          0,
          0,
          0,
          0,
          0,
          0,
          0,
          0,
          0,
          0,
          0,
          0,
          0,
          0,
          0,
          0,
          0,
          0,
          0,
          0,
          0,
          0,
          0,
          0,
          0,
          0,
          0,
          0,
          0,
          0,
          0,
          0,
          0,
          0,
          0,
          0,
          0,
          0,
          0,
          0,
          0,
          0,
          0,
          0,
          0,
          0,
          0,
          0,
          0,
          0,
          0,
          0,
          0,
          0,
          0,
          0,
          0,
          0,
          0,
          0,
          0,
          0,
          0,
          0,
          0,
          0,
          0,
          0,
          0,
          0,
          0,
          0,
          0,
          0,
          0,
          0,
          0,
          0,
          0,
          0,
          0,
          0,
          0,
          0,
          0,
          0,
          0,
          0,
          0,
          3.630000230130944e-12,
          3.827625102451198,
          4.041020584568211,
          5.742644121623704,
          7.339939291205742,
          7.683557185758581,
          8.359911180332942,
          8.494625300021964,
          9.016799213382217,
          9.36081063918842,
          9.52826065172111,
          15.954563185211082,
          17.529901894035945,
          18.261594996733184,
          21.048849570196413,
          24.65617072442129,
          25.67729262639906,
          27.759404134754803,
          29.681367818216383,
          29.943668404779668,
          30.046033741877846,
          31.24187697305321,
          32.36579138268781,
          40.54008395023257,
          41.88616036356812,
          43.24380601405366,
          44.14820765685857,
          44.8277677913707,
          45.28545669170248,
          46.26718960487026,
          46.901759795984624,
          48.163097041390806,
          50.92112895018605,
          51.71124815762221,
          51.89041350699313,
          52.6263960329325,
          55.51739824035735,
          55.83642957132284,
          56.12500056476463,
          58.08815394526509,
          59.79063153895166,
          63.89491773138448,
          64.18593633690435,
          64.68467804444813,
          75.43854805330707,
          78.31562607566335,
          79.96928551409052,
          80.53007738915738,
          80.62004025073679,
          81.141967814018,
          86.76654029077251,
          88.29113128900104,
          89.87927582496664,
          91.05443967785246,
          93.08428250171747,
          96.00674248757824,
          99.9299926060011,
          100.0222217985846,
          100.19973316522552,
          100.5921780951997,
          102.77971042839751,
          104.31145930112636,
          105.72936032228198,
          105.75098233673147,
          106.14259085112492,
          109.08214128432697,
          113.14637932310704,
          116.78134363089445,
          118.73739940709784,
          122.07429566854017,
          124.64688220363317,
          124.88468948785093,
          125.60792359167174,
          126.86181788584459,
          128.20477568281032,
          128.7262724647538,
          131.92048946928108,
          132.95328006234,
          132.9625977497348,
          135.64149737343686,
          135.67017137072847,
          138.01980500903633,
          138.80952494690112,
          139.05590266951452,
          140.84674310898131,
          140.87886806627193,
          142.44019951957688,
          145.05903334165777,
          147.2114639044017,
          153.12918962140319,
          155.41513831219999,
          156.17805942246633,
          158.70916894479535,
          159.33977030328865,
          161.3913734224343,
          162.17566744099372,
          164.05488219938994,
          164.41891246052046,
          168.09325272561478,
          169.4921676248955,
          169.83653824550177,
          170.22397069040963,
          171.111737802041,
          171.88030279592226,
          172.7881610467673,
          178.3078928402352,
          187.00340522706122,
          189.3549125310396,
          192.34484067394882,
          192.87387370261095,
          197.41139369690558,
          201.9561838429336,
          207.21218554447103,
          208.89586597618313,
          214.8913526331166,
          215.87310846278277,
          217.1559743597345,
          223.56600800914478,
          224.6194026921404,
          226.10275568281972,
          226.81857537413643,
          233.9605743010263,
          241.9457016843131,
          245.20048816764125,
          246.2196584139713,
          252.9790873172708,
          257.45178137676453,
          264.46015874239174,
          264.9304851855875,
          267.15094070159495,
          272.3201982753765,
          275.9646666254601,
          276.0647510816614,
          283.4730556715061,
          291.45346006390815,
          299.1779106329391,
          306.34516887519385,
          312.63714157475033,
          317.451784480036,
          319.2581965806953,
          321.3068306356879,
          323.9388363729568,
          327.26821538875765,
          339.3786646985675,
          341.69944765837556,
          342.0661008830936,
          342.39860408407185,
          346.37458368333427,
          358.39558540794025,
          361.858393680387,
          362.91867880945347,
          370.9214976723794,
          379.84351941389474,
          395.80843064257857,
          399.86763169908346,
          420.1267355158105,
          432.2254576177626,
          433.1845874831528,
          441.76574952551414,
          450.16782410097363,
          468.4352840748161,
          499.0572647683644,
          503.642090397168,
          525.5585024538544,
          535.0637737742156,
          547.1630812376412,
          559.8562110571753,
          575.6222086010841,
          603.4877176445236,
          608.782727819995,
          611.8936400518645,
          632.1671258872626,
          706.2734964331951,
          729.8804107082815,
          745.872191541477,
          763.4352903415693,
          788.4032544819368,
          1140.6836083875776,
          1299.2098002301302
         ],
         "xaxis": "x",
         "y": [
          "2 basenów:Wstęp dla osób w każdym wieku",
          "Centrum wellness:centrum fitness\nDodatkowa opłata",
          "Zaplecze odnowy biologicznej:masaż głowy\nDodatkowa opłata",
          "Rekreacja:kort tenisowy\nDodatkowa opłata",
          "Rekreacja:aerobik\nPoza obiektem\nDodatkowa opłata",
          "Usługi recepcji:usługi konsjerża",
          "Rekreacja:windsurfing\nDodatkowa opłata",
          "Zaplecze odnowy biologicznej:wanna z hydromasażem / jacuzzi",
          "Ogólne:wypożyczalnia samochodów",
          "Usługi recepcji:zamykane szafki",
          "Cechy budynku:prywatne mieszkanie w budynku",
          "Usługi sprzątania:codzienne sprzątanie\nDodatkowa opłata",
          "Udogodnienia w pokoju:pokoje łączone",
          "Rekreacja:pole golfowe (w promieniu 3 km)\nDodatkowa opłata",
          "Łazienka:wspólna toaleta",
          "Kryty basen:ręczniki kąpielowe/plażowe",
          "Rekreacja:kajakarstwo",
          "Posiłki i napoje:dostawa artykułów spożywczych\nDodatkowa opłata",
          "Kryty basen:mały basen",
          "Zaplecze biznesowe:centrum biznesowe\nDodatkowa opłata",
          "Rekreacja:park wodny",
          "Posiłki i napoje:śniadanie w pokoju",
          "Rekreacja:sprzęt do tenisa",
          "Transport:transfer lotniskowy (dodatkowa opłata)",
          "Języki:polski",
          "Rekreacja:muzyka na żywo\nPoza obiektem",
          "Centrum wellness:fitness",
          "Odkryty basen:płotek wokół basenu",
          "Rekreacja:wycieczka lub spacer po miejscowych zabytkach\nDodatkowa opłata",
          "Rekreacja:wycieczki rowerowe",
          "Zaplecze odnowy biologicznej:sauna\nDodatkowa opłata",
          "Usługi:miski dla pupila",
          "Rekreacja:kort tenisowy\nPoza obiektem",
          "Media/Technologia:telefon",
          "Udogodnienia dla niepełnosprawnych:toaleta z uchwytami",
          "Udogodnienia w pokoju:wykładzina podłogowa",
          "Stosunek jakości do ceny",
          "Centrum wellness:szatnia / przebieralnia",
          "Usługi recepcji:indywidualne zameldowanie / wymeldowanie",
          "Rekreacja:jazda na rowerze\nPoza obiektem",
          "Rekreacja:muzyka na żywo",
          "Ogólne:sklep na miejscu",
          "Kuchnia:czajnik elektryczny",
          "Sypialnia:budzik",
          "Rekreacja:nurkowanie\nPoza obiektem\nDodatkowa opłata",
          "Centrum wellness:spa i centrum odnowy biologicznej\nDodatkowa opłata",
          "Rekreacja:sauna\nDodatkowa opłata",
          "Rekreacja:bezpłatne rowery",
          "Usługi dla rodzin i oferta rozrywkowa:opieka nad dziećmi\nDodatkowa opłata",
          "Różne:udogodnienia dla niepełnosprawnych",
          "Posiłki i napoje:obiady na wynos",
          "Łazienka:papier toaletowy",
          "Usługi dla rodzin i oferta rozrywkowa:klub dla dzieci",
          "Media/Technologia:odtwarzacz wideo",
          "Czystość",
          "Rekreacja:piesze wycieczki\nPoza obiektem",
          "Centrum wellness:ręczniki kąpielowe/plażowe",
          "Bezpieczeństwo:monitoring w pomieszczeniach ogólnodostępnych",
          "Kryty basen:Otwarty przez cały rok",
          "Sypialnia:pościel",
          "Centrum wellness:układanie włosów",
          "Udogodnienia w pokoju:gniazdko koło łóżka",
          "Udogodnienia w pokoju:sprzęt do prasowania",
          "Ogólne:udogodnienia dla niepełnosprawnych",
          "Rekreacja:wieczór filmowy\nPoza obiektem\nDodatkowa opłata",
          "Transport:transfer na lotnisko\nDodatkowa opłata",
          "Łazienka:toaleta",
          "Ogólne:pokoje dźwiękoszczelne",
          "Posiłki i napoje:kawiarnia na miejscu",
          "Usługi dla rodzin i oferta rozrywkowa:gry planszowe / puzzle",
          "Sypialnia:szafa lub garderoba",
          "Okolica i widok:widok",
          "Centrum wellness:masaż głowy\nDodatkowa opłata",
          "Rekreacja:jazda konna\nPoza obiektem",
          "Usługi dla rodzin i oferta rozrywkowa:plac zabaw",
          "Sklepy:fryzjer / salon piękności",
          "Rekreacja:muzyka na żywo\nPoza obiektem\nDodatkowa opłata",
          "Udogodnienia w pokoju:żelazko",
          "Usługi sprzątania:pralnia",
          "Usługi:przechowalnia bagażu",
          "Rekreacja:jazda na rowerze",
          "Udogodnienia dla niepełnosprawnych:dojście na wyższe piętra tylko schodami",
          "Rekreacja:minigolf\nDodatkowa opłata",
          "Zaplecze odnowy biologicznej:spa i centrum odnowy biologicznej\nDodatkowa opłata",
          "Kuchnia:kuchenka mikrofalowa",
          "Kuchnia:wspólna kuchnia",
          "Okolica:miejsce na piknik",
          "Udogodnienia w pokoju:wieszak na ubrania",
          "Języki:rosyjski",
          "Usługi sprzątania:pralnia\nDodatkowa opłata",
          "Udogodnienia w pokoju:drewniana podłoga lub parkiet",
          "Transport:transfer z lotniska\nDodatkowa opłata",
          "Rekreacja:kajakarstwo\nPoza obiektem",
          "Kuchnia:środki czystości",
          "Okolica:meble ogrodowe",
          "Media/Technologia:odtwarzacz CD",
          "Sklepy:sklep na miejscu",
          "Ogólne:żelazko",
          "Rekreacja:plac zabaw dla dzieci",
          "Różne:dostęp dla wózków inwalidzkich",
          "Rekreacja:sprzęt do badmintona",
          "Okolica:balkon",
          "Cechy budynku:wolnostojący",
          "Usługi:całodobowa recepcja",
          "Ogólne:drewniana podłoga lub parkiet",
          "Okolica:sprzęt do grillowania",
          "Media/Technologia:kanały satelitarne",
          "Sypialnia:garderoba",
          "Centrum wellness:kąpiel stóp",
          "Centrum wellness:łaźnia turecka / parowa\nDodatkowa opłata",
          "Bezpieczeństwo:czujnik dymu",
          "Różne:pokoje dla alergików",
          "Usługi:indywidualne zameldowanie / wymeldowanie",
          "Kuchnia:pralka",
          "Okolica:prywatna plaża",
          "Posiłki i napoje:minibar",
          "Parking:parking przy ulicy",
          "Rekreacja:piesze wycieczki\nDodatkowa opłata",
          "Usługi dla rodzin i oferta rozrywkowa:wózki dziecięce",
          "Okolica:stół na świeżym powietrzu",
          "Okolica:ogród",
          "Media/Technologia:telewizor",
          "Udogodnienia dla niepełnosprawnych:całość dostępna dla wózków inwalidzkich",
          "Usługi dla rodzin i oferta rozrywkowa:książki, DVD lub muzyka dla dzieci",
          "Ogólne:podłoga wyłożona kafelkami lub marmurem",
          "Różne:pokoje dla niepalących",
          "Odkryty basen:Wstęp dla osób w każdym wieku",
          "Rekreacja:park wodny\nPoza obiektem\nDodatkowa opłata",
          "Usługi:codzienne sprzątanie\nDodatkowa opłata",
          "Sypialnia:długie łóżka (> 2 metry)",
          "Bezpieczeństwo:monitoring wokół obiektu",
          "Usługi recepcji:Możliwe wystawienie faktury",
          "Usługi recepcji:ekspresowe zameldowanie / wymeldowanie",
          "Bezpieczeństwo:sejf",
          "Łazienka:wanna",
          "Kuchnia:przybory kuchenne",
          "Kuchnia:lodówka",
          "Łazienka:bezpłatny zestaw kosmetyków",
          "Parking:parking dla osób niepełnosprawnych",
          "Bezpieczeństwo:gaśnice",
          "Różne:klimatyzacja",
          "Ogólne:całkowity zakaz palenia",
          "Ogólne:wentylator",
          "Rekreacja:piesze wycieczki",
          "Udogodnienia w pokoju:przyjazny alergikom",
          "Salon:biurko",
          "Okolica:patio",
          "Rekreacja:puby\nDodatkowa opłata",
          "Posiłki i napoje:owoce\nDodatkowa opłata",
          "Usługi recepcji:wymiana walut",
          "Usługi dla rodzin i oferta rozrywkowa:sala zabaw",
          "Usługi sprzątania:codzienne sprzątanie",
          "Usługi sprzątania:pralnia chemiczna\nDodatkowa opłata",
          "Zaplecze biznesowe:faks / ksero\nDodatkowa opłata",
          "Zaplecze biznesowe:zaplecze bankietowe / konferencyjne\nDodatkowa opłata",
          "Ogólne:miski dla pupila",
          "Ogólne:tylko dla dorosłych",
          "Ogólne:dźwiękoszczelność",
          "Ogólne:obiady na wynos",
          "Ogólne:sprzęt do prasowania",
          "Ogólne:obsługa pokoju",
          "Udogodnienia dla niepełnosprawnych:niska umywalka",
          "Udogodnienia dla niepełnosprawnych:wysoka toaleta",
          "Zaplecze odnowy biologicznej:salon spa / strefa relaksacyjna",
          "Zaplecze odnowy biologicznej:udogodnienia spa",
          "Zaplecze odnowy biologicznej:peeling ciała",
          "Zaplecze odnowy biologicznej:zabiegi na ciało",
          "Zaplecze odnowy biologicznej:zabiegi na twarz",
          "Zaplecze odnowy biologicznej:zabiegi upiększające",
          "Zaplecze odnowy biologicznej:wanna z hydromasażem / jacuzzi\nDodatkowa opłata",
          "Rekreacja:wycieczka lub spacer po miejscowych zabytkach",
          "Łazienka:ręczniki / pościel (dostępne za dodatkową opłatą)",
          "Rekreacja:puby",
          "Rekreacja:galerie sztuki\nPoza obiektem\nDodatkowa opłata",
          "Bezpieczeństwo:czujnik tlenku węgla",
          "Kryty basen:Godziny pracy",
          "Kryty basen:Wstęp dla osób w każdym wieku",
          "Kryty basen:basen z podgrzewaną wodą",
          "Centrum wellness:salon spa / strefa relaksacyjna",
          "Centrum wellness:łaźnia parowa",
          "Centrum wellness:leżaki lub krzesełka plażowe",
          "Centrum wellness:wanna z hydromasażem / jacuzzi",
          "Media/Technologia:radio",
          "Cechy budynku:bliźniak",
          "Rekreacja:wydarzenia sportowe na żywo (relacja na żywo)",
          "Zaplecze odnowy biologicznej:masaż całego ciała\nDodatkowa opłata",
          "Zaplecze odnowy biologicznej:masaż dłoni\nDodatkowa opłata",
          "Zaplecze odnowy biologicznej:masaż stóp\nDodatkowa opłata",
          "Zaplecze odnowy biologicznej:masaż szyi\nDodatkowa opłata",
          "Zaplecze odnowy biologicznej:masaż pleców\nDodatkowa opłata",
          "Rekreacja:galerie sztuki\nPoza obiektem",
          "Posiłki i napoje:owoce",
          "Ogólne:prywatne wejście",
          "Usługi dodatkowe:budzenie na życzenie",
          "Zaplecze biznesowe:faks / ksero",
          "Zaplecze odnowy biologicznej:sauna",
          "Transport:wypożyczalnia samochodów",
          "Rekreacja:squash\nPoza obiektem\nDodatkowa opłata",
          "Rekreacja:kajakarstwo\nPoza obiektem\nDodatkowa opłata",
          "Rekreacja:kort tenisowy\nPoza obiektem\nDodatkowa opłata",
          "Różne:miski dla pupila",
          "Rekreacja:bilard\nDodatkowa opłata",
          "Kryty basen:leżaki lub krzesełka plażowe",
          "Języki:ukraiński",
          "Okolica i widok:widok na punkt orientacyjny",
          "Rekreacja:stand-up\nPoza obiektem\nDodatkowa opłata",
          "Rekreacja:nurkowanie\nPoza obiektem",
          "Usługi:faks / ksero\nDodatkowa opłata",
          "Usługi:ekspresowe zameldowanie / wymeldowanie",
          "Usługi:pralnia\nDodatkowa opłata",
          "Widok:widok na punkt orientacyjny",
          "Usługi:dostęp do Internetu przez Wi-Fi",
          "Posiłki i napoje:bar przekąskowy",
          "Ogólne:sejf",
          "Centrum wellness:trener personalny",
          "Centrum wellness:zajęcia fitness",
          "Centrum wellness:pakiet spa / wellness",
          "Centrum wellness:udogodnienia spa",
          "Centrum wellness:terapia światłem",
          "Centrum wellness:peeling ciała",
          "Centrum wellness:zabiegi na ciało",
          "Centrum wellness:pedicure",
          "Centrum wellness:manicure",
          "Centrum wellness:makijaż",
          "Centrum wellness:zabiegi na twarz",
          "Centrum wellness:zabiegi upiększające",
          "Ogólne:część przeznaczona dla palących",
          "Usługi:obiady na wynos",
          "Różne:część przeznaczona dla palących",
          "Języki:hiszpański",
          "Łazienka:dodatkowa łazienka",
          "Basen i odnowa biologiczna:ręczniki kąpielowe/plażowe",
          "Rekreacja:windsurfing\nPoza obiektem",
          "Ogólne:czujnik tlenku węgla",
          "Usługi:wspólny salon / sala TV",
          "Łazienka:bidet",
          "Salon:kominek",
          "Języki:włoski",
          "Rekreacja:kort tenisowy",
          "Rekreacja:wędkowanie",
          "Bezpieczeństwo:sejf\nDodatkowa opłata",
          "Centrum wellness:masaż całego ciała\nDodatkowa opłata",
          "Centrum wellness:sauna\nDodatkowa opłata",
          "Rekreacja:pokój gier",
          "Usługi:fryzjer / salon piękności",
          "Rekreacja:zaplecze do sportów wodnych na miejscu\nDodatkowa opłata",
          "Rekreacja:wieczór filmowy",
          "Rekreacja:bilard",
          "Usługi recepcji:bankomat na terenie obiektu",
          "Centrum wellness:koloryzacja włosów",
          "Centrum wellness:strzyżenie",
          "Centrum wellness:zabiegi na włosy",
          "Usługi:obsługa pokoju",
          "Centrum wellness:masaż dłoni\nDodatkowa opłata",
          "Centrum wellness:masaż stóp\nDodatkowa opłata",
          "Centrum wellness:masaż pleców\nDodatkowa opłata",
          "Transport:wypożyczalnia rowerów (dodatkowa opłata)",
          "Rekreacja:piesze wycieczki\nPoza obiektem\nDodatkowa opłata",
          "Usługi:zaplecze bankietowe / konferencyjne\nDodatkowa opłata",
          "Rekreacja:masaż całego ciała\nDodatkowa opłata",
          "Rekreacja:masaż dłoni\nDodatkowa opłata",
          "Rekreacja:masaż głowy\nDodatkowa opłata",
          "Rekreacja:masaż szyi\nDodatkowa opłata",
          "Rekreacja:masaż pleców\nDodatkowa opłata",
          "Rekreacja:pakiet spa / wellness",
          "Rekreacja:salon spa / strefa relaksacyjna",
          "Rekreacja:łaźnia parowa",
          "Rekreacja:udogodnienia spa",
          "Rekreacja:zabiegi upiększające",
          "Rekreacja:łaźnia turecka / parowa",
          "2 basenów:Otwarty przez cały rok",
          "2 basenów:płotek wokół basenu",
          "2 basenów:basen z podgrzewaną wodą",
          "2 basenów:basen z widokiem",
          "Rekreacja:zespół animatorów",
          "Usługi:biuro informacji turystycznej",
          "Usługi:transfer (dodatkowa opłata)",
          "Centrum wellness:fotel do masażu",
          "Usługi recepcji:ekspresowe zameldowanie / wymeldowanie\nDodatkowa opłata",
          "Rekreacja:wydarzenia sportowe na żywo (relacja na żywo)\nPoza obiektem\nDodatkowa opłata",
          "Rekreacja:happy hour",
          "Ogólne:moskitiera",
          "2 basenów:Godziny pracy",
          "Centrum wellness:parasole przeciwsłoneczne",
          "Różne:wysoka toaleta",
          "Centrum wellness:wanna z hydromasażem / jacuzzi\nDodatkowa opłata",
          "Rekreacja:wanna z hydromasażem / jacuzzi\nDodatkowa opłata",
          "Kryty basen:zabawki do wody",
          "Usługi dla rodzin i oferta rozrywkowa:wieczorne rozrywki",
          "Udogodnienia w pokoju:wanna z hydromasażem",
          "Udogodnienia w pokoju:klimatyzacja",
          "Rekreacja:łucznictwo\nPoza obiektem\nDodatkowa opłata",
          "Rekreacja:wypożyczalnia rowerów (dodatkowa opłata)",
          "Odkryty basen:Sezonowy",
          "2 basenów:parasole przeciwsłoneczne",
          "Usługi dla rodzin i oferta rozrywkowa:zespół animatorów",
          "Usługi dla rodzin i oferta rozrywkowa:wieczorne rozrywki\nDodatkowa opłata",
          "Usługi dla rodzin i oferta rozrywkowa:klub nocny / DJ\nDodatkowa opłata",
          "Rekreacja:sprzęt do tenisa\nDodatkowa opłata",
          "Zaplecze odnowy biologicznej:ręczniki kąpielowe/plażowe",
          "Okolica i widok:widok na basen",
          "Różne:niska umywalka",
          "Usługi:wózki dziecięce",
          "Zaplecze odnowy biologicznej:manicure",
          "Odkryty basen:brodzik",
          "Różne:winda",
          "Rekreacja:wędkowanie\nPoza obiektem\nDodatkowa opłata",
          "Okolica:miejsce na ognisko",
          "Personel",
          "Media/Technologia:telewizor z płaskim ekranem",
          "Łazienka:wanna lub prysznic",
          "Kuchnia:stół",
          "Bezpłatne WiFi",
          "Kuchnia:aneks kuchenny",
          "Rekreacja:windsurfing\nPoza obiektem\nDodatkowa opłata",
          "Posiłki i napoje:posiłki dla dzieci",
          "Posiłki i napoje:posiłki dla dzieci\nDodatkowa opłata",
          "Usługi dla rodzin i oferta rozrywkowa:zatyczki zabezpieczające do gniazdek elektrycznych",
          "Łazienka:prywatna łazienka",
          "Posiłki i napoje:bufet z potrawami dla dzieci",
          "Okolica i widok:widok na ogród",
          "Języki:niemiecki",
          "Rekreacja:plaża",
          "Ogólne:pokoje dla niepalących",
          "Rekreacja:kręgielnia\nPoza obiektem",
          "Języki:angielski",
          "Ogólne:transfer lotniskowy (dodatkowa opłata)",
          "Udogodnienia w pokoju:suszarka na ubrania",
          "Parking:parking strzeżony",
          "Kuchnia:piekarnik",
          "Rekreacja:wanna z hydromasażem / jacuzzi",
          "Media/Technologia:kanały kablowe",
          "Usługi:faks / ksero",
          "Posiłki i napoje:wino / szampan\nDodatkowa opłata",
          "Widok:widok na ogród",
          "Posiłki i napoje:zestaw do parzenia kawy i herbaty",
          "Udogodnienia dla niepełnosprawnych:całość zlokalizowana na parterze",
          "Rekreacja:lokalizacja przy samej plaży",
          "Parking:parking w garażu",
          "Okolica:taras",
          "Komfort",
          "Usługi dla rodzin i oferta rozrywkowa:plac zabaw dla dzieci",
          "Pomieszczenia ogólnodostępne:pokój gier",
          "Udogodnienia w pokoju:podłoga wyłożona kafelkami lub marmurem",
          "Ogólne:budzenie na życzenie / budzik",
          "Ogólne:pokoje rodzinne",
          "Udogodnienia w pokoju:łóżko polowe",
          "Salon:sofa",
          "Usługi:wymiana walut",
          "Rekreacja:nurkowanie z rurką\nPoza obiektem",
          "Okolica:grill",
          "Okolica:taras słoneczny",
          "Kryty basen:zadaszony basen",
          "Salon:część jadalna",
          "Rekreacja:jazda konna\nDodatkowa opłata",
          "Odkryty basen:basen z podgrzewaną wodą",
          "Rekreacja:park wodny\nPoza obiektem",
          "Okolica i widok:widok na wewnętrzny dziedziniec",
          "Udogodnienia dla niepełnosprawnych:dojazd windą na wyższe piętra",
          "Posiłki i napoje:restauracja",
          "Ogólne:przyjazny alergikom",
          "Ogólne:budzenie na życzenie",
          "Bezpieczeństwo:dostęp za pomocą karty",
          "Różne:pokoje rodzinne",
          "Kryty basen:brodzik",
          "Salon:część wypoczynkowa",
          "Bezpieczeństwo:dostęp za pomocą kluczy",
          "Rekreacja:szatnia / przebieralnia",
          "Ogólne:wspólny salon / sala TV",
          "Posiłki i napoje:bar",
          "Udogodnienia w pokoju:rozkładana sofa",
          "Usługi:budzenie na życzenie",
          "Posiłki i napoje:obsługa pokoju",
          "2 basenów:brodzik",
          "Zaplecze odnowy biologicznej:leżaki lub krzesełka plażowe",
          "Zaplecze odnowy biologicznej:parasole przeciwsłoneczne",
          "Języki:francuski",
          "Usługi recepcji:przechowalnia bagażu",
          "Lokalizacja",
          "Udogodnienia w pokoju:prywatne wejście",
          "Widok:widok",
          "Centrum wellness:centrum fitness",
          "Usługi recepcji:całodobowa recepcja",
          "Ogólne:klimatyzacja",
          "Łazienka:suszarka do włosów",
          "Rekreacja:wędkowanie\nPoza obiektem",
          "Rekreacja:zabiegi na ciało",
          "Usługi:zamykane szafki",
          "Łazienka:wspólna łazienka",
          "Centrum wellness:masaż",
          "Posiłki i napoje:specjalne potrawy dietetyczne (na życzenie)",
          "Łazienka:prysznic",
          "Rekreacja:wędkowanie\nDodatkowa opłata",
          "Rekreacja:spa i centrum odnowy biologicznej\nDodatkowa opłata",
          "Kuchnia:toster",
          "Rekreacja:tenis stołowy",
          "Usługi dla rodzin i oferta rozrywkowa:klub dla dzieci\nDodatkowa opłata",
          "Centrum wellness:sauna",
          "Okolica:prywatny basen",
          "Łazienka:ręczniki",
          "Posiłki i napoje:wino / szampan",
          "Ogólne:pokoje dla alergików",
          "Bezpieczeństwo:całodobowa ochrona",
          "Rekreacja:rzutki",
          "Udogodnienia w pokoju:moskitiera",
          "Ogólne:wykładzina podłogowa",
          "Centrum wellness:depilacja woskiem",
          "Rekreacja:masaż stóp\nDodatkowa opłata",
          "Parking:stacja ładowania pojazdów elektrycznych",
          "Kuchnia:kuchnia",
          "Rekreacja:kręgielnia\nPoza obiektem\nDodatkowa opłata",
          "Ogólne:ogrzewanie",
          "Rekreacja:windsurfing",
          "Rekreacja:jazda konna\nPoza obiektem\nDodatkowa opłata",
          "Odkryty basen:leżaki lub krzesełka plażowe",
          "Rekreacja:wycieczki rowerowe\nDodatkowa opłata",
          "Różne:pokoje dźwiękoszczelne",
          "Rekreacja:park wodny\nDodatkowa opłata",
          "Centrum wellness:łaźnia turecka / parowa",
          "Udogodnienia w pokoju:dźwiękoszczelność",
          "Media/Technologia:płatne kanały",
          "Rekreacja:masaż\nDodatkowa opłata",
          "Łazienka:sauna",
          "Widok:widok na wewnętrzny dziedziniec",
          "Języki:szwedzki",
          "Udogodnienia",
          "Zaplecze odnowy biologicznej:pedicure",
          "Rekreacja:klub dla dzieci",
          "Kuchnia:krzesełko dla dzieci",
          "2 basenów:Sezonowy",
          "Bezpieczeństwo:system alarmowy",
          "Ogólne:fryzjer / salon piękności",
          "Centrum wellness:spa i centrum odnowy biologicznej",
          "Ogólne:dostawa artykułów spożywczych\nDodatkowa opłata",
          "Centrum wellness:masaż szyi\nDodatkowa opłata",
          "Rekreacja:zaplecze do sportów wodnych na miejscu",
          "Rekreacja:wieczorne rozrywki",
          "Zaplecze odnowy biologicznej:centrum fitness",
          "Udogodnienia w pokoju:wentylator",
          "Usługi:transfer lotniskowy (dodatkowa opłata)",
          "Transport:transfer (dodatkowa opłata)",
          "Kuchnia:płyta kuchenna",
          "Media/Technologia:odtwarzacz DVD",
          "Udogodnienia dla niepełnosprawnych:dostęp dla wózków inwalidzkich",
          "Centrum wellness:zjeżdżalnia wodna",
          "Pomieszczenia ogólnodostępne:wspólny salon / sala TV",
          "Ogólne:legowisko dla pupila",
          "Ogólne:sejf na laptopa",
          "Ogólne:pokoje łączone",
          "Rekreacja:aerobik\nDodatkowa opłata",
          "Centrum wellness:masaż\nDodatkowa opłata",
          "Łazienka:kapcie",
          "Różne:całkowity zakaz palenia",
          "Widok:widok na jezioro",
          "Centrum wellness:masaż dla par\nDodatkowa opłata",
          "Zaplecze odnowy biologicznej:masaż\nDodatkowa opłata",
          "Usługi dla rodzin i oferta rozrywkowa:bramki zabezpieczające dla dzieci",
          "Kuchnia:zmywarka",
          "Okolica:sprzęt do grillowania\nDodatkowa opłata",
          "Zaplecze odnowy biologicznej:fitness",
          "Rekreacja:jazda konna",
          "Udogodnienia w pokoju:ogrzewanie",
          "Zaplecze biznesowe:centrum biznesowe",
          "3 basenów:Sezonowy",
          "Rekreacja:sauna",
          "Różne:ogrzewanie",
          "Okolica:lokalizacja przy samej plaży",
          "Ogólne:winda",
          "Kuchnia:suszarka bębnowa",
          "Usługi recepcji:biuro informacji turystycznej",
          "Łazienka:dodatkowa toaleta",
          "Usługi sprzątania:usługa prasowania\nDodatkowa opłata",
          "Łazienka:szlafrok",
          "Ogólne:transfer (dodatkowa opłata)",
          "2 basenów:mały basen",
          "Łazienka:wanna z hydromasażem",
          "Zaplecze odnowy biologicznej:szatnia / przebieralnia",
          "Widok:widok na morze",
          "Usługi:codzienne sprzątanie",
          "Okolica i widok:widok na morze",
          "Rekreacja:kręgielnia\nDodatkowa opłata",
          "2 basenów:leżaki lub krzesełka plażowe"
         ],
         "yaxis": "y"
        }
       ],
       "layout": {
        "barmode": "relative",
        "height": 600,
        "legend": {
         "tracegroupgap": 0
        },
        "template": {
         "data": {
          "bar": [
           {
            "error_x": {
             "color": "#2a3f5f"
            },
            "error_y": {
             "color": "#2a3f5f"
            },
            "marker": {
             "line": {
              "color": "#E5ECF6",
              "width": 0.5
             },
             "pattern": {
              "fillmode": "overlay",
              "size": 10,
              "solidity": 0.2
             }
            },
            "type": "bar"
           }
          ],
          "barpolar": [
           {
            "marker": {
             "line": {
              "color": "#E5ECF6",
              "width": 0.5
             },
             "pattern": {
              "fillmode": "overlay",
              "size": 10,
              "solidity": 0.2
             }
            },
            "type": "barpolar"
           }
          ],
          "carpet": [
           {
            "aaxis": {
             "endlinecolor": "#2a3f5f",
             "gridcolor": "white",
             "linecolor": "white",
             "minorgridcolor": "white",
             "startlinecolor": "#2a3f5f"
            },
            "baxis": {
             "endlinecolor": "#2a3f5f",
             "gridcolor": "white",
             "linecolor": "white",
             "minorgridcolor": "white",
             "startlinecolor": "#2a3f5f"
            },
            "type": "carpet"
           }
          ],
          "choropleth": [
           {
            "colorbar": {
             "outlinewidth": 0,
             "ticks": ""
            },
            "type": "choropleth"
           }
          ],
          "contour": [
           {
            "colorbar": {
             "outlinewidth": 0,
             "ticks": ""
            },
            "colorscale": [
             [
              0,
              "#0d0887"
             ],
             [
              0.1111111111111111,
              "#46039f"
             ],
             [
              0.2222222222222222,
              "#7201a8"
             ],
             [
              0.3333333333333333,
              "#9c179e"
             ],
             [
              0.4444444444444444,
              "#bd3786"
             ],
             [
              0.5555555555555556,
              "#d8576b"
             ],
             [
              0.6666666666666666,
              "#ed7953"
             ],
             [
              0.7777777777777778,
              "#fb9f3a"
             ],
             [
              0.8888888888888888,
              "#fdca26"
             ],
             [
              1,
              "#f0f921"
             ]
            ],
            "type": "contour"
           }
          ],
          "contourcarpet": [
           {
            "colorbar": {
             "outlinewidth": 0,
             "ticks": ""
            },
            "type": "contourcarpet"
           }
          ],
          "heatmap": [
           {
            "colorbar": {
             "outlinewidth": 0,
             "ticks": ""
            },
            "colorscale": [
             [
              0,
              "#0d0887"
             ],
             [
              0.1111111111111111,
              "#46039f"
             ],
             [
              0.2222222222222222,
              "#7201a8"
             ],
             [
              0.3333333333333333,
              "#9c179e"
             ],
             [
              0.4444444444444444,
              "#bd3786"
             ],
             [
              0.5555555555555556,
              "#d8576b"
             ],
             [
              0.6666666666666666,
              "#ed7953"
             ],
             [
              0.7777777777777778,
              "#fb9f3a"
             ],
             [
              0.8888888888888888,
              "#fdca26"
             ],
             [
              1,
              "#f0f921"
             ]
            ],
            "type": "heatmap"
           }
          ],
          "heatmapgl": [
           {
            "colorbar": {
             "outlinewidth": 0,
             "ticks": ""
            },
            "colorscale": [
             [
              0,
              "#0d0887"
             ],
             [
              0.1111111111111111,
              "#46039f"
             ],
             [
              0.2222222222222222,
              "#7201a8"
             ],
             [
              0.3333333333333333,
              "#9c179e"
             ],
             [
              0.4444444444444444,
              "#bd3786"
             ],
             [
              0.5555555555555556,
              "#d8576b"
             ],
             [
              0.6666666666666666,
              "#ed7953"
             ],
             [
              0.7777777777777778,
              "#fb9f3a"
             ],
             [
              0.8888888888888888,
              "#fdca26"
             ],
             [
              1,
              "#f0f921"
             ]
            ],
            "type": "heatmapgl"
           }
          ],
          "histogram": [
           {
            "marker": {
             "pattern": {
              "fillmode": "overlay",
              "size": 10,
              "solidity": 0.2
             }
            },
            "type": "histogram"
           }
          ],
          "histogram2d": [
           {
            "colorbar": {
             "outlinewidth": 0,
             "ticks": ""
            },
            "colorscale": [
             [
              0,
              "#0d0887"
             ],
             [
              0.1111111111111111,
              "#46039f"
             ],
             [
              0.2222222222222222,
              "#7201a8"
             ],
             [
              0.3333333333333333,
              "#9c179e"
             ],
             [
              0.4444444444444444,
              "#bd3786"
             ],
             [
              0.5555555555555556,
              "#d8576b"
             ],
             [
              0.6666666666666666,
              "#ed7953"
             ],
             [
              0.7777777777777778,
              "#fb9f3a"
             ],
             [
              0.8888888888888888,
              "#fdca26"
             ],
             [
              1,
              "#f0f921"
             ]
            ],
            "type": "histogram2d"
           }
          ],
          "histogram2dcontour": [
           {
            "colorbar": {
             "outlinewidth": 0,
             "ticks": ""
            },
            "colorscale": [
             [
              0,
              "#0d0887"
             ],
             [
              0.1111111111111111,
              "#46039f"
             ],
             [
              0.2222222222222222,
              "#7201a8"
             ],
             [
              0.3333333333333333,
              "#9c179e"
             ],
             [
              0.4444444444444444,
              "#bd3786"
             ],
             [
              0.5555555555555556,
              "#d8576b"
             ],
             [
              0.6666666666666666,
              "#ed7953"
             ],
             [
              0.7777777777777778,
              "#fb9f3a"
             ],
             [
              0.8888888888888888,
              "#fdca26"
             ],
             [
              1,
              "#f0f921"
             ]
            ],
            "type": "histogram2dcontour"
           }
          ],
          "mesh3d": [
           {
            "colorbar": {
             "outlinewidth": 0,
             "ticks": ""
            },
            "type": "mesh3d"
           }
          ],
          "parcoords": [
           {
            "line": {
             "colorbar": {
              "outlinewidth": 0,
              "ticks": ""
             }
            },
            "type": "parcoords"
           }
          ],
          "pie": [
           {
            "automargin": true,
            "type": "pie"
           }
          ],
          "scatter": [
           {
            "fillpattern": {
             "fillmode": "overlay",
             "size": 10,
             "solidity": 0.2
            },
            "type": "scatter"
           }
          ],
          "scatter3d": [
           {
            "line": {
             "colorbar": {
              "outlinewidth": 0,
              "ticks": ""
             }
            },
            "marker": {
             "colorbar": {
              "outlinewidth": 0,
              "ticks": ""
             }
            },
            "type": "scatter3d"
           }
          ],
          "scattercarpet": [
           {
            "marker": {
             "colorbar": {
              "outlinewidth": 0,
              "ticks": ""
             }
            },
            "type": "scattercarpet"
           }
          ],
          "scattergeo": [
           {
            "marker": {
             "colorbar": {
              "outlinewidth": 0,
              "ticks": ""
             }
            },
            "type": "scattergeo"
           }
          ],
          "scattergl": [
           {
            "marker": {
             "colorbar": {
              "outlinewidth": 0,
              "ticks": ""
             }
            },
            "type": "scattergl"
           }
          ],
          "scattermapbox": [
           {
            "marker": {
             "colorbar": {
              "outlinewidth": 0,
              "ticks": ""
             }
            },
            "type": "scattermapbox"
           }
          ],
          "scatterpolar": [
           {
            "marker": {
             "colorbar": {
              "outlinewidth": 0,
              "ticks": ""
             }
            },
            "type": "scatterpolar"
           }
          ],
          "scatterpolargl": [
           {
            "marker": {
             "colorbar": {
              "outlinewidth": 0,
              "ticks": ""
             }
            },
            "type": "scatterpolargl"
           }
          ],
          "scatterternary": [
           {
            "marker": {
             "colorbar": {
              "outlinewidth": 0,
              "ticks": ""
             }
            },
            "type": "scatterternary"
           }
          ],
          "surface": [
           {
            "colorbar": {
             "outlinewidth": 0,
             "ticks": ""
            },
            "colorscale": [
             [
              0,
              "#0d0887"
             ],
             [
              0.1111111111111111,
              "#46039f"
             ],
             [
              0.2222222222222222,
              "#7201a8"
             ],
             [
              0.3333333333333333,
              "#9c179e"
             ],
             [
              0.4444444444444444,
              "#bd3786"
             ],
             [
              0.5555555555555556,
              "#d8576b"
             ],
             [
              0.6666666666666666,
              "#ed7953"
             ],
             [
              0.7777777777777778,
              "#fb9f3a"
             ],
             [
              0.8888888888888888,
              "#fdca26"
             ],
             [
              1,
              "#f0f921"
             ]
            ],
            "type": "surface"
           }
          ],
          "table": [
           {
            "cells": {
             "fill": {
              "color": "#EBF0F8"
             },
             "line": {
              "color": "white"
             }
            },
            "header": {
             "fill": {
              "color": "#C8D4E3"
             },
             "line": {
              "color": "white"
             }
            },
            "type": "table"
           }
          ]
         },
         "layout": {
          "annotationdefaults": {
           "arrowcolor": "#2a3f5f",
           "arrowhead": 0,
           "arrowwidth": 1
          },
          "autotypenumbers": "strict",
          "coloraxis": {
           "colorbar": {
            "outlinewidth": 0,
            "ticks": ""
           }
          },
          "colorscale": {
           "diverging": [
            [
             0,
             "#8e0152"
            ],
            [
             0.1,
             "#c51b7d"
            ],
            [
             0.2,
             "#de77ae"
            ],
            [
             0.3,
             "#f1b6da"
            ],
            [
             0.4,
             "#fde0ef"
            ],
            [
             0.5,
             "#f7f7f7"
            ],
            [
             0.6,
             "#e6f5d0"
            ],
            [
             0.7,
             "#b8e186"
            ],
            [
             0.8,
             "#7fbc41"
            ],
            [
             0.9,
             "#4d9221"
            ],
            [
             1,
             "#276419"
            ]
           ],
           "sequential": [
            [
             0,
             "#0d0887"
            ],
            [
             0.1111111111111111,
             "#46039f"
            ],
            [
             0.2222222222222222,
             "#7201a8"
            ],
            [
             0.3333333333333333,
             "#9c179e"
            ],
            [
             0.4444444444444444,
             "#bd3786"
            ],
            [
             0.5555555555555556,
             "#d8576b"
            ],
            [
             0.6666666666666666,
             "#ed7953"
            ],
            [
             0.7777777777777778,
             "#fb9f3a"
            ],
            [
             0.8888888888888888,
             "#fdca26"
            ],
            [
             1,
             "#f0f921"
            ]
           ],
           "sequentialminus": [
            [
             0,
             "#0d0887"
            ],
            [
             0.1111111111111111,
             "#46039f"
            ],
            [
             0.2222222222222222,
             "#7201a8"
            ],
            [
             0.3333333333333333,
             "#9c179e"
            ],
            [
             0.4444444444444444,
             "#bd3786"
            ],
            [
             0.5555555555555556,
             "#d8576b"
            ],
            [
             0.6666666666666666,
             "#ed7953"
            ],
            [
             0.7777777777777778,
             "#fb9f3a"
            ],
            [
             0.8888888888888888,
             "#fdca26"
            ],
            [
             1,
             "#f0f921"
            ]
           ]
          },
          "colorway": [
           "#636efa",
           "#EF553B",
           "#00cc96",
           "#ab63fa",
           "#FFA15A",
           "#19d3f3",
           "#FF6692",
           "#B6E880",
           "#FF97FF",
           "#FECB52"
          ],
          "font": {
           "color": "#2a3f5f"
          },
          "geo": {
           "bgcolor": "white",
           "lakecolor": "white",
           "landcolor": "#E5ECF6",
           "showlakes": true,
           "showland": true,
           "subunitcolor": "white"
          },
          "hoverlabel": {
           "align": "left"
          },
          "hovermode": "closest",
          "mapbox": {
           "style": "light"
          },
          "paper_bgcolor": "white",
          "plot_bgcolor": "#E5ECF6",
          "polar": {
           "angularaxis": {
            "gridcolor": "white",
            "linecolor": "white",
            "ticks": ""
           },
           "bgcolor": "#E5ECF6",
           "radialaxis": {
            "gridcolor": "white",
            "linecolor": "white",
            "ticks": ""
           }
          },
          "scene": {
           "xaxis": {
            "backgroundcolor": "#E5ECF6",
            "gridcolor": "white",
            "gridwidth": 2,
            "linecolor": "white",
            "showbackground": true,
            "ticks": "",
            "zerolinecolor": "white"
           },
           "yaxis": {
            "backgroundcolor": "#E5ECF6",
            "gridcolor": "white",
            "gridwidth": 2,
            "linecolor": "white",
            "showbackground": true,
            "ticks": "",
            "zerolinecolor": "white"
           },
           "zaxis": {
            "backgroundcolor": "#E5ECF6",
            "gridcolor": "white",
            "gridwidth": 2,
            "linecolor": "white",
            "showbackground": true,
            "ticks": "",
            "zerolinecolor": "white"
           }
          },
          "shapedefaults": {
           "line": {
            "color": "#2a3f5f"
           }
          },
          "ternary": {
           "aaxis": {
            "gridcolor": "white",
            "linecolor": "white",
            "ticks": ""
           },
           "baxis": {
            "gridcolor": "white",
            "linecolor": "white",
            "ticks": ""
           },
           "bgcolor": "#E5ECF6",
           "caxis": {
            "gridcolor": "white",
            "linecolor": "white",
            "ticks": ""
           }
          },
          "title": {
           "x": 0.05
          },
          "xaxis": {
           "automargin": true,
           "gridcolor": "white",
           "linecolor": "white",
           "ticks": "",
           "title": {
            "standoff": 15
           },
           "zerolinecolor": "white",
           "zerolinewidth": 2
          },
          "yaxis": {
           "automargin": true,
           "gridcolor": "white",
           "linecolor": "white",
           "ticks": "",
           "title": {
            "standoff": 15
           },
           "zerolinecolor": "white",
           "zerolinewidth": 2
          }
         }
        },
        "title": {
         "text": "Wykres miary ważności atrybutów"
        },
        "xaxis": {
         "anchor": "y",
         "domain": [
          0,
          1
         ],
         "title": {
          "text": "wartość"
         }
        },
        "yaxis": {
         "anchor": "x",
         "domain": [
          0,
          1
         ],
         "title": {
          "text": "atrybuty"
         }
        }
       }
      }
     },
     "metadata": {},
     "output_type": "display_data"
    }
   ],
   "source": [
    "fig = px.bar(y=feature_name, x=feature_value, height=600, title='Wykres miary ważności atrybutów')\n",
    "fig.update_layout(xaxis_title='wartość',yaxis_title='atrybuty')\n",
    "fig.show()"
   ]
  },
  {
   "cell_type": "code",
   "execution_count": 101,
   "metadata": {},
   "outputs": [
    {
     "data": {
      "text/plain": [
       "Index(['hotel_name', 'hotel_city', 'hotel_price', 'Personel', 'Udogodnienia',\n",
       "       'Czystość', 'Komfort', 'Stosunek jakości do ceny', 'Lokalizacja',\n",
       "       'Bezpłatne WiFi',\n",
       "       ...\n",
       "       'Odkryty basen:płotek wokół basenu',\n",
       "       'Odkryty basen:basen z podgrzewaną wodą',\n",
       "       'Usługi dla rodzin i oferta rozrywkowa:wózki dziecięce',\n",
       "       'Odkryty basen:brodzik', '3 basenów:Sezonowy',\n",
       "       'Rekreacja:wieczór filmowy\\nPoza obiektem\\nDodatkowa opłata',\n",
       "       'Usługi:wymiana walut', 'Widok:widok na jezioro',\n",
       "       'Rekreacja:bezpłatne rowery', 'Usługi:wózki dziecięce'],\n",
       "      dtype='object', length=485)"
      ]
     },
     "execution_count": 101,
     "metadata": {},
     "output_type": "execute_result"
    }
   ],
   "source": [
    "df.columns"
   ]
  },
  {
   "cell_type": "code",
   "execution_count": 102,
   "metadata": {},
   "outputs": [
    {
     "data": {
      "text/html": [
       "<div>\n",
       "<style scoped>\n",
       "    .dataframe tbody tr th:only-of-type {\n",
       "        vertical-align: middle;\n",
       "    }\n",
       "\n",
       "    .dataframe tbody tr th {\n",
       "        vertical-align: top;\n",
       "    }\n",
       "\n",
       "    .dataframe thead th {\n",
       "        text-align: right;\n",
       "    }\n",
       "</style>\n",
       "<table border=\"1\" class=\"dataframe\">\n",
       "  <thead>\n",
       "    <tr style=\"text-align: right;\">\n",
       "      <th></th>\n",
       "      <th>hotel_name</th>\n",
       "      <th>hotel_city</th>\n",
       "      <th>hotel_price</th>\n",
       "      <th>Personel</th>\n",
       "      <th>Udogodnienia</th>\n",
       "      <th>Czystość</th>\n",
       "      <th>Komfort</th>\n",
       "      <th>Stosunek jakości do ceny</th>\n",
       "      <th>Lokalizacja</th>\n",
       "      <th>Bezpłatne WiFi</th>\n",
       "      <th>...</th>\n",
       "      <th>Usługi:prasa do spodni</th>\n",
       "      <th>Usługi:usługi konsjerża</th>\n",
       "      <th>Rekreacja:solarium\\nDodatkowa opłata</th>\n",
       "      <th>Basen – odkryty (dla dzieci):ręczniki kąpielowe/plażowe</th>\n",
       "      <th>Basen – odkryty (dla dzieci):zabawki do wody</th>\n",
       "      <th>Basen – odkryty (dla dzieci):basen bez krawędzi</th>\n",
       "      <th>Rekreacja:wieczory tematyczne z kolacją\\nPoza obiektem</th>\n",
       "      <th>Rekreacja:kasyno</th>\n",
       "      <th>Okolica:prywatna plaża\\nDodatkowa opłata</th>\n",
       "      <th>Odkryty basen:Basen na dachu</th>\n",
       "    </tr>\n",
       "  </thead>\n",
       "  <tbody>\n",
       "    <tr>\n",
       "      <th>0</th>\n",
       "      <td>Pokoje Gościnne Przy Molo</td>\n",
       "      <td>Gdynia</td>\n",
       "      <td>3524</td>\n",
       "      <td>9.2</td>\n",
       "      <td>8.4</td>\n",
       "      <td>8.8</td>\n",
       "      <td>8.4</td>\n",
       "      <td>8.3</td>\n",
       "      <td>9.6</td>\n",
       "      <td>8.7</td>\n",
       "      <td>...</td>\n",
       "      <td>NaN</td>\n",
       "      <td>NaN</td>\n",
       "      <td>NaN</td>\n",
       "      <td>NaN</td>\n",
       "      <td>NaN</td>\n",
       "      <td>NaN</td>\n",
       "      <td>NaN</td>\n",
       "      <td>NaN</td>\n",
       "      <td>NaN</td>\n",
       "      <td>NaN</td>\n",
       "    </tr>\n",
       "    <tr>\n",
       "      <th>1</th>\n",
       "      <td>Aparthotel Square - By The Sea</td>\n",
       "      <td>Gdynia</td>\n",
       "      <td>3263</td>\n",
       "      <td>9.4</td>\n",
       "      <td>9.3</td>\n",
       "      <td>9.6</td>\n",
       "      <td>9.7</td>\n",
       "      <td>9.3</td>\n",
       "      <td>9.5</td>\n",
       "      <td>9.2</td>\n",
       "      <td>...</td>\n",
       "      <td>NaN</td>\n",
       "      <td>NaN</td>\n",
       "      <td>NaN</td>\n",
       "      <td>NaN</td>\n",
       "      <td>NaN</td>\n",
       "      <td>NaN</td>\n",
       "      <td>NaN</td>\n",
       "      <td>NaN</td>\n",
       "      <td>NaN</td>\n",
       "      <td>NaN</td>\n",
       "    </tr>\n",
       "    <tr>\n",
       "      <th>2</th>\n",
       "      <td>Villa Magna</td>\n",
       "      <td>Gdynia</td>\n",
       "      <td>2457</td>\n",
       "      <td>9.5</td>\n",
       "      <td>9.0</td>\n",
       "      <td>9.0</td>\n",
       "      <td>8.9</td>\n",
       "      <td>9.0</td>\n",
       "      <td>8.4</td>\n",
       "      <td>8.7</td>\n",
       "      <td>...</td>\n",
       "      <td>NaN</td>\n",
       "      <td>NaN</td>\n",
       "      <td>NaN</td>\n",
       "      <td>NaN</td>\n",
       "      <td>NaN</td>\n",
       "      <td>NaN</td>\n",
       "      <td>NaN</td>\n",
       "      <td>NaN</td>\n",
       "      <td>NaN</td>\n",
       "      <td>NaN</td>\n",
       "    </tr>\n",
       "    <tr>\n",
       "      <th>3</th>\n",
       "      <td>Apartamenty Andrzejczyk - Świętojańska 96</td>\n",
       "      <td>Gdynia</td>\n",
       "      <td>2017</td>\n",
       "      <td>9.4</td>\n",
       "      <td>8.7</td>\n",
       "      <td>8.8</td>\n",
       "      <td>8.9</td>\n",
       "      <td>8.7</td>\n",
       "      <td>9.5</td>\n",
       "      <td>9.6</td>\n",
       "      <td>...</td>\n",
       "      <td>NaN</td>\n",
       "      <td>NaN</td>\n",
       "      <td>NaN</td>\n",
       "      <td>NaN</td>\n",
       "      <td>NaN</td>\n",
       "      <td>NaN</td>\n",
       "      <td>NaN</td>\n",
       "      <td>NaN</td>\n",
       "      <td>NaN</td>\n",
       "      <td>NaN</td>\n",
       "    </tr>\n",
       "    <tr>\n",
       "      <th>4</th>\n",
       "      <td>Redłowska Kaskada D39</td>\n",
       "      <td>Gdynia</td>\n",
       "      <td>2059</td>\n",
       "      <td>9.2</td>\n",
       "      <td>9.6</td>\n",
       "      <td>10.0</td>\n",
       "      <td>9.6</td>\n",
       "      <td>9.6</td>\n",
       "      <td>10.0</td>\n",
       "      <td>NaN</td>\n",
       "      <td>...</td>\n",
       "      <td>NaN</td>\n",
       "      <td>NaN</td>\n",
       "      <td>NaN</td>\n",
       "      <td>NaN</td>\n",
       "      <td>NaN</td>\n",
       "      <td>NaN</td>\n",
       "      <td>NaN</td>\n",
       "      <td>NaN</td>\n",
       "      <td>NaN</td>\n",
       "      <td>NaN</td>\n",
       "    </tr>\n",
       "    <tr>\n",
       "      <th>...</th>\n",
       "      <td>...</td>\n",
       "      <td>...</td>\n",
       "      <td>...</td>\n",
       "      <td>...</td>\n",
       "      <td>...</td>\n",
       "      <td>...</td>\n",
       "      <td>...</td>\n",
       "      <td>...</td>\n",
       "      <td>...</td>\n",
       "      <td>...</td>\n",
       "      <td>...</td>\n",
       "      <td>...</td>\n",
       "      <td>...</td>\n",
       "      <td>...</td>\n",
       "      <td>...</td>\n",
       "      <td>...</td>\n",
       "      <td>...</td>\n",
       "      <td>...</td>\n",
       "      <td>...</td>\n",
       "      <td>...</td>\n",
       "      <td>...</td>\n",
       "    </tr>\n",
       "    <tr>\n",
       "      <th>1631</th>\n",
       "      <td>Turkusowy Zakątek</td>\n",
       "      <td>Międzyzdroje</td>\n",
       "      <td>4153</td>\n",
       "      <td>8.6</td>\n",
       "      <td>7.7</td>\n",
       "      <td>8.4</td>\n",
       "      <td>7.9</td>\n",
       "      <td>7.9</td>\n",
       "      <td>7.7</td>\n",
       "      <td>10.0</td>\n",
       "      <td>...</td>\n",
       "      <td>NaN</td>\n",
       "      <td>NaN</td>\n",
       "      <td>NaN</td>\n",
       "      <td>NaN</td>\n",
       "      <td>NaN</td>\n",
       "      <td>NaN</td>\n",
       "      <td>NaN</td>\n",
       "      <td>NaN</td>\n",
       "      <td>NaN</td>\n",
       "      <td>NaN</td>\n",
       "    </tr>\n",
       "    <tr>\n",
       "      <th>1632</th>\n",
       "      <td>MojeMiędzyzdroje LU 8B - Luksusowy apartament ...</td>\n",
       "      <td>Międzyzdroje</td>\n",
       "      <td>5058</td>\n",
       "      <td>10.0</td>\n",
       "      <td>10.0</td>\n",
       "      <td>10.0</td>\n",
       "      <td>10.0</td>\n",
       "      <td>10.0</td>\n",
       "      <td>10.0</td>\n",
       "      <td>NaN</td>\n",
       "      <td>...</td>\n",
       "      <td>NaN</td>\n",
       "      <td>NaN</td>\n",
       "      <td>NaN</td>\n",
       "      <td>NaN</td>\n",
       "      <td>NaN</td>\n",
       "      <td>NaN</td>\n",
       "      <td>NaN</td>\n",
       "      <td>NaN</td>\n",
       "      <td>NaN</td>\n",
       "      <td>NaN</td>\n",
       "    </tr>\n",
       "    <tr>\n",
       "      <th>1633</th>\n",
       "      <td>Rent like home - Prima 34</td>\n",
       "      <td>Międzyzdroje</td>\n",
       "      <td>6655</td>\n",
       "      <td>9.3</td>\n",
       "      <td>9.5</td>\n",
       "      <td>9.1</td>\n",
       "      <td>9.1</td>\n",
       "      <td>9.1</td>\n",
       "      <td>8.9</td>\n",
       "      <td>NaN</td>\n",
       "      <td>...</td>\n",
       "      <td>NaN</td>\n",
       "      <td>NaN</td>\n",
       "      <td>NaN</td>\n",
       "      <td>NaN</td>\n",
       "      <td>NaN</td>\n",
       "      <td>NaN</td>\n",
       "      <td>NaN</td>\n",
       "      <td>NaN</td>\n",
       "      <td>NaN</td>\n",
       "      <td>NaN</td>\n",
       "    </tr>\n",
       "    <tr>\n",
       "      <th>1634</th>\n",
       "      <td>Apartament w centrum \"Jagoda\"przy Placu Neptuna</td>\n",
       "      <td>Międzyzdroje</td>\n",
       "      <td>5174</td>\n",
       "      <td>7.2</td>\n",
       "      <td>6.3</td>\n",
       "      <td>6.3</td>\n",
       "      <td>6.3</td>\n",
       "      <td>6.0</td>\n",
       "      <td>8.0</td>\n",
       "      <td>NaN</td>\n",
       "      <td>...</td>\n",
       "      <td>NaN</td>\n",
       "      <td>NaN</td>\n",
       "      <td>NaN</td>\n",
       "      <td>NaN</td>\n",
       "      <td>NaN</td>\n",
       "      <td>NaN</td>\n",
       "      <td>NaN</td>\n",
       "      <td>NaN</td>\n",
       "      <td>NaN</td>\n",
       "      <td>NaN</td>\n",
       "    </tr>\n",
       "    <tr>\n",
       "      <th>1636</th>\n",
       "      <td>Baltic Home Tulip</td>\n",
       "      <td>Międzyzdroje</td>\n",
       "      <td>5878</td>\n",
       "      <td>9.2</td>\n",
       "      <td>8.1</td>\n",
       "      <td>8.8</td>\n",
       "      <td>8.3</td>\n",
       "      <td>9.4</td>\n",
       "      <td>8.8</td>\n",
       "      <td>NaN</td>\n",
       "      <td>...</td>\n",
       "      <td>NaN</td>\n",
       "      <td>NaN</td>\n",
       "      <td>NaN</td>\n",
       "      <td>NaN</td>\n",
       "      <td>NaN</td>\n",
       "      <td>NaN</td>\n",
       "      <td>NaN</td>\n",
       "      <td>NaN</td>\n",
       "      <td>NaN</td>\n",
       "      <td>NaN</td>\n",
       "    </tr>\n",
       "  </tbody>\n",
       "</table>\n",
       "<p>1482 rows × 776 columns</p>\n",
       "</div>"
      ],
      "text/plain": [
       "                                             hotel_name    hotel_city  \\\n",
       "0                             Pokoje Gościnne Przy Molo        Gdynia   \n",
       "1                        Aparthotel Square - By The Sea        Gdynia   \n",
       "2                                           Villa Magna        Gdynia   \n",
       "3             Apartamenty Andrzejczyk - Świętojańska 96        Gdynia   \n",
       "4                                 Redłowska Kaskada D39        Gdynia   \n",
       "...                                                 ...           ...   \n",
       "1631                                  Turkusowy Zakątek  Międzyzdroje   \n",
       "1632  MojeMiędzyzdroje LU 8B - Luksusowy apartament ...  Międzyzdroje   \n",
       "1633                          Rent like home - Prima 34  Międzyzdroje   \n",
       "1634    Apartament w centrum \"Jagoda\"przy Placu Neptuna  Międzyzdroje   \n",
       "1636                                  Baltic Home Tulip  Międzyzdroje   \n",
       "\n",
       "      hotel_price  Personel  Udogodnienia  Czystość  Komfort  \\\n",
       "0            3524       9.2           8.4       8.8      8.4   \n",
       "1            3263       9.4           9.3       9.6      9.7   \n",
       "2            2457       9.5           9.0       9.0      8.9   \n",
       "3            2017       9.4           8.7       8.8      8.9   \n",
       "4            2059       9.2           9.6      10.0      9.6   \n",
       "...           ...       ...           ...       ...      ...   \n",
       "1631         4153       8.6           7.7       8.4      7.9   \n",
       "1632         5058      10.0          10.0      10.0     10.0   \n",
       "1633         6655       9.3           9.5       9.1      9.1   \n",
       "1634         5174       7.2           6.3       6.3      6.3   \n",
       "1636         5878       9.2           8.1       8.8      8.3   \n",
       "\n",
       "      Stosunek jakości do ceny  Lokalizacja  Bezpłatne WiFi  ...  \\\n",
       "0                          8.3          9.6             8.7  ...   \n",
       "1                          9.3          9.5             9.2  ...   \n",
       "2                          9.0          8.4             8.7  ...   \n",
       "3                          8.7          9.5             9.6  ...   \n",
       "4                          9.6         10.0             NaN  ...   \n",
       "...                        ...          ...             ...  ...   \n",
       "1631                       7.9          7.7            10.0  ...   \n",
       "1632                      10.0         10.0             NaN  ...   \n",
       "1633                       9.1          8.9             NaN  ...   \n",
       "1634                       6.0          8.0             NaN  ...   \n",
       "1636                       9.4          8.8             NaN  ...   \n",
       "\n",
       "      Usługi:prasa do spodni  Usługi:usługi konsjerża  \\\n",
       "0                        NaN                      NaN   \n",
       "1                        NaN                      NaN   \n",
       "2                        NaN                      NaN   \n",
       "3                        NaN                      NaN   \n",
       "4                        NaN                      NaN   \n",
       "...                      ...                      ...   \n",
       "1631                     NaN                      NaN   \n",
       "1632                     NaN                      NaN   \n",
       "1633                     NaN                      NaN   \n",
       "1634                     NaN                      NaN   \n",
       "1636                     NaN                      NaN   \n",
       "\n",
       "      Rekreacja:solarium\\nDodatkowa opłata  \\\n",
       "0                                      NaN   \n",
       "1                                      NaN   \n",
       "2                                      NaN   \n",
       "3                                      NaN   \n",
       "4                                      NaN   \n",
       "...                                    ...   \n",
       "1631                                   NaN   \n",
       "1632                                   NaN   \n",
       "1633                                   NaN   \n",
       "1634                                   NaN   \n",
       "1636                                   NaN   \n",
       "\n",
       "      Basen – odkryty (dla dzieci):ręczniki kąpielowe/plażowe  \\\n",
       "0                                                   NaN         \n",
       "1                                                   NaN         \n",
       "2                                                   NaN         \n",
       "3                                                   NaN         \n",
       "4                                                   NaN         \n",
       "...                                                 ...         \n",
       "1631                                                NaN         \n",
       "1632                                                NaN         \n",
       "1633                                                NaN         \n",
       "1634                                                NaN         \n",
       "1636                                                NaN         \n",
       "\n",
       "      Basen – odkryty (dla dzieci):zabawki do wody  \\\n",
       "0                                              NaN   \n",
       "1                                              NaN   \n",
       "2                                              NaN   \n",
       "3                                              NaN   \n",
       "4                                              NaN   \n",
       "...                                            ...   \n",
       "1631                                           NaN   \n",
       "1632                                           NaN   \n",
       "1633                                           NaN   \n",
       "1634                                           NaN   \n",
       "1636                                           NaN   \n",
       "\n",
       "      Basen – odkryty (dla dzieci):basen bez krawędzi  \\\n",
       "0                                                 NaN   \n",
       "1                                                 NaN   \n",
       "2                                                 NaN   \n",
       "3                                                 NaN   \n",
       "4                                                 NaN   \n",
       "...                                               ...   \n",
       "1631                                              NaN   \n",
       "1632                                              NaN   \n",
       "1633                                              NaN   \n",
       "1634                                              NaN   \n",
       "1636                                              NaN   \n",
       "\n",
       "      Rekreacja:wieczory tematyczne z kolacją\\nPoza obiektem  \\\n",
       "0                                                   NaN        \n",
       "1                                                   NaN        \n",
       "2                                                   NaN        \n",
       "3                                                   NaN        \n",
       "4                                                   NaN        \n",
       "...                                                 ...        \n",
       "1631                                                NaN        \n",
       "1632                                                NaN        \n",
       "1633                                                NaN        \n",
       "1634                                                NaN        \n",
       "1636                                                NaN        \n",
       "\n",
       "      Rekreacja:kasyno  Okolica:prywatna plaża\\nDodatkowa opłata  \\\n",
       "0                  NaN                                       NaN   \n",
       "1                  NaN                                       NaN   \n",
       "2                  NaN                                       NaN   \n",
       "3                  NaN                                       NaN   \n",
       "4                  NaN                                       NaN   \n",
       "...                ...                                       ...   \n",
       "1631               NaN                                       NaN   \n",
       "1632               NaN                                       NaN   \n",
       "1633               NaN                                       NaN   \n",
       "1634               NaN                                       NaN   \n",
       "1636               NaN                                       NaN   \n",
       "\n",
       "      Odkryty basen:Basen na dachu  \n",
       "0                              NaN  \n",
       "1                              NaN  \n",
       "2                              NaN  \n",
       "3                              NaN  \n",
       "4                              NaN  \n",
       "...                            ...  \n",
       "1631                           NaN  \n",
       "1632                           NaN  \n",
       "1633                           NaN  \n",
       "1634                           NaN  \n",
       "1636                           NaN  \n",
       "\n",
       "[1482 rows x 776 columns]"
      ]
     },
     "execution_count": 102,
     "metadata": {},
     "output_type": "execute_result"
    }
   ],
   "source": [
    "df = df_copy\n",
    "df"
   ]
  },
  {
   "cell_type": "code",
   "execution_count": 103,
   "metadata": {},
   "outputs": [
    {
     "name": "stdout",
     "output_type": "stream",
     "text": [
      "hotel_name\n",
      "hotel_city\n",
      "hotel_price\n",
      "Personel\n",
      "Udogodnienia\n",
      "Czystość\n",
      "Komfort\n",
      "Stosunek jakości do ceny\n",
      "Lokalizacja\n",
      "Bezpłatne WiFi\n",
      "Łazienka\n",
      "Sypialnia\n",
      "Okolica\n",
      "Kuchnia\n",
      "Udogodnienia w pokoju\n",
      "Salon\n",
      "Media/Technologia\n",
      "Parking\n",
      "Bezpieczeństwo\n",
      "Ogólne\n",
      "Języki\n",
      "Usługi recepcji\n",
      "Udogodnienia dla niepełnosprawnych\n",
      "Różne\n",
      "Posiłki i napoje\n",
      "Okolica i widok\n",
      "Rekreacja\n",
      "Cechy budynku\n",
      "Sklepy\n",
      "Transport\n",
      "Usługi dla rodzin i oferta rozrywkowa\n",
      "Usługi sprzątania\n",
      "Zaplecze biznesowe\n",
      "Zaplecze odnowy biologicznej\n",
      "Widok\n",
      "Kryty basen\n",
      "Centrum wellness\n",
      "Usługi dodatkowe\n",
      "Usługi\n",
      "Basen i odnowa biologiczna\n",
      "Pomieszczenia ogólnodostępne\n",
      "2 basenów\n",
      "Odkryty basen\n",
      "3 basenów\n",
      "Basen – odkryty (dla dzieci)\n",
      "45\n"
     ]
    }
   ],
   "source": [
    "df = df.fillna(0)\n",
    "cattegory = []\n",
    "for col in df.columns:\n",
    "    if(col.split(':')[0] not in cattegory):\n",
    "        print(col.split(':')[0])\n",
    "        cattegory.append(col.split(':')[0])\n",
    "print(len(cattegory))"
   ]
  },
  {
   "cell_type": "code",
   "execution_count": 104,
   "metadata": {},
   "outputs": [],
   "source": [
    "def Set_One(number):\n",
    "    if(number > 0):\n",
    "        number = 1\n",
    "    return number"
   ]
  },
  {
   "cell_type": "code",
   "execution_count": 105,
   "metadata": {},
   "outputs": [],
   "source": [
    "def Apply_Rule(df:pd.DataFrame, categorys):\n",
    "    for cat in categorys:\n",
    "        df[cat] = df[cat].apply(Set_One)"
   ]
  },
  {
   "cell_type": "code",
   "execution_count": 106,
   "metadata": {},
   "outputs": [],
   "source": [
    "cattegory_must_have = ['hotel_name','hotel_city','hotel_price','Personel','Udogodnienia','Czystość','Komfort','Stosunek jakości do ceny','Lokalizacja','Bezpłatne WiFi']\n",
    "def Choose_Series(df:pd.DataFrame, cattegory_remove):\n",
    "    cattegory_to_merge = []\n",
    "    for col in df.columns:\n",
    "        if(col not in cattegory_remove):\n",
    "            if(col.split(':')[0] not in cattegory_to_merge):\n",
    "                cattegory_to_merge.append(col.split(':')[0])\n",
    "    return cattegory_to_merge"
   ]
  },
  {
   "cell_type": "code",
   "execution_count": 107,
   "metadata": {},
   "outputs": [
    {
     "data": {
      "text/html": [
       "<div>\n",
       "<style scoped>\n",
       "    .dataframe tbody tr th:only-of-type {\n",
       "        vertical-align: middle;\n",
       "    }\n",
       "\n",
       "    .dataframe tbody tr th {\n",
       "        vertical-align: top;\n",
       "    }\n",
       "\n",
       "    .dataframe thead th {\n",
       "        text-align: right;\n",
       "    }\n",
       "</style>\n",
       "<table border=\"1\" class=\"dataframe\">\n",
       "  <thead>\n",
       "    <tr style=\"text-align: right;\">\n",
       "      <th></th>\n",
       "      <th>hotel_name</th>\n",
       "      <th>hotel_city</th>\n",
       "      <th>hotel_price</th>\n",
       "      <th>Personel</th>\n",
       "      <th>Udogodnienia</th>\n",
       "      <th>Czystość</th>\n",
       "      <th>Komfort</th>\n",
       "      <th>Stosunek jakości do ceny</th>\n",
       "      <th>Lokalizacja</th>\n",
       "      <th>Bezpłatne WiFi</th>\n",
       "      <th>...</th>\n",
       "      <th>Kryty basen</th>\n",
       "      <th>Centrum wellness</th>\n",
       "      <th>Usługi dodatkowe</th>\n",
       "      <th>Usługi</th>\n",
       "      <th>Basen i odnowa biologiczna</th>\n",
       "      <th>Pomieszczenia ogólnodostępne</th>\n",
       "      <th>2 basenów</th>\n",
       "      <th>Odkryty basen</th>\n",
       "      <th>3 basenów</th>\n",
       "      <th>Basen – odkryty (dla dzieci)</th>\n",
       "    </tr>\n",
       "  </thead>\n",
       "  <tbody>\n",
       "    <tr>\n",
       "      <th>0</th>\n",
       "      <td>Pokoje Gościnne Przy Molo</td>\n",
       "      <td>Gdynia</td>\n",
       "      <td>3524</td>\n",
       "      <td>9.2</td>\n",
       "      <td>8.4</td>\n",
       "      <td>8.8</td>\n",
       "      <td>8.4</td>\n",
       "      <td>8.3</td>\n",
       "      <td>9.6</td>\n",
       "      <td>8.7</td>\n",
       "      <td>...</td>\n",
       "      <td>0.0</td>\n",
       "      <td>0.0</td>\n",
       "      <td>0.0</td>\n",
       "      <td>0.0</td>\n",
       "      <td>0.0</td>\n",
       "      <td>0.0</td>\n",
       "      <td>0.0</td>\n",
       "      <td>0.0</td>\n",
       "      <td>0.0</td>\n",
       "      <td>0.0</td>\n",
       "    </tr>\n",
       "    <tr>\n",
       "      <th>1</th>\n",
       "      <td>Aparthotel Square - By The Sea</td>\n",
       "      <td>Gdynia</td>\n",
       "      <td>3263</td>\n",
       "      <td>9.4</td>\n",
       "      <td>9.3</td>\n",
       "      <td>9.6</td>\n",
       "      <td>9.7</td>\n",
       "      <td>9.3</td>\n",
       "      <td>9.5</td>\n",
       "      <td>9.2</td>\n",
       "      <td>...</td>\n",
       "      <td>0.0</td>\n",
       "      <td>0.0</td>\n",
       "      <td>0.0</td>\n",
       "      <td>0.0</td>\n",
       "      <td>0.0</td>\n",
       "      <td>0.0</td>\n",
       "      <td>0.0</td>\n",
       "      <td>0.0</td>\n",
       "      <td>0.0</td>\n",
       "      <td>0.0</td>\n",
       "    </tr>\n",
       "    <tr>\n",
       "      <th>2</th>\n",
       "      <td>Villa Magna</td>\n",
       "      <td>Gdynia</td>\n",
       "      <td>2457</td>\n",
       "      <td>9.5</td>\n",
       "      <td>9.0</td>\n",
       "      <td>9.0</td>\n",
       "      <td>8.9</td>\n",
       "      <td>9.0</td>\n",
       "      <td>8.4</td>\n",
       "      <td>8.7</td>\n",
       "      <td>...</td>\n",
       "      <td>0.0</td>\n",
       "      <td>0.0</td>\n",
       "      <td>0.0</td>\n",
       "      <td>0.0</td>\n",
       "      <td>0.0</td>\n",
       "      <td>0.0</td>\n",
       "      <td>0.0</td>\n",
       "      <td>0.0</td>\n",
       "      <td>0.0</td>\n",
       "      <td>0.0</td>\n",
       "    </tr>\n",
       "    <tr>\n",
       "      <th>3</th>\n",
       "      <td>Apartamenty Andrzejczyk - Świętojańska 96</td>\n",
       "      <td>Gdynia</td>\n",
       "      <td>2017</td>\n",
       "      <td>9.4</td>\n",
       "      <td>8.7</td>\n",
       "      <td>8.8</td>\n",
       "      <td>8.9</td>\n",
       "      <td>8.7</td>\n",
       "      <td>9.5</td>\n",
       "      <td>9.6</td>\n",
       "      <td>...</td>\n",
       "      <td>0.0</td>\n",
       "      <td>0.0</td>\n",
       "      <td>0.0</td>\n",
       "      <td>0.0</td>\n",
       "      <td>0.0</td>\n",
       "      <td>0.0</td>\n",
       "      <td>0.0</td>\n",
       "      <td>0.0</td>\n",
       "      <td>0.0</td>\n",
       "      <td>0.0</td>\n",
       "    </tr>\n",
       "    <tr>\n",
       "      <th>4</th>\n",
       "      <td>Redłowska Kaskada D39</td>\n",
       "      <td>Gdynia</td>\n",
       "      <td>2059</td>\n",
       "      <td>9.2</td>\n",
       "      <td>9.6</td>\n",
       "      <td>10.0</td>\n",
       "      <td>9.6</td>\n",
       "      <td>9.6</td>\n",
       "      <td>10.0</td>\n",
       "      <td>0.0</td>\n",
       "      <td>...</td>\n",
       "      <td>0.0</td>\n",
       "      <td>0.0</td>\n",
       "      <td>0.0</td>\n",
       "      <td>0.0</td>\n",
       "      <td>0.0</td>\n",
       "      <td>0.0</td>\n",
       "      <td>0.0</td>\n",
       "      <td>0.0</td>\n",
       "      <td>0.0</td>\n",
       "      <td>0.0</td>\n",
       "    </tr>\n",
       "    <tr>\n",
       "      <th>...</th>\n",
       "      <td>...</td>\n",
       "      <td>...</td>\n",
       "      <td>...</td>\n",
       "      <td>...</td>\n",
       "      <td>...</td>\n",
       "      <td>...</td>\n",
       "      <td>...</td>\n",
       "      <td>...</td>\n",
       "      <td>...</td>\n",
       "      <td>...</td>\n",
       "      <td>...</td>\n",
       "      <td>...</td>\n",
       "      <td>...</td>\n",
       "      <td>...</td>\n",
       "      <td>...</td>\n",
       "      <td>...</td>\n",
       "      <td>...</td>\n",
       "      <td>...</td>\n",
       "      <td>...</td>\n",
       "      <td>...</td>\n",
       "      <td>...</td>\n",
       "    </tr>\n",
       "    <tr>\n",
       "      <th>1631</th>\n",
       "      <td>Turkusowy Zakątek</td>\n",
       "      <td>Międzyzdroje</td>\n",
       "      <td>4153</td>\n",
       "      <td>8.6</td>\n",
       "      <td>7.7</td>\n",
       "      <td>8.4</td>\n",
       "      <td>7.9</td>\n",
       "      <td>7.9</td>\n",
       "      <td>7.7</td>\n",
       "      <td>10.0</td>\n",
       "      <td>...</td>\n",
       "      <td>0.0</td>\n",
       "      <td>0.0</td>\n",
       "      <td>0.0</td>\n",
       "      <td>0.0</td>\n",
       "      <td>0.0</td>\n",
       "      <td>0.0</td>\n",
       "      <td>0.0</td>\n",
       "      <td>0.0</td>\n",
       "      <td>0.0</td>\n",
       "      <td>0.0</td>\n",
       "    </tr>\n",
       "    <tr>\n",
       "      <th>1632</th>\n",
       "      <td>MojeMiędzyzdroje LU 8B - Luksusowy apartament ...</td>\n",
       "      <td>Międzyzdroje</td>\n",
       "      <td>5058</td>\n",
       "      <td>10.0</td>\n",
       "      <td>10.0</td>\n",
       "      <td>10.0</td>\n",
       "      <td>10.0</td>\n",
       "      <td>10.0</td>\n",
       "      <td>10.0</td>\n",
       "      <td>0.0</td>\n",
       "      <td>...</td>\n",
       "      <td>0.0</td>\n",
       "      <td>1.0</td>\n",
       "      <td>0.0</td>\n",
       "      <td>0.0</td>\n",
       "      <td>0.0</td>\n",
       "      <td>0.0</td>\n",
       "      <td>0.0</td>\n",
       "      <td>1.0</td>\n",
       "      <td>0.0</td>\n",
       "      <td>0.0</td>\n",
       "    </tr>\n",
       "    <tr>\n",
       "      <th>1633</th>\n",
       "      <td>Rent like home - Prima 34</td>\n",
       "      <td>Międzyzdroje</td>\n",
       "      <td>6655</td>\n",
       "      <td>9.3</td>\n",
       "      <td>9.5</td>\n",
       "      <td>9.1</td>\n",
       "      <td>9.1</td>\n",
       "      <td>9.1</td>\n",
       "      <td>8.9</td>\n",
       "      <td>0.0</td>\n",
       "      <td>...</td>\n",
       "      <td>0.0</td>\n",
       "      <td>0.0</td>\n",
       "      <td>0.0</td>\n",
       "      <td>0.0</td>\n",
       "      <td>0.0</td>\n",
       "      <td>0.0</td>\n",
       "      <td>0.0</td>\n",
       "      <td>0.0</td>\n",
       "      <td>0.0</td>\n",
       "      <td>0.0</td>\n",
       "    </tr>\n",
       "    <tr>\n",
       "      <th>1634</th>\n",
       "      <td>Apartament w centrum \"Jagoda\"przy Placu Neptuna</td>\n",
       "      <td>Międzyzdroje</td>\n",
       "      <td>5174</td>\n",
       "      <td>7.2</td>\n",
       "      <td>6.3</td>\n",
       "      <td>6.3</td>\n",
       "      <td>6.3</td>\n",
       "      <td>6.0</td>\n",
       "      <td>8.0</td>\n",
       "      <td>0.0</td>\n",
       "      <td>...</td>\n",
       "      <td>0.0</td>\n",
       "      <td>0.0</td>\n",
       "      <td>0.0</td>\n",
       "      <td>0.0</td>\n",
       "      <td>0.0</td>\n",
       "      <td>0.0</td>\n",
       "      <td>0.0</td>\n",
       "      <td>0.0</td>\n",
       "      <td>0.0</td>\n",
       "      <td>0.0</td>\n",
       "    </tr>\n",
       "    <tr>\n",
       "      <th>1636</th>\n",
       "      <td>Baltic Home Tulip</td>\n",
       "      <td>Międzyzdroje</td>\n",
       "      <td>5878</td>\n",
       "      <td>9.2</td>\n",
       "      <td>8.1</td>\n",
       "      <td>8.8</td>\n",
       "      <td>8.3</td>\n",
       "      <td>9.4</td>\n",
       "      <td>8.8</td>\n",
       "      <td>0.0</td>\n",
       "      <td>...</td>\n",
       "      <td>0.0</td>\n",
       "      <td>0.0</td>\n",
       "      <td>0.0</td>\n",
       "      <td>0.0</td>\n",
       "      <td>0.0</td>\n",
       "      <td>0.0</td>\n",
       "      <td>0.0</td>\n",
       "      <td>0.0</td>\n",
       "      <td>0.0</td>\n",
       "      <td>0.0</td>\n",
       "    </tr>\n",
       "  </tbody>\n",
       "</table>\n",
       "<p>1482 rows × 45 columns</p>\n",
       "</div>"
      ],
      "text/plain": [
       "                                             hotel_name    hotel_city  \\\n",
       "0                             Pokoje Gościnne Przy Molo        Gdynia   \n",
       "1                        Aparthotel Square - By The Sea        Gdynia   \n",
       "2                                           Villa Magna        Gdynia   \n",
       "3             Apartamenty Andrzejczyk - Świętojańska 96        Gdynia   \n",
       "4                                 Redłowska Kaskada D39        Gdynia   \n",
       "...                                                 ...           ...   \n",
       "1631                                  Turkusowy Zakątek  Międzyzdroje   \n",
       "1632  MojeMiędzyzdroje LU 8B - Luksusowy apartament ...  Międzyzdroje   \n",
       "1633                          Rent like home - Prima 34  Międzyzdroje   \n",
       "1634    Apartament w centrum \"Jagoda\"przy Placu Neptuna  Międzyzdroje   \n",
       "1636                                  Baltic Home Tulip  Międzyzdroje   \n",
       "\n",
       "      hotel_price  Personel  Udogodnienia  Czystość  Komfort  \\\n",
       "0            3524       9.2           8.4       8.8      8.4   \n",
       "1            3263       9.4           9.3       9.6      9.7   \n",
       "2            2457       9.5           9.0       9.0      8.9   \n",
       "3            2017       9.4           8.7       8.8      8.9   \n",
       "4            2059       9.2           9.6      10.0      9.6   \n",
       "...           ...       ...           ...       ...      ...   \n",
       "1631         4153       8.6           7.7       8.4      7.9   \n",
       "1632         5058      10.0          10.0      10.0     10.0   \n",
       "1633         6655       9.3           9.5       9.1      9.1   \n",
       "1634         5174       7.2           6.3       6.3      6.3   \n",
       "1636         5878       9.2           8.1       8.8      8.3   \n",
       "\n",
       "      Stosunek jakości do ceny  Lokalizacja  Bezpłatne WiFi  ...  Kryty basen  \\\n",
       "0                          8.3          9.6             8.7  ...          0.0   \n",
       "1                          9.3          9.5             9.2  ...          0.0   \n",
       "2                          9.0          8.4             8.7  ...          0.0   \n",
       "3                          8.7          9.5             9.6  ...          0.0   \n",
       "4                          9.6         10.0             0.0  ...          0.0   \n",
       "...                        ...          ...             ...  ...          ...   \n",
       "1631                       7.9          7.7            10.0  ...          0.0   \n",
       "1632                      10.0         10.0             0.0  ...          0.0   \n",
       "1633                       9.1          8.9             0.0  ...          0.0   \n",
       "1634                       6.0          8.0             0.0  ...          0.0   \n",
       "1636                       9.4          8.8             0.0  ...          0.0   \n",
       "\n",
       "      Centrum wellness  Usługi dodatkowe  Usługi  Basen i odnowa biologiczna  \\\n",
       "0                  0.0               0.0     0.0                         0.0   \n",
       "1                  0.0               0.0     0.0                         0.0   \n",
       "2                  0.0               0.0     0.0                         0.0   \n",
       "3                  0.0               0.0     0.0                         0.0   \n",
       "4                  0.0               0.0     0.0                         0.0   \n",
       "...                ...               ...     ...                         ...   \n",
       "1631               0.0               0.0     0.0                         0.0   \n",
       "1632               1.0               0.0     0.0                         0.0   \n",
       "1633               0.0               0.0     0.0                         0.0   \n",
       "1634               0.0               0.0     0.0                         0.0   \n",
       "1636               0.0               0.0     0.0                         0.0   \n",
       "\n",
       "      Pomieszczenia ogólnodostępne  2 basenów  Odkryty basen  3 basenów  \\\n",
       "0                              0.0        0.0            0.0        0.0   \n",
       "1                              0.0        0.0            0.0        0.0   \n",
       "2                              0.0        0.0            0.0        0.0   \n",
       "3                              0.0        0.0            0.0        0.0   \n",
       "4                              0.0        0.0            0.0        0.0   \n",
       "...                            ...        ...            ...        ...   \n",
       "1631                           0.0        0.0            0.0        0.0   \n",
       "1632                           0.0        0.0            1.0        0.0   \n",
       "1633                           0.0        0.0            0.0        0.0   \n",
       "1634                           0.0        0.0            0.0        0.0   \n",
       "1636                           0.0        0.0            0.0        0.0   \n",
       "\n",
       "      Basen – odkryty (dla dzieci)  \n",
       "0                              0.0  \n",
       "1                              0.0  \n",
       "2                              0.0  \n",
       "3                              0.0  \n",
       "4                              0.0  \n",
       "...                            ...  \n",
       "1631                           0.0  \n",
       "1632                           0.0  \n",
       "1633                           0.0  \n",
       "1634                           0.0  \n",
       "1636                           0.0  \n",
       "\n",
       "[1482 rows x 45 columns]"
      ]
     },
     "execution_count": 107,
     "metadata": {},
     "output_type": "execute_result"
    }
   ],
   "source": [
    "def Make_DF_Count_Facilities(df:pd.DataFrame, cattegory_must_have):\n",
    "    df_counted = pd.DataFrame()\n",
    "    cattegory_to_merge = Choose_Series(df, cattegory_must_have)\n",
    "    \n",
    "    for col in cattegory_must_have:\n",
    "        df_counted[col] = df[col]\n",
    "    for col in cattegory_to_merge:\n",
    "        df_counted[col] = 0\n",
    "    merge_dict = {x:[] for x in cattegory_to_merge}\n",
    "    \n",
    "    for col in df:\n",
    "        col_categoty = col.split(':')[0]\n",
    "        if col_categoty in cattegory_to_merge:\n",
    "            merge_dict[col_categoty].append(col)\n",
    "    for cattegory in cattegory_to_merge:\n",
    "        for x in merge_dict[cattegory]:\n",
    "            df_counted[cattegory] += df[x]\n",
    "    \n",
    "    #print(merge_dict)\n",
    "    return df_counted\n",
    "\n",
    "df = Make_DF_Count_Facilities(df, cattegory_must_have)\n",
    "category_to_merge =  Choose_Series(df,cattegory_must_have)\n",
    "Apply_Rule(df, category_to_merge)\n",
    "df"
   ]
  },
  {
   "cell_type": "code",
   "execution_count": 108,
   "metadata": {},
   "outputs": [],
   "source": [
    "df_without_name = df.drop(columns=['hotel_name','hotel_city'])\n",
    "y = df_without_name['hotel_price']\n",
    "X = df_without_name.drop(columns=['hotel_price'])\n",
    "X_train, X_test, y_train, y_test = train_test_split(X, y, test_size=0.3, random_state=44)"
   ]
  },
  {
   "cell_type": "code",
   "execution_count": 109,
   "metadata": {},
   "outputs": [],
   "source": [
    "from sklearn.tree import DecisionTreeRegressor\n",
    "\n",
    "DTR = DecisionTreeRegressor(random_state=0,max_depth=4)\n",
    "DTR.fit(X_train, y_train)\n",
    "predictons = DTR.predict(X_test)"
   ]
  },
  {
   "cell_type": "code",
   "execution_count": 110,
   "metadata": {},
   "outputs": [
    {
     "name": "stdout",
     "output_type": "stream",
     "text": [
      "r2 score 0.32082325977007353\n",
      "mean square 1067276.551069815\n"
     ]
    }
   ],
   "source": [
    "from sklearn.metrics import mean_squared_error, r2_score\n",
    "\n",
    "print(f'r2 score {r2_score(y_test, predictons)}')\n",
    "print(f'mean square {mean_squared_error(y_test, predictons)}')"
   ]
  },
  {
   "cell_type": "code",
   "execution_count": 111,
   "metadata": {},
   "outputs": [],
   "source": [
    "from sklearn.ensemble import RandomForestRegressor\n",
    "\n",
    "RFR = RandomForestRegressor(random_state=0)\n",
    "RFR.fit(X_train, y_train)\n",
    "predictons = RFR.predict(X_test)"
   ]
  },
  {
   "cell_type": "code",
   "execution_count": 112,
   "metadata": {},
   "outputs": [
    {
     "name": "stdout",
     "output_type": "stream",
     "text": [
      "r2 score 0.37634169862956746\n",
      "mean square 980033.3867549099\n"
     ]
    }
   ],
   "source": [
    "from sklearn.metrics import mean_squared_error, r2_score\n",
    "\n",
    "print(f'r2 score {r2_score(y_test, predictons)}')\n",
    "print(f'mean square {mean_squared_error(y_test, predictons)}')"
   ]
  },
  {
   "cell_type": "code",
   "execution_count": 113,
   "metadata": {},
   "outputs": [
    {
     "data": {
      "application/vnd.plotly.v1+json": {
       "config": {
        "plotlyServerURL": "https://plot.ly"
       },
       "data": [
        {
         "alignmentgroup": "True",
         "hovertemplate": "x=%{x}<br>y=%{y}<extra></extra>",
         "legendgroup": "",
         "marker": {
          "color": "#636efa",
          "pattern": {
           "shape": ""
          }
         },
         "name": "",
         "offsetgroup": "",
         "orientation": "h",
         "showlegend": false,
         "textposition": "auto",
         "type": "bar",
         "x": [
          0.00005121573028604602,
          0.0004733180187785252,
          0.000512771972141184,
          0.001805928668465651,
          0.0020328143245025828,
          0.002684753584885281,
          0.0036990997280363443,
          0.0037706371916326918,
          0.004123609345140104,
          0.005266403948622562,
          0.0053364582502633765,
          0.00565430658480964,
          0.0059895932203406456,
          0.006164170884913733,
          0.006637976778942983,
          0.008591037898274903,
          0.009224166254529827,
          0.009239280345857208,
          0.009619534116436585,
          0.009838468189430693,
          0.010055948025162435,
          0.010099085104553405,
          0.010110834266837882,
          0.010517290542786127,
          0.013194638564370613,
          0.013704506889873498,
          0.01604515855441053,
          0.023311975366223668,
          0.023715032991581175,
          0.025323242541031247,
          0.03929665103666262,
          0.043466897913744786,
          0.04810448506537169,
          0.05030036658530241,
          0.052293358258697645,
          0.05587245170084296,
          0.060312036962426534,
          0.06077826124691485,
          0.06385084100096944,
          0.06629249361695991,
          0.10085349017925983,
          0.10178540854972619
         ],
         "xaxis": "x",
         "y": [
          "Basen – odkryty (dla dzieci)",
          "Basen i odnowa biologiczna",
          "Języki",
          "3 basenów",
          "Usługi dodatkowe",
          "Media/Technologia",
          "Widok",
          "Odkryty basen",
          "Łazienka",
          "Kuchnia",
          "Sklepy",
          "Udogodnienia w pokoju",
          "Okolica",
          "Sypialnia",
          "Kryty basen",
          "Cechy budynku",
          "Rekreacja",
          "Zaplecze odnowy biologicznej",
          "Bezpieczeństwo",
          "Usługi",
          "Usługi dla rodzin i oferta rozrywkowa",
          "Usługi recepcji",
          "Udogodnienia dla niepełnosprawnych",
          "Parking",
          "Okolica i widok",
          "Transport",
          "Pomieszczenia ogólnodostępne",
          "2 basenów",
          "Usługi sprzątania",
          "Posiłki i napoje",
          "Centrum wellness",
          "Bezpłatne WiFi",
          "Czystość",
          "Komfort",
          "Zaplecze biznesowe",
          "Ogólne",
          "Różne",
          "Personel",
          "Stosunek jakości do ceny",
          "Udogodnienia",
          "Lokalizacja",
          "Salon"
         ],
         "yaxis": "y"
        }
       ],
       "layout": {
        "barmode": "relative",
        "height": 600,
        "legend": {
         "tracegroupgap": 0
        },
        "template": {
         "data": {
          "bar": [
           {
            "error_x": {
             "color": "#2a3f5f"
            },
            "error_y": {
             "color": "#2a3f5f"
            },
            "marker": {
             "line": {
              "color": "#E5ECF6",
              "width": 0.5
             },
             "pattern": {
              "fillmode": "overlay",
              "size": 10,
              "solidity": 0.2
             }
            },
            "type": "bar"
           }
          ],
          "barpolar": [
           {
            "marker": {
             "line": {
              "color": "#E5ECF6",
              "width": 0.5
             },
             "pattern": {
              "fillmode": "overlay",
              "size": 10,
              "solidity": 0.2
             }
            },
            "type": "barpolar"
           }
          ],
          "carpet": [
           {
            "aaxis": {
             "endlinecolor": "#2a3f5f",
             "gridcolor": "white",
             "linecolor": "white",
             "minorgridcolor": "white",
             "startlinecolor": "#2a3f5f"
            },
            "baxis": {
             "endlinecolor": "#2a3f5f",
             "gridcolor": "white",
             "linecolor": "white",
             "minorgridcolor": "white",
             "startlinecolor": "#2a3f5f"
            },
            "type": "carpet"
           }
          ],
          "choropleth": [
           {
            "colorbar": {
             "outlinewidth": 0,
             "ticks": ""
            },
            "type": "choropleth"
           }
          ],
          "contour": [
           {
            "colorbar": {
             "outlinewidth": 0,
             "ticks": ""
            },
            "colorscale": [
             [
              0,
              "#0d0887"
             ],
             [
              0.1111111111111111,
              "#46039f"
             ],
             [
              0.2222222222222222,
              "#7201a8"
             ],
             [
              0.3333333333333333,
              "#9c179e"
             ],
             [
              0.4444444444444444,
              "#bd3786"
             ],
             [
              0.5555555555555556,
              "#d8576b"
             ],
             [
              0.6666666666666666,
              "#ed7953"
             ],
             [
              0.7777777777777778,
              "#fb9f3a"
             ],
             [
              0.8888888888888888,
              "#fdca26"
             ],
             [
              1,
              "#f0f921"
             ]
            ],
            "type": "contour"
           }
          ],
          "contourcarpet": [
           {
            "colorbar": {
             "outlinewidth": 0,
             "ticks": ""
            },
            "type": "contourcarpet"
           }
          ],
          "heatmap": [
           {
            "colorbar": {
             "outlinewidth": 0,
             "ticks": ""
            },
            "colorscale": [
             [
              0,
              "#0d0887"
             ],
             [
              0.1111111111111111,
              "#46039f"
             ],
             [
              0.2222222222222222,
              "#7201a8"
             ],
             [
              0.3333333333333333,
              "#9c179e"
             ],
             [
              0.4444444444444444,
              "#bd3786"
             ],
             [
              0.5555555555555556,
              "#d8576b"
             ],
             [
              0.6666666666666666,
              "#ed7953"
             ],
             [
              0.7777777777777778,
              "#fb9f3a"
             ],
             [
              0.8888888888888888,
              "#fdca26"
             ],
             [
              1,
              "#f0f921"
             ]
            ],
            "type": "heatmap"
           }
          ],
          "heatmapgl": [
           {
            "colorbar": {
             "outlinewidth": 0,
             "ticks": ""
            },
            "colorscale": [
             [
              0,
              "#0d0887"
             ],
             [
              0.1111111111111111,
              "#46039f"
             ],
             [
              0.2222222222222222,
              "#7201a8"
             ],
             [
              0.3333333333333333,
              "#9c179e"
             ],
             [
              0.4444444444444444,
              "#bd3786"
             ],
             [
              0.5555555555555556,
              "#d8576b"
             ],
             [
              0.6666666666666666,
              "#ed7953"
             ],
             [
              0.7777777777777778,
              "#fb9f3a"
             ],
             [
              0.8888888888888888,
              "#fdca26"
             ],
             [
              1,
              "#f0f921"
             ]
            ],
            "type": "heatmapgl"
           }
          ],
          "histogram": [
           {
            "marker": {
             "pattern": {
              "fillmode": "overlay",
              "size": 10,
              "solidity": 0.2
             }
            },
            "type": "histogram"
           }
          ],
          "histogram2d": [
           {
            "colorbar": {
             "outlinewidth": 0,
             "ticks": ""
            },
            "colorscale": [
             [
              0,
              "#0d0887"
             ],
             [
              0.1111111111111111,
              "#46039f"
             ],
             [
              0.2222222222222222,
              "#7201a8"
             ],
             [
              0.3333333333333333,
              "#9c179e"
             ],
             [
              0.4444444444444444,
              "#bd3786"
             ],
             [
              0.5555555555555556,
              "#d8576b"
             ],
             [
              0.6666666666666666,
              "#ed7953"
             ],
             [
              0.7777777777777778,
              "#fb9f3a"
             ],
             [
              0.8888888888888888,
              "#fdca26"
             ],
             [
              1,
              "#f0f921"
             ]
            ],
            "type": "histogram2d"
           }
          ],
          "histogram2dcontour": [
           {
            "colorbar": {
             "outlinewidth": 0,
             "ticks": ""
            },
            "colorscale": [
             [
              0,
              "#0d0887"
             ],
             [
              0.1111111111111111,
              "#46039f"
             ],
             [
              0.2222222222222222,
              "#7201a8"
             ],
             [
              0.3333333333333333,
              "#9c179e"
             ],
             [
              0.4444444444444444,
              "#bd3786"
             ],
             [
              0.5555555555555556,
              "#d8576b"
             ],
             [
              0.6666666666666666,
              "#ed7953"
             ],
             [
              0.7777777777777778,
              "#fb9f3a"
             ],
             [
              0.8888888888888888,
              "#fdca26"
             ],
             [
              1,
              "#f0f921"
             ]
            ],
            "type": "histogram2dcontour"
           }
          ],
          "mesh3d": [
           {
            "colorbar": {
             "outlinewidth": 0,
             "ticks": ""
            },
            "type": "mesh3d"
           }
          ],
          "parcoords": [
           {
            "line": {
             "colorbar": {
              "outlinewidth": 0,
              "ticks": ""
             }
            },
            "type": "parcoords"
           }
          ],
          "pie": [
           {
            "automargin": true,
            "type": "pie"
           }
          ],
          "scatter": [
           {
            "fillpattern": {
             "fillmode": "overlay",
             "size": 10,
             "solidity": 0.2
            },
            "type": "scatter"
           }
          ],
          "scatter3d": [
           {
            "line": {
             "colorbar": {
              "outlinewidth": 0,
              "ticks": ""
             }
            },
            "marker": {
             "colorbar": {
              "outlinewidth": 0,
              "ticks": ""
             }
            },
            "type": "scatter3d"
           }
          ],
          "scattercarpet": [
           {
            "marker": {
             "colorbar": {
              "outlinewidth": 0,
              "ticks": ""
             }
            },
            "type": "scattercarpet"
           }
          ],
          "scattergeo": [
           {
            "marker": {
             "colorbar": {
              "outlinewidth": 0,
              "ticks": ""
             }
            },
            "type": "scattergeo"
           }
          ],
          "scattergl": [
           {
            "marker": {
             "colorbar": {
              "outlinewidth": 0,
              "ticks": ""
             }
            },
            "type": "scattergl"
           }
          ],
          "scattermapbox": [
           {
            "marker": {
             "colorbar": {
              "outlinewidth": 0,
              "ticks": ""
             }
            },
            "type": "scattermapbox"
           }
          ],
          "scatterpolar": [
           {
            "marker": {
             "colorbar": {
              "outlinewidth": 0,
              "ticks": ""
             }
            },
            "type": "scatterpolar"
           }
          ],
          "scatterpolargl": [
           {
            "marker": {
             "colorbar": {
              "outlinewidth": 0,
              "ticks": ""
             }
            },
            "type": "scatterpolargl"
           }
          ],
          "scatterternary": [
           {
            "marker": {
             "colorbar": {
              "outlinewidth": 0,
              "ticks": ""
             }
            },
            "type": "scatterternary"
           }
          ],
          "surface": [
           {
            "colorbar": {
             "outlinewidth": 0,
             "ticks": ""
            },
            "colorscale": [
             [
              0,
              "#0d0887"
             ],
             [
              0.1111111111111111,
              "#46039f"
             ],
             [
              0.2222222222222222,
              "#7201a8"
             ],
             [
              0.3333333333333333,
              "#9c179e"
             ],
             [
              0.4444444444444444,
              "#bd3786"
             ],
             [
              0.5555555555555556,
              "#d8576b"
             ],
             [
              0.6666666666666666,
              "#ed7953"
             ],
             [
              0.7777777777777778,
              "#fb9f3a"
             ],
             [
              0.8888888888888888,
              "#fdca26"
             ],
             [
              1,
              "#f0f921"
             ]
            ],
            "type": "surface"
           }
          ],
          "table": [
           {
            "cells": {
             "fill": {
              "color": "#EBF0F8"
             },
             "line": {
              "color": "white"
             }
            },
            "header": {
             "fill": {
              "color": "#C8D4E3"
             },
             "line": {
              "color": "white"
             }
            },
            "type": "table"
           }
          ]
         },
         "layout": {
          "annotationdefaults": {
           "arrowcolor": "#2a3f5f",
           "arrowhead": 0,
           "arrowwidth": 1
          },
          "autotypenumbers": "strict",
          "coloraxis": {
           "colorbar": {
            "outlinewidth": 0,
            "ticks": ""
           }
          },
          "colorscale": {
           "diverging": [
            [
             0,
             "#8e0152"
            ],
            [
             0.1,
             "#c51b7d"
            ],
            [
             0.2,
             "#de77ae"
            ],
            [
             0.3,
             "#f1b6da"
            ],
            [
             0.4,
             "#fde0ef"
            ],
            [
             0.5,
             "#f7f7f7"
            ],
            [
             0.6,
             "#e6f5d0"
            ],
            [
             0.7,
             "#b8e186"
            ],
            [
             0.8,
             "#7fbc41"
            ],
            [
             0.9,
             "#4d9221"
            ],
            [
             1,
             "#276419"
            ]
           ],
           "sequential": [
            [
             0,
             "#0d0887"
            ],
            [
             0.1111111111111111,
             "#46039f"
            ],
            [
             0.2222222222222222,
             "#7201a8"
            ],
            [
             0.3333333333333333,
             "#9c179e"
            ],
            [
             0.4444444444444444,
             "#bd3786"
            ],
            [
             0.5555555555555556,
             "#d8576b"
            ],
            [
             0.6666666666666666,
             "#ed7953"
            ],
            [
             0.7777777777777778,
             "#fb9f3a"
            ],
            [
             0.8888888888888888,
             "#fdca26"
            ],
            [
             1,
             "#f0f921"
            ]
           ],
           "sequentialminus": [
            [
             0,
             "#0d0887"
            ],
            [
             0.1111111111111111,
             "#46039f"
            ],
            [
             0.2222222222222222,
             "#7201a8"
            ],
            [
             0.3333333333333333,
             "#9c179e"
            ],
            [
             0.4444444444444444,
             "#bd3786"
            ],
            [
             0.5555555555555556,
             "#d8576b"
            ],
            [
             0.6666666666666666,
             "#ed7953"
            ],
            [
             0.7777777777777778,
             "#fb9f3a"
            ],
            [
             0.8888888888888888,
             "#fdca26"
            ],
            [
             1,
             "#f0f921"
            ]
           ]
          },
          "colorway": [
           "#636efa",
           "#EF553B",
           "#00cc96",
           "#ab63fa",
           "#FFA15A",
           "#19d3f3",
           "#FF6692",
           "#B6E880",
           "#FF97FF",
           "#FECB52"
          ],
          "font": {
           "color": "#2a3f5f"
          },
          "geo": {
           "bgcolor": "white",
           "lakecolor": "white",
           "landcolor": "#E5ECF6",
           "showlakes": true,
           "showland": true,
           "subunitcolor": "white"
          },
          "hoverlabel": {
           "align": "left"
          },
          "hovermode": "closest",
          "mapbox": {
           "style": "light"
          },
          "paper_bgcolor": "white",
          "plot_bgcolor": "#E5ECF6",
          "polar": {
           "angularaxis": {
            "gridcolor": "white",
            "linecolor": "white",
            "ticks": ""
           },
           "bgcolor": "#E5ECF6",
           "radialaxis": {
            "gridcolor": "white",
            "linecolor": "white",
            "ticks": ""
           }
          },
          "scene": {
           "xaxis": {
            "backgroundcolor": "#E5ECF6",
            "gridcolor": "white",
            "gridwidth": 2,
            "linecolor": "white",
            "showbackground": true,
            "ticks": "",
            "zerolinecolor": "white"
           },
           "yaxis": {
            "backgroundcolor": "#E5ECF6",
            "gridcolor": "white",
            "gridwidth": 2,
            "linecolor": "white",
            "showbackground": true,
            "ticks": "",
            "zerolinecolor": "white"
           },
           "zaxis": {
            "backgroundcolor": "#E5ECF6",
            "gridcolor": "white",
            "gridwidth": 2,
            "linecolor": "white",
            "showbackground": true,
            "ticks": "",
            "zerolinecolor": "white"
           }
          },
          "shapedefaults": {
           "line": {
            "color": "#2a3f5f"
           }
          },
          "ternary": {
           "aaxis": {
            "gridcolor": "white",
            "linecolor": "white",
            "ticks": ""
           },
           "baxis": {
            "gridcolor": "white",
            "linecolor": "white",
            "ticks": ""
           },
           "bgcolor": "#E5ECF6",
           "caxis": {
            "gridcolor": "white",
            "linecolor": "white",
            "ticks": ""
           }
          },
          "title": {
           "x": 0.05
          },
          "xaxis": {
           "automargin": true,
           "gridcolor": "white",
           "linecolor": "white",
           "ticks": "",
           "title": {
            "standoff": 15
           },
           "zerolinecolor": "white",
           "zerolinewidth": 2
          },
          "yaxis": {
           "automargin": true,
           "gridcolor": "white",
           "linecolor": "white",
           "ticks": "",
           "title": {
            "standoff": 15
           },
           "zerolinecolor": "white",
           "zerolinewidth": 2
          }
         }
        },
        "title": {
         "text": "Wykres miary ważności atrybutów"
        },
        "xaxis": {
         "anchor": "y",
         "domain": [
          0,
          1
         ],
         "title": {
          "text": "wartość"
         }
        },
        "yaxis": {
         "anchor": "x",
         "domain": [
          0,
          1
         ],
         "title": {
          "text": "atrybuty"
         }
        }
       }
      }
     },
     "metadata": {},
     "output_type": "display_data"
    }
   ],
   "source": [
    "sort = RFR.feature_importances_.argsort()\n",
    "fig = px.bar(y=X.columns[sort], x=RFR.feature_importances_[sort], height=600, title='Wykres miary ważności atrybutów')\n",
    "fig.update_layout(xaxis_title='wartość',yaxis_title='atrybuty')\n",
    "fig.show()"
   ]
  }
 ],
 "metadata": {
  "kernelspec": {
   "display_name": "Python 3.10.4 ('PAD')",
   "language": "python",
   "name": "python3"
  },
  "language_info": {
   "codemirror_mode": {
    "name": "ipython",
    "version": 3
   },
   "file_extension": ".py",
   "mimetype": "text/x-python",
   "name": "python",
   "nbconvert_exporter": "python",
   "pygments_lexer": "ipython3",
   "version": "3.10.4"
  },
  "orig_nbformat": 4,
  "vscode": {
   "interpreter": {
    "hash": "b9f784632b142558421957d14033287e602729fbcb5ff7dd2a51001edb95a0e2"
   }
  }
 },
 "nbformat": 4,
 "nbformat_minor": 2
}
